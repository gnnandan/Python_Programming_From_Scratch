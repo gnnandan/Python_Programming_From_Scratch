{
 "cells": [
  {
   "attachments": {},
   "cell_type": "markdown",
   "metadata": {},
   "source": [
    "## Abstraction\n",
    "- It is the process of handling complexity by hiding unnecessary information from the user\n",
    "- Abstract classes that cannot be instantiated. This means that we cannot create objects of an abstract class and these are only meant to be inherited. Then an object of the derived class is used to access the features of the base class.\n",
    "- These are specifically defined to lay a foundation of other classes that exhibit common behavior or characteristics.\n",
    "- Abstraction in Python is a concept in object-oriented programming that allows you to focus on the essential attributes and behaviors of an object while hiding the implementation details. It helps in managing the complexity of a system by providing a simplified interface to interact with objects.\n",
    "- Abstraction is achieved through abstract classes and interfaces. In Python, abstraction is typically implemented using abstract base classes (ABCs) provided by the abc module.\n",
    "- The abc module also provides the **@abstractmethod decorator** for indicating abstract methods.\n",
    "\n",
    "**Important Message**\n",
    "\n",
    "- 🔰 Notes Link - [Python Learning From Zero to Hero](https://gnnandan.notion.site/Python-Learning-b3aa7ed958fd44659aa1be95f0f225a6)\n",
    "- 🔰 Open Source Developers Community Link (OSDC) - [Curious Developers Community](https://linktr.ee/curiousdevelopers.community) \n",
    "- 🔰 Official Website - [Curious Community Ecosystem](https://curiousdevelopers.in)"
   ]
  },
  {
   "cell_type": "code",
   "execution_count": 2,
   "metadata": {},
   "outputs": [
    {
     "name": "stdout",
     "output_type": "stream",
     "text": [
      "Orange Fruit is sweet and sour, also contains rich in vitamin c\n",
      "Orange Fruit will come in orange and green color\n",
      "Apple Fruit is sweet, also contains rich in vitamins\n",
      "Apple Fruit will come in red and green color\n"
     ]
    }
   ],
   "source": [
    "# example\n",
    "\n",
    "\"\"\"\n",
    "1. to achieve abstraction in python we need to inport abstractmethod from class abc\n",
    "2. we need to use @abstractmethod decorator to specify it is abstractmethod\n",
    "\"\"\"\n",
    "# \n",
    "\n",
    "from abc import abstractmethod\n",
    "\n",
    "class fruit:\n",
    "  \n",
    "  # abstractmethods\n",
    "  @abstractmethod\n",
    "  def taste():\n",
    "    pass\n",
    "  \n",
    "  @abstractmethod\n",
    "  def color():\n",
    "    pass\n",
    "  \n",
    "  # non abstract methods/special method\n",
    "  def isFruit():\n",
    "    print(\"We are specifying fruits taste and color\")\n",
    "    \n",
    "class orange(fruit):\n",
    "  def taste(self):\n",
    "    print(\"Orange Fruit is sweet and sour, also contains rich in vitamin c\") \n",
    "  \n",
    "  def color(self):\n",
    "    print(\"Orange Fruit will come in orange and green color\")\n",
    "    \n",
    "class apple(fruit):\n",
    "  def taste(self):\n",
    "    print(\"Apple Fruit is sweet, also contains rich in vitamins\") \n",
    "  \n",
    "  def color(self):\n",
    "    print(\"Apple Fruit will come in red and green color\")\n",
    "    \n",
    "# object creation\n",
    "\n",
    "orangeFruit = orange()\n",
    "orangeFruit.taste()\n",
    "orangeFruit.color()\n",
    "\n",
    "appleFruit = apple()\n",
    "appleFruit.taste()\n",
    "appleFruit.color()"
   ]
  },
  {
   "cell_type": "code",
   "execution_count": null,
   "metadata": {},
   "outputs": [],
   "source": []
  },
  {
   "cell_type": "code",
   "execution_count": null,
   "metadata": {},
   "outputs": [],
   "source": []
  }
 ],
 "metadata": {
  "kernelspec": {
   "display_name": "base",
   "language": "python",
   "name": "python3"
  },
  "language_info": {
   "codemirror_mode": {
    "name": "ipython",
    "version": 3
   },
   "file_extension": ".py",
   "mimetype": "text/x-python",
   "name": "python",
   "nbconvert_exporter": "python",
   "pygments_lexer": "ipython3",
   "version": "3.9.13"
  },
  "orig_nbformat": 4
 },
 "nbformat": 4,
 "nbformat_minor": 2
}
