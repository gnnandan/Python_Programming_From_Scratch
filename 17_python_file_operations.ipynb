{
 "cells": [
  {
   "attachments": {},
   "cell_type": "markdown",
   "metadata": {},
   "source": [
    "## File Operations\n",
    "\n",
    "- All file operations start with **open()** function, and also it takes 2 parameters \n",
    "  - 1. path parameter\n",
    "  - 2. mode \n",
    "    - 1. r -> read mode, Opens a file for reading, error if the file does not exist\n",
    "    - 2. w -> write mode, creates the file if it does not exist\n",
    "    - 3. a -> append mode, Opens a file for appending, creates the file if it does not exist\n",
    "    - 4. x -> create mode, returns an error if the file exists\n",
    "  - 3. in addition to mode, we also can specify 't' for text type and 'b' for binary type  "
   ]
  },
  {
   "attachments": {},
   "cell_type": "markdown",
   "metadata": {},
   "source": [
    "### Opening a file and reading the data\n",
    "\n",
    "#### way 1"
   ]
  },
  {
   "cell_type": "code",
   "execution_count": 10,
   "metadata": {},
   "outputs": [
    {
     "name": "stdout",
     "output_type": "stream",
     "text": [
      "This is line 1 \n",
      "This is line 2\n",
      "This is line 3\n",
      "Operations is:  r\n",
      "File name is:  C:/Users/NANDANGN/Desktop/Python Programming/Python_Programming/fileOperationSample.txt\n"
     ]
    }
   ],
   "source": [
    "file = open(\"C:/Users/NANDANGN/Desktop/Python Programming/Python_Programming/fileOperationSample.txt\",'r')\n",
    "print(file.read()) # displays the data of a file\n",
    "\n",
    "print(\"Operations is: \",file.mode)\n",
    "print(\"File name is: \",file.name)"
   ]
  },
  {
   "attachments": {},
   "cell_type": "markdown",
   "metadata": {},
   "source": [
    "#### way 2"
   ]
  },
  {
   "cell_type": "code",
   "execution_count": 21,
   "metadata": {},
   "outputs": [
    {
     "name": "stdout",
     "output_type": "stream",
     "text": [
      "This is line 1 \n",
      "\n"
     ]
    }
   ],
   "source": [
    "with open(\"C:/Users/NANDANGN/Desktop/Python Programming/Python_Programming/fileOperationSample.txt\",\"r\") as file:\n",
    "  \n",
    "  # reading the entire data\n",
    "  # print(file.read())\n",
    "  \n",
    "  # reading specified number of characters\n",
    "  # print(file.read(3))\n",
    "  \n",
    "  # reading the first line of a file\n",
    "  print(file.readline())"
   ]
  },
  {
   "attachments": {},
   "cell_type": "markdown",
   "metadata": {},
   "source": [
    "##### Looping through each line"
   ]
  },
  {
   "cell_type": "code",
   "execution_count": 22,
   "metadata": {},
   "outputs": [
    {
     "name": "stdout",
     "output_type": "stream",
     "text": [
      "Iteraation 0, :  This is line 1 \n",
      "\n",
      "Iteraation 1, :  This is line 2\n",
      "\n",
      "Iteraation 2, :  This is line 3\n"
     ]
    }
   ],
   "source": [
    "with open(\"C:/Users/NANDANGN/Desktop/Python Programming/Python_Programming/fileOperationSample.txt\",\"r\") as file:\n",
    "  i = 0\n",
    "  for line in file:\n",
    "    print(f\"Iteraation {str(i)}, : \", line)\n",
    "    i=i+1"
   ]
  },
  {
   "attachments": {},
   "cell_type": "markdown",
   "metadata": {},
   "source": [
    "##### Saving textfile in a list using readlines()"
   ]
  },
  {
   "cell_type": "code",
   "execution_count": 27,
   "metadata": {},
   "outputs": [
    {
     "name": "stdout",
     "output_type": "stream",
     "text": [
      "<class 'list'> ['This is line 1 \\n', 'This is line 2\\n', 'This is line 3']\n",
      "This is line 1 \n",
      "\n",
      "This is line 2\n",
      "\n",
      "This is line 3\n"
     ]
    }
   ],
   "source": [
    "with open(\"C:/Users/NANDANGN/Desktop/Python Programming/Python_Programming/fileOperationSample.txt\",\"r\") as file:\n",
    "  fileList = file.readlines()\n",
    "  print(type(fileList),fileList)\n",
    "  \n",
    "# accessing individual elements of a list\n",
    "print(fileList[0])\n",
    "print(fileList[1])\n",
    "print(fileList[2])"
   ]
  },
  {
   "cell_type": "code",
   "execution_count": null,
   "metadata": {},
   "outputs": [],
   "source": []
  }
 ],
 "metadata": {
  "kernelspec": {
   "display_name": "base",
   "language": "python",
   "name": "python3"
  },
  "language_info": {
   "codemirror_mode": {
    "name": "ipython",
    "version": 3
   },
   "file_extension": ".py",
   "mimetype": "text/x-python",
   "name": "python",
   "nbconvert_exporter": "python",
   "pygments_lexer": "ipython3",
   "version": "3.9.13"
  },
  "orig_nbformat": 4
 },
 "nbformat": 4,
 "nbformat_minor": 2
}
