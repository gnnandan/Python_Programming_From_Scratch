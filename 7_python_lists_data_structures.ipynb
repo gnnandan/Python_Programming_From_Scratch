{
 "cells": [
  {
   "attachments": {},
   "cell_type": "markdown",
   "metadata": {},
   "source": [
    "## Lists"
   ]
  },
  {
   "cell_type": "code",
   "execution_count": 26,
   "metadata": {},
   "outputs": [
    {
     "name": "stdout",
     "output_type": "stream",
     "text": [
      "['Apple', 'Mango', 'Orange', 'Banana', 'Grapes']\n",
      "Orange\n",
      "['Mango']\n",
      "Accessing elements from beginning ['Apple', 'Mango']\n",
      "Accessing elements from ending ['Orange', 'Banana', 'Grapes']\n",
      "Negative Indexing elements ['Apple', 'Mango', 'Orange', 'Banana']\n",
      "Negative Indexing elements ['Banana']\n",
      "<class 'list'>\n",
      "After modification ['Apple', 'Mango', 'Watermelon', 'Banana', 'Grapes']\n",
      "count 0 = Apple\n",
      "count 1 = Mango\n",
      "count 2 = Watermelon\n",
      "count 3 = Banana\n",
      "count 4 = Grapes\n",
      "After removal ['Apple', 'Watermelon', 'Banana', 'Grapes']\n",
      "List with different type of elements ['Curious Developers Community', 7, 7.3, True]\n"
     ]
    }
   ],
   "source": [
    "# Creating list\n",
    "\n",
    "myList = [\"Apple\", \"Mango\",\"Orange\",\"Banana\",\"Grapes\"]\n",
    "print(myList)\n",
    "\n",
    "# accessing the elements of list\n",
    "print(myList[2])\n",
    "\n",
    "# accessing range of elements\n",
    "print(myList[1:2])\n",
    "print(\"Accessing elements from beginning {}\".format(myList[:2]))\n",
    "print(\"Accessing elements from ending {}\".format(myList[2:]))\n",
    "print(\"Negative Indexing elements {}\".format(myList[:-1]))\n",
    "print(\"Negative Indexing elements {}\".format(myList[-2:-1]))\n",
    "\n",
    "# checking datatype\n",
    "print(type(myList))\n",
    "\n",
    "# modifying the list\n",
    "myList[2] = \"Watermelon\"\n",
    "print(\"After modification {}\".format(myList))\n",
    "\n",
    "# iterating over list items\n",
    "fruitsCount = 0\n",
    "for i in myList:\n",
    "  print(\"count {} = {}\".format(fruitsCount,i))\n",
    "  fruitsCount+=1\n",
    "\n",
    "# removing the list item\n",
    "myList.remove(\"Mango\")\n",
    "print(\"After removal {}\".format(myList))\n",
    "\n",
    "# list with different type of elements\n",
    "myList = [\"Curious Developers Community\",7,7.3,True]\n",
    "print(\"List with different type of elements {}\".format(myList))"
   ]
  },
  {
   "cell_type": "code",
   "execution_count": 27,
   "metadata": {},
   "outputs": [
    {
     "data": {
      "text/plain": [
       "['__add__',\n",
       " '__class__',\n",
       " '__class_getitem__',\n",
       " '__contains__',\n",
       " '__delattr__',\n",
       " '__delitem__',\n",
       " '__dir__',\n",
       " '__doc__',\n",
       " '__eq__',\n",
       " '__format__',\n",
       " '__ge__',\n",
       " '__getattribute__',\n",
       " '__getitem__',\n",
       " '__gt__',\n",
       " '__hash__',\n",
       " '__iadd__',\n",
       " '__imul__',\n",
       " '__init__',\n",
       " '__init_subclass__',\n",
       " '__iter__',\n",
       " '__le__',\n",
       " '__len__',\n",
       " '__lt__',\n",
       " '__mul__',\n",
       " '__ne__',\n",
       " '__new__',\n",
       " '__reduce__',\n",
       " '__reduce_ex__',\n",
       " '__repr__',\n",
       " '__reversed__',\n",
       " '__rmul__',\n",
       " '__setattr__',\n",
       " '__setitem__',\n",
       " '__sizeof__',\n",
       " '__str__',\n",
       " '__subclasshook__',\n",
       " 'append',\n",
       " 'clear',\n",
       " 'copy',\n",
       " 'count',\n",
       " 'extend',\n",
       " 'index',\n",
       " 'insert',\n",
       " 'pop',\n",
       " 'remove',\n",
       " 'reverse',\n",
       " 'sort']"
      ]
     },
     "execution_count": 27,
     "metadata": {},
     "output_type": "execute_result"
    }
   ],
   "source": [
    "dir(list)"
   ]
  },
  {
   "attachments": {},
   "cell_type": "markdown",
   "metadata": {},
   "source": [
    "## Important List Methods\n",
    "\n",
    "1. append(element) - Adds an element at the end of the list\n",
    "2. clear() - Removes all the elements from the list\n",
    "3. copy()\t- Returns a copy of the list\n",
    "4. count(value) - Returns the number of elements with the specified value\n",
    "5. extend(iterable -> any iterable like list, tuple etc...) - Add the elements of a list (or any iterable), to the end of the current list\n",
    "6. index(element) - Returns the index of the first element with the specified value\n",
    "7. insert(position, element) - Adds an element at the specified position\n",
    "8. pop(position -> optional) - Removes the element at the specified position\n",
    "9. remove(element) - Removes the item with the specified value\n",
    "10. reverse() - Reverses the order of the list\n",
    "11. sort(reverse=True|False -> optional, key=myFunc -> optional any function to satisfy the soring criteria) - Sorts the list"
   ]
  },
  {
   "cell_type": "code",
   "execution_count": null,
   "metadata": {},
   "outputs": [],
   "source": []
  }
 ],
 "metadata": {
  "kernelspec": {
   "display_name": "base",
   "language": "python",
   "name": "python3"
  },
  "language_info": {
   "codemirror_mode": {
    "name": "ipython",
    "version": 3
   },
   "file_extension": ".py",
   "mimetype": "text/x-python",
   "name": "python",
   "nbconvert_exporter": "python",
   "pygments_lexer": "ipython3",
   "version": "3.9.13"
  },
  "orig_nbformat": 4
 },
 "nbformat": 4,
 "nbformat_minor": 2
}
