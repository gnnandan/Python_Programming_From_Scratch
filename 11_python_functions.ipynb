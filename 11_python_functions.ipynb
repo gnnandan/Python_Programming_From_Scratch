{
 "cells": [
  {
   "attachments": {},
   "cell_type": "markdown",
   "metadata": {},
   "source": [
    "## Functions\n",
    "- A function is a block of code that performs a specific task and can be reused multiple times throughout a program.\n",
    "- Functions are a key component of modular programming, which involves breaking down a program into smaller, more manageable pieces.\n",
    "\n",
    "**Important Message**\n",
    "\n",
    "- 🔰 Notes Link - [Python Learning From Zero to Hero](https://gnnandan.notion.site/Python-Learning-b3aa7ed958fd44659aa1be95f0f225a6)\n",
    "- 🔰 Open Source Developers Community Link (OSDC) - [Curious Developers Community](https://linktr.ee/curiousdevelopers.community) \n",
    "- 🔰 Official Website - [Curious Community Ecosystem](https://curiousdevelopers.in)"
   ]
  },
  {
   "attachments": {},
   "cell_type": "markdown",
   "metadata": {},
   "source": [
    "### Creating a function and calling it"
   ]
  },
  {
   "cell_type": "code",
   "execution_count": 2,
   "metadata": {},
   "outputs": [
    {
     "name": "stdout",
     "output_type": "stream",
     "text": [
      "We are python developers, We create awesome Products\n"
     ]
    }
   ],
   "source": [
    "def myFunc(): #creating a function\n",
    "  print(\"We are python developers, We create awesome Products\") #body of the function\n",
    "  \n",
    "myFunc() #calling the function"
   ]
  },
  {
   "attachments": {},
   "cell_type": "markdown",
   "metadata": {},
   "source": [
    "### Types of functions based on parameters and return types\n",
    "\n",
    "1. function with no parameter and no return type\n",
    "2. function with parameter and no return type\n",
    "3. function with no parameter and with return type\n",
    "4. function with parameter and with return type\n",
    "5. arbitrary function (*args) - If you do not know how many arguments that will be passed into your function\n",
    "6. function with keyword arguments\n",
    "7. function with arbitrary keyword arguments (**kwargs)"
   ]
  },
  {
   "cell_type": "code",
   "execution_count": 26,
   "metadata": {},
   "outputs": [
    {
     "name": "stdout",
     "output_type": "stream",
     "text": [
      "Hello...,\n",
      "I'm a Python Developer, Let's Learn and Grow Together\n"
     ]
    }
   ],
   "source": [
    "# function with no parameter and no return type\n",
    "def myFunc():\n",
    "  print(\"Hello...,\\nI'm a Python Developer, Let's Learn and Grow Together\")\n",
    "  \n",
    "myFunc()"
   ]
  },
  {
   "cell_type": "code",
   "execution_count": 23,
   "metadata": {},
   "outputs": [
    {
     "name": "stdout",
     "output_type": "stream",
     "text": [
      "Hello...,\n",
      "I'm a Python Developer, Let's Learn and Grow Together\n"
     ]
    }
   ],
   "source": [
    "# function with parameter and no return type\n",
    "def myFunc(message):\n",
    "  print(\"Hello...,\\n{}\".format(message))\n",
    "\n",
    "inputMessage = \"I'm a Python Developer, Let's Learn and Grow Together\"\n",
    "myFunc(inputMessage)"
   ]
  },
  {
   "cell_type": "code",
   "execution_count": 24,
   "metadata": {},
   "outputs": [
    {
     "name": "stdout",
     "output_type": "stream",
     "text": [
      "Hello...,\n",
      "I'm a Python Developer, Let's Learn and Grow Together\n"
     ]
    }
   ],
   "source": [
    "# function with no parameter and with return type\n",
    "\n",
    "def myFunc():\n",
    "  return \"Hello...,\\nI'm a Python Developer, Let's Learn and Grow Together\"\n",
    "\n",
    "inputMessage = myFunc()\n",
    "print(inputMessage)"
   ]
  },
  {
   "cell_type": "code",
   "execution_count": 25,
   "metadata": {},
   "outputs": [
    {
     "name": "stdout",
     "output_type": "stream",
     "text": [
      "Hello...,\n",
      "I'm a Python Developer, Let's Learn and Grow Together\n"
     ]
    }
   ],
   "source": [
    "# function with parameter and with return type\n",
    "def myFunc(message):\n",
    "  return \"Hello...,\\n{}\".format(message)\n",
    "\n",
    "inputMessage = \"I'm a Python Developer, Let's Learn and Grow Together\"\n",
    "finalOutput = myFunc(inputMessage)\n",
    "print(finalOutput)\n"
   ]
  },
  {
   "cell_type": "code",
   "execution_count": 1,
   "metadata": {},
   "outputs": [
    {
     "name": "stdout",
     "output_type": "stream",
     "text": [
      "Hello...,\n",
      "I'm a Python Developer, Let's Learn and Grow Together\n",
      "With python i can become -  ('Backend Developer', 'Full Stack Developer', 'AI ML Developer')\n"
     ]
    }
   ],
   "source": [
    "# arbitrary function (*args)\n",
    "\n",
    "def myFunc(*args): # functions that take multiple arguments in each call\n",
    "  print(\"Hello...,\\nI'm a Python Developer, Let's Learn and Grow Together\")\n",
    "  print(\"With python i can become - \",args)\n",
    "\n",
    "myFunc(\"Backend Developer\", \"Full Stack Developer\",\"AI ML Developer\") #multiple arguments"
   ]
  },
  {
   "cell_type": "code",
   "execution_count": 2,
   "metadata": {},
   "outputs": [
    {
     "name": "stdout",
     "output_type": "stream",
     "text": [
      "Software Developer Software Engineer Web Developers\n"
     ]
    }
   ],
   "source": [
    "# function with keyword arguments (key = value)\n",
    "\n",
    "def myFunc(parm1, parm2,parm3): #parameters\n",
    "  print(parm1, parm2,parm3)\n",
    "  \n",
    "\n",
    "myFunc(parm3 = \"Web Developers\",parm1=\"Software Developer\",parm2=\"Software Engineer\") #key = value type arguments passed"
   ]
  },
  {
   "cell_type": "code",
   "execution_count": 3,
   "metadata": {},
   "outputs": [
    {
     "name": "stdout",
     "output_type": "stream",
     "text": [
      "{'parm3': 'Web Developers', 'parm1': 'Software Developer', 'parm2': 'Software Engineer', 'param4': 'Data Scientist', 'param5': 'AI ML Developer'}\n"
     ]
    }
   ],
   "source": [
    "# function with arbitrary keyword arguments (**kwargs)\n",
    "\n",
    "def myFunc(**kwargs): # functions that take multiple keyword arguments in each call\n",
    "  print(kwargs)\n",
    "  \n",
    "#function that take multiple keyword arguments\n",
    "myFunc(parm3 = \"Web Developers\",parm1=\"Software Developer\",parm2=\"Software Engineer\",param4 = \"Data Scientist\",param5=\"AI ML Developer\")"
   ]
  },
  {
   "attachments": {},
   "cell_type": "markdown",
   "metadata": {},
   "source": [
    "## Scopes In Python\n",
    "1. Local Scope - within the function and can able to access inside the fucntions only\n",
    "2. Global Scope - within the main function and can be access entire the program"
   ]
  },
  {
   "cell_type": "code",
   "execution_count": 4,
   "metadata": {},
   "outputs": [
    {
     "name": "stdout",
     "output_type": "stream",
     "text": [
      "We have a open-source community for developers namely - Curious Developers Community\n"
     ]
    }
   ],
   "source": [
    "# local scope\n",
    "\n",
    "def localScope():\n",
    "  community = \"Curious Developers Community\" #local scope\n",
    "  print(\"We have a open-source community for developers namely - {}\".format(community))\n",
    "  \n",
    "localScope()\n",
    "\n",
    "\"\"\"\n",
    "We have a open-source community for developers namely - Curious Developers Community\n",
    "\"\"\"\n"
   ]
  },
  {
   "cell_type": "code",
   "execution_count": 5,
   "metadata": {},
   "outputs": [
    {
     "name": "stdout",
     "output_type": "stream",
     "text": [
      "We have a open-source community for developers along with website namely - Curious Developers Community and https://curiousdevelopers.in\n",
      "Community Website: https://curiousdevelopers.in\n"
     ]
    }
   ],
   "source": [
    "# Global Scope\n",
    "\n",
    "website = \"https://curiousdevelopers.in\" #global scope\n",
    "\n",
    "def globalScope():\n",
    "  community = \"Curious Developers Community\" #local scope\n",
    "  print(\"We have a open-source community for developers along with website namely - {} and {}\".format(community,website))\n",
    "  \n",
    "globalScope()\n",
    "print(\"Community Website: {}\".format(website))\n",
    "\n",
    "\"\"\"\n",
    "We have a open-source community for developers along with website namely - Curious Developers Community and https://curiousdevelopers.in\n",
    "Community Website: https://curiousdevelopers.in\n",
    "\"\"\""
   ]
  },
  {
   "cell_type": "code",
   "execution_count": 7,
   "metadata": {},
   "outputs": [
    {
     "name": "stdout",
     "output_type": "stream",
     "text": [
      "We have a open-source community for developers along with website namely - Curious Developers Community and https://curiousdevelopers.in\n",
      "Community Website: https://curiousdevelopers.in\n"
     ]
    },
    {
     "data": {
      "text/plain": [
       "'\\nWe have a open-source community for developers along with website namely - Curious Developers Community and https://curiousdevelopers.in\\nCommunity Website: https://curiousdevelopers.in\\n'"
      ]
     },
     "execution_count": 7,
     "metadata": {},
     "output_type": "execute_result"
    }
   ],
   "source": [
    "# Global Scope\n",
    "def globalScope():\n",
    "  global website #global scope\n",
    "  website =  \"https://curiousdevelopers.in\" #now it is global scope variable\n",
    "  \n",
    "  \n",
    "  community = \"Curious Developers Community\" #local scope\n",
    "  print(\"We have a open-source community for developers along with website namely - {} and {}\".format(community,website))\n",
    "  \n",
    "globalScope()\n",
    "print(\"Community Website: {}\".format(website))\n",
    "\n",
    "\"\"\"\n",
    "We have a open-source community for developers along with website namely - Curious Developers Community and https://curiousdevelopers.in\n",
    "Community Website: https://curiousdevelopers.in\n",
    "\"\"\""
   ]
  }
 ],
 "metadata": {
  "kernelspec": {
   "display_name": "base",
   "language": "python",
   "name": "python3"
  },
  "language_info": {
   "codemirror_mode": {
    "name": "ipython",
    "version": 3
   },
   "file_extension": ".py",
   "mimetype": "text/x-python",
   "name": "python",
   "nbconvert_exporter": "python",
   "pygments_lexer": "ipython3",
   "version": "3.9.13"
  },
  "orig_nbformat": 4
 },
 "nbformat": 4,
 "nbformat_minor": 2
}
