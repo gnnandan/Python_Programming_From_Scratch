{
 "cells": [
  {
   "attachments": {},
   "cell_type": "markdown",
   "metadata": {},
   "source": [
    "## Constructors\n",
    "- A constructor is a special method that is called when an object is created. It is used to initialize the object's attributes or perform any other setup that needs to be done when the object is first created.\n",
    "\n",
    "**Important Message**\n",
    "\n",
    "- 🔰 Notes Link - [Python Learning From Zero to Hero](https://gnnandan.notion.site/Python-Learning-b3aa7ed958fd44659aa1be95f0f225a6)\n",
    "- 🔰 Open Source Developers Community Link (OSDC) - [Curious Developers Community](https://linktr.ee/curiousdevelopers.community) \n",
    "- 🔰 Official Website - [Curious Community Ecosystem](https://curiousdevelopers.in)"
   ]
  },
  {
   "cell_type": "code",
   "execution_count": 3,
   "metadata": {},
   "outputs": [
    {
     "name": "stdout",
     "output_type": "stream",
     "text": [
      "Name - Curious Ecosystem and Website - http://www.curiousdevelopers.in\n"
     ]
    }
   ],
   "source": [
    "# sample python code with constructor\n",
    "\n",
    "class constructorExample: #class\n",
    "  def __init__(self): #__init__() constructor\n",
    "    \n",
    "    # attributes (name and website)\n",
    "    self.name = \"Curious Ecosystem\" \n",
    "    self.website = \"http://www.curiousdevelopers.in\"\n",
    "    \n",
    "    # printing the name and website\n",
    "    print(f\"Name - {self.name} and Website - {self.website}\")\n",
    "\n",
    "# object creation\n",
    "object = constructorExample() "
   ]
  },
  {
   "attachments": {},
   "cell_type": "markdown",
   "metadata": {},
   "source": [
    "## Types Of Constructors\n",
    "1. Default Constructor - doesn't take any parameter and created automaticallyby python \n",
    "2. Parameterized Constructor - takes one or more arguments"
   ]
  },
  {
   "cell_type": "code",
   "execution_count": 1,
   "metadata": {},
   "outputs": [
    {
     "name": "stdout",
     "output_type": "stream",
     "text": [
      "default constructor example\n"
     ]
    }
   ],
   "source": [
    "# default constructor\n",
    "class defaultConstructor:\n",
    "  sample = \"default constructor example\"  \n",
    "  pass\n",
    "\n",
    "object = defaultConstructor()\n",
    "print(object.sample)"
   ]
  },
  {
   "cell_type": "code",
   "execution_count": 7,
   "metadata": {},
   "outputs": [
    {
     "name": "stdout",
     "output_type": "stream",
     "text": [
      "My name is Nandan and my age is 24\n",
      "My name is Yashas and my age is 24\n"
     ]
    }
   ],
   "source": [
    "# parameterized constructor\n",
    "\n",
    "class parameterizedConstructorExample:\n",
    "  def __init__(self,name,age): # taking parameter name and age\n",
    "    self.name = name \n",
    "    self.age = age\n",
    "    print(f\"My name is {name} and my age is {age}\")\n",
    "    \n",
    "person1 = parameterizedConstructorExample(name = \"Nandan\", age=24)\n",
    "person2 = parameterizedConstructorExample(\"Yashas\",24)\n",
    "\n",
    "\"\"\"\n",
    "My name is Nandan and my age is 24\n",
    "My name is Yashas and my age is 24\n",
    "\"\"\""
   ]
  },
  {
   "attachments": {},
   "cell_type": "markdown",
   "metadata": {},
   "source": [
    "## Simple Example - Counting number of employees"
   ]
  },
  {
   "cell_type": "code",
   "execution_count": 32,
   "metadata": {},
   "outputs": [
    {
     "name": "stdout",
     "output_type": "stream",
     "text": [
      "Total Number of Employees in Curious ecosystem - 2\n"
     ]
    }
   ],
   "source": [
    "class curiousExcosystem:\n",
    "  empCount = 0\n",
    "  def __init__(self):\n",
    "    curiousExcosystem.empCount = curiousExcosystem.empCount + 1\n",
    "    \n",
    "emp1 = curiousExcosystem()\n",
    "emp2 = curiousExcosystem()\n",
    "print(f\"Total Number of Employees in Curious ecosystem - {curiousExcosystem.empCount}\")"
   ]
  },
  {
   "cell_type": "code",
   "execution_count": null,
   "metadata": {},
   "outputs": [],
   "source": []
  }
 ],
 "metadata": {
  "kernelspec": {
   "display_name": "base",
   "language": "python",
   "name": "python3"
  },
  "language_info": {
   "codemirror_mode": {
    "name": "ipython",
    "version": 3
   },
   "file_extension": ".py",
   "mimetype": "text/x-python",
   "name": "python",
   "nbconvert_exporter": "python",
   "pygments_lexer": "ipython3",
   "version": "3.9.13"
  },
  "orig_nbformat": 4
 },
 "nbformat": 4,
 "nbformat_minor": 2
}
