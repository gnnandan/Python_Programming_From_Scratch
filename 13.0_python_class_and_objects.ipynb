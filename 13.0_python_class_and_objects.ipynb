{
 "cells": [
  {
   "attachments": {},
   "cell_type": "markdown",
   "metadata": {},
   "source": [
    "## OOPS Concepts\n",
    "\n",
    "\n",
    "**Important Message**\n",
    "\n",
    "- 🔰 Notes Link - [Python Learning From Zero to Hero](https://gnnandan.notion.site/Python-Learning-b3aa7ed958fd44659aa1be95f0f225a6)\n",
    "- 🔰 Open Source Developers Community Link (OSDC) - [Curious Developers Community](https://linktr.ee/curiousdevelopers.community) \n",
    "- 🔰 Official Website - [Curious Community Ecosystem](https://curiousdevelopers.in)"
   ]
  },
  {
   "cell_type": "code",
   "execution_count": 3,
   "metadata": {},
   "outputs": [
    {
     "name": "stdout",
     "output_type": "stream",
     "text": [
      "Person 1's Information ABC, abc@gmail.com and 1234567890\n",
      "Person 2's Information XYZ, xyz@gmail.com and 1234567890\n"
     ]
    }
   ],
   "source": [
    "# creating a class\n",
    "class information:\n",
    "  name = \"\"\n",
    "  email = \"\"\n",
    "  phone = \"\"\n",
    "  domain = \"\"\n",
    "\n",
    "# object creation\n",
    "person1 = information()\n",
    "person1.name = \"ABC\"\n",
    "person1.email = \"abc@gmail.com\"\n",
    "person1.phone = \"1234567890\"\n",
    "\n",
    "# object creation\n",
    "person2 = information()\n",
    "person2.name = \"XYZ\"\n",
    "person2.email = \"xyz@gmail.com\"\n",
    "person2.phone = \"1234567890\"\n",
    "\n",
    "# printing the information\n",
    "print(\"Person 1's Information {}, {} and {}\".format(person1.name, person1.email, person1.phone))\n",
    "print(\"Person 2's Information {}, {} and {}\".format(person2.name, person2.email, person2.phone))\n",
    "  "
   ]
  },
  {
   "cell_type": "code",
   "execution_count": null,
   "metadata": {},
   "outputs": [],
   "source": [
    "class animals:\n",
    "  def __init__(self,isPetAnimal):\n",
    "    self.isPetAnimal = isPetAnimal\n",
    "    \n",
    "  def confirm(self):\n",
    "    print(f\"{self.isPetAnimal} is a pet animal and, we can keep in home\")\n",
    "\n",
    "animalType = \"dog\"\n",
    "dog = animals(animalType)\n",
    "dog.confirm()\n",
    "\n",
    "animalType = \"cat\"\n",
    "cat = animals(animalType)\n",
    "cat.confirm()"
   ]
  },
  {
   "attachments": {},
   "cell_type": "markdown",
   "metadata": {},
   "source": [
    "## Important Points\n",
    "1. __init__() - > All classes have a function called __init__(), which is always executed when the class is being initiated\n",
    "2. self - > The self parameter is a reference to the current instance of the class, and is used to access variables that belongs to the class and It does not have to be named self, you can call it whatever you like"
   ]
  },
  {
   "cell_type": "code",
   "execution_count": 11,
   "metadata": {},
   "outputs": [
    {
     "name": "stdout",
     "output_type": "stream",
     "text": [
      "Authenticator failed to authenticate, Please try again...\n",
      "Authenticator Succeed\n"
     ]
    },
    {
     "data": {
      "text/plain": [
       "'\\nAuthenticator failed to authenticate, Please try again...\\nAuthenticator Succeed\\n'"
      ]
     },
     "execution_count": 11,
     "metadata": {},
     "output_type": "execute_result"
    }
   ],
   "source": [
    "# example\n",
    "\n",
    "class authenticator:\n",
    "  def __init__(self, username, password):\n",
    "    self.username = username\n",
    "    self.password = password\n",
    "    if(username == \"Nandan\" and password == \"abc\"):\n",
    "      print(\"Authenticator Succeed\")\n",
    "    else:\n",
    "      print(\"Authenticator failed to authenticate, Please try again...\")\n",
    "\n",
    "\n",
    "loginAttempt1 = authenticator(username=\"nandan\",password=\"abcde\")\n",
    "loginAttempt2 = authenticator(username=\"Nandan\",password=\"abc\")\n",
    "\n",
    "\n",
    "\"\"\"\n",
    "Authenticator failed to authenticate, Please try again...\n",
    "Authenticator Succeed\n",
    "\"\"\""
   ]
  },
  {
   "cell_type": "code",
   "execution_count": 17,
   "metadata": {},
   "outputs": [
    {
     "name": "stdout",
     "output_type": "stream",
     "text": [
      "Authenticator failed to authenticate, Please try again...\n",
      "Authenticator Succeed\n"
     ]
    }
   ],
   "source": [
    "class authenticator:\n",
    "  def __init__(self, username, password):\n",
    "    self.username = username\n",
    "    self.password = password\n",
    "  \n",
    "  # dedicated method belongs to class \"Authenticator\"\n",
    "  def validationProcess(self):\n",
    "    if(self.username == \"Nandan\" and self.password == \"abc\"):\n",
    "      print(\"Authenticator Succeed\")\n",
    "    else:\n",
    "      print(\"Authenticator failed to authenticate, Please try again...\")\n",
    "\n",
    "\n",
    "loginAttempt1 = authenticator(username=\"nandan\",password=\"abcde\")\n",
    "# calling dedicated method with referenceVariable \"loginAttempt1\" that belongs to class \"Authenticator\"\n",
    "loginAttempt1.validationProcess()\n",
    "\n",
    "loginAttempt2 = authenticator(username=\"Nandan\",password=\"abc\")\n",
    "# calling dedicated method with referenceVariable \"loginAttempt2\" that belongs to class \"Authenticator\"\n",
    "loginAttempt2.validationProcess()\n",
    "\n",
    "\"\"\"\n",
    "Authenticator failed to authenticate, Please try again...\n",
    "Authenticator Succeed\n",
    "\"\"\""
   ]
  },
  {
   "attachments": {},
   "cell_type": "markdown",
   "metadata": {},
   "source": [
    "## A real world example"
   ]
  },
  {
   "cell_type": "code",
   "execution_count": 27,
   "metadata": {},
   "outputs": [
    {
     "name": "stdout",
     "output_type": "stream",
     "text": [
      "Password is invalid\n"
     ]
    },
    {
     "data": {
      "text/plain": [
       "'\\nAttempt 1\\n=========================\\nAuthenticator Succeed\\nTest True\\nEmail is valid\\nYour name Nandan and Your email nandangn.10@gmail.com is saved in database successfully\\nThank You\\n\\nAttempt 2\\n=========================\\nInvalid username and Invalid password\\n\\nPlease try other scenarious like invalid mail and valid mail\\n\\n'"
      ]
     },
     "execution_count": 27,
     "metadata": {},
     "output_type": "execute_result"
    }
   ],
   "source": [
    "# enhanced version of the password validator\n",
    "class password_validator:\n",
    "  def __init__(self, username, password):\n",
    "    self.username = username\n",
    "    self.password = password\n",
    "    \n",
    "  def validator(self):\n",
    "    if(self.username != \"Nandan\" and self.password != \"abc\"):\n",
    "      print(\"Invalid username and Invalid password\")\n",
    "    elif(self.username == \"Nandan\" and self.password != \"abc\"):\n",
    "      print(\"Password is invalid\")\n",
    "    else:\n",
    "      print(\"Authenticator Succeed\")\n",
    "      name = str(input(\"Enter your name: \"))\n",
    "      email = str(input(\"Enter your email: \"))\n",
    "      if('@' in email):\n",
    "        print(\"Test True\")\n",
    "        print(\"Email is valid\")\n",
    "        print(f\"Your name {name} and Your email {email} is saved in database successfully\")\n",
    "        print(\"Thank You\") \n",
    "      else:\n",
    "        print(\"Email is invalid\")\n",
    "\n",
    "# attempt 1 \n",
    "# loginAttempt1 = password_validator(username=\"Nandan\",password=\"abc\")\n",
    "# loginAttempt1.validator()\n",
    "\n",
    "# attempt 2\n",
    "loginAttempt2 = password_validator(username=\"Nandan\",password=\"abcd\")\n",
    "loginAttempt2.validator()\n",
    "\n",
    "\"\"\"\n",
    "Attempt 1\n",
    "=========================\n",
    "Authenticator Succeed\n",
    "Test True\n",
    "Email is valid\n",
    "Your name Nandan and Your email nandangn.10@gmail.com is saved in database successfully\n",
    "Thank You\n",
    "\n",
    "Attempt 2\n",
    "=========================\n",
    "Invalid username and Invalid password\n",
    "\n",
    "Please try other scenarious like invalid mail and valid mail\n",
    "\n",
    "\"\"\""
   ]
  },
  {
   "cell_type": "code",
   "execution_count": 59,
   "metadata": {},
   "outputs": [
    {
     "name": "stdout",
     "output_type": "stream",
     "text": [
      "Employee Id/Name: test is not existed\n"
     ]
    },
    {
     "data": {
      "text/plain": [
       "\"\\nAttempt 1\\n======================\\nEnter the search type, Search by name/id - id\\nEnter the employee id - CE-CDC&CT01\\nEmployee Id CE-CDC&CT01 is existed and the Employee Name is -  Nandan\\n\\n\\nAttempt 2\\n======================\\nEnter the search type, Search by name/id - name\\nEnter the employee id - Nandan\\nThe Nandan's id is - CE-CDC&CT01\\n\\n\\n\\n\\n\""
      ]
     },
     "execution_count": 59,
     "metadata": {},
     "output_type": "execute_result"
    }
   ],
   "source": [
    "# employee search system \n",
    "class findEmployee:\n",
    "  def __init__(self, inputType):\n",
    "    self.inputType = inputType\n",
    "  \n",
    "  # common method that returns a list of employees\n",
    "  def empList():\n",
    "    return {\"CE-CDC&CT01\":\"Nandan\",\"CE-CT02\":\"Yashas\",\"CE-CT03\":\"Ganesh\",\"CE-CDC04\":\"Shanvi\",\"CE-CDC05\":\"Sangeeta\",\"CE-CDC06\":\"Abhishek\",\"CE-CDC07\":\"Ayush Agarwal\"}\n",
    "  \n",
    "  def findingLogic(self):\n",
    "    data = findEmployee.empList()\n",
    "    if(self.inputType in data.keys()):\n",
    "      print(f\"Employee Id {self.inputType} is existed and the Employee Name is - \",data[self.inputType]) \n",
    "    elif(self.inputType in data.values()):\n",
    "      inputEmployeeName = self.inputType\n",
    "      for employeeId, employeeName in data.items():\n",
    "        if(employeeName == inputEmployeeName):\n",
    "          print(f\"The {inputEmployeeName}'s id is - {employeeId}\")\n",
    "    else:\n",
    "      print(f\"Employee Id/Name: {self.inputType} is not existed\")\n",
    "\n",
    "selection =  str(input(\"Enter the search type, Search by name/id - \"))\n",
    "if(selection.lower() == \"id\"):\n",
    "  idInput = input(\"Enter the employee id -\")\n",
    "  test1 = findEmployee(idInput)  \n",
    "  test1.findingLogic()\n",
    "else:\n",
    "  idInput = input(\"Enter the employee name -\")\n",
    "  test1 = findEmployee(idInput)  \n",
    "  test1.findingLogic()\n",
    "  \n",
    "\"\"\"\n",
    "Attempt 1\n",
    "======================\n",
    "Enter the search type, Search by name/id - id\n",
    "Enter the employee id - CE-CDC&CT01\n",
    "Employee Id CE-CDC&CT01 is existed and the Employee Name is -  Nandan\n",
    "\n",
    "Attempt 2\n",
    "======================\n",
    "Enter the search type, Search by name/id - name\n",
    "Enter the employee id - Nandan\n",
    "The Nandan's id is - CE-CDC&CT01\n",
    "\n",
    "Attempt 3\n",
    "======================\n",
    "Enter the search type, Search by name/id - name\n",
    "Enter the employee id - Nandan\n",
    "Employee Id/Name: test is not existed\n",
    "\"\"\""
   ]
  },
  {
   "attachments": {},
   "cell_type": "markdown",
   "metadata": {},
   "source": [
    "### More Defined Examples On Inheritance In Python"
   ]
  },
  {
   "attachments": {},
   "cell_type": "markdown",
   "metadata": {},
   "source": [
    "### Banking Transacation Realistic Example\n",
    "\n",
    "Banking Transaction Realistic Inheritance Example **UML Diagram**\n",
    "\n",
    "\n",
    "                   +--------------+\n",
    "                   |    Account   |\n",
    "                   +--------------+\n",
    "                   | -account_number: str\n",
    "                   | -balance: float\n",
    "                   +--------------+\n",
    "                   | +deposit(amount: float): void\n",
    "                   | +withdraw(amount: float): void\n",
    "                   | +display_balance(): void\n",
    "                   +--------------+\n",
    "                          ^\n",
    "                          |\n",
    "                  +-------+-------+\n",
    "                  |               |\n",
    "          +-----------------+  +-------------------+\n",
    "          | SavingsAccount  |  | CheckingAccount   |\n",
    "          +-----------------+  +-------------------+\n",
    "          | -interest_rate: float                |\n",
    "          +-----------------+  | -overdraft_limit: float |\n",
    "          | +calculate_interest(): void          |\n",
    "          +-----------------+  | +withdraw(amount: float): void |\n",
    "                                 +-------------------+\n"
   ]
  },
  {
   "cell_type": "code",
   "execution_count": 15,
   "metadata": {},
   "outputs": [
    {
     "name": "stdout",
     "output_type": "stream",
     "text": [
      "Account Number: SB777\n",
      "Account Balance: 30000\n",
      "Account Number: SB777\n",
      "Account Balance: 31500.0\n",
      "Account Number: CB777\n",
      "Account Balance: 30000\n",
      "Account Number: CB777\n",
      "Account Balance: 29800\n"
     ]
    }
   ],
   "source": [
    "# parent class\n",
    "class Account:\n",
    "  def __init__(self, account_number, balance):\n",
    "    self.account_number = account_number\n",
    "    self.balance = balance\n",
    "    \n",
    "  # depositing amount\n",
    "  def deposit(self, amount):\n",
    "    self.balance += amount\n",
    "  # withdraw amount\n",
    "  def withdraw(self, amount):\n",
    "    \n",
    "    if(amount <= self.balance):\n",
    "      self.amount -= amount\n",
    "    else:\n",
    "      print(\"Insufficient funds to withdraw\")\n",
    "  \n",
    "  # display balance\n",
    "  def displaybalance(self):\n",
    "    print(f\"Account Number: {self.account_number}\")\n",
    "    print(f\"Account Balance: {self.balance}\")\n",
    "\n",
    "# we have two types of account 1. savings account and 2. current account\n",
    "\n",
    "class SavingsAccount(Account):\n",
    "  def __init__(self, account_number, balance, interest_rate):\n",
    "    \n",
    "    # this class takes properties from parent class account\n",
    "    super().__init__(account_number, balance)\n",
    "    \n",
    "    self.interest_rate = interest_rate\n",
    "    \n",
    "  # depositing interest rate\n",
    "  def calculate_interest_rate(self):\n",
    "    interest = self.balance * self.interest_rate\n",
    "    self.deposit(interest)\n",
    "      \n",
    "class CurrentAccount(Account):\n",
    "  def __init__(self, account_number, balance, overdraft_limit):\n",
    "    super().__init__(account_number, balance)\n",
    "    \n",
    "    self.overdraft_limit = overdraft_limit\n",
    "    \n",
    "  def withdraw(self, amount):\n",
    "    if(amount <= self.balance + self.overdraft_limit):\n",
    "      self.balance -= amount\n",
    "    else:\n",
    "      print(\"Transaction declined\")\n",
    "      \n",
    "    \n",
    "\n",
    "# Creating objects of the derived classes\n",
    "nandan_sb = SavingsAccount(\"SB777\", 30000, 0.05)\n",
    "\n",
    "# Accessing inherited attributes and methods\n",
    "nandan_sb.displaybalance()\n",
    "\n",
    "# Accessing subclass-specific attributes and methods\n",
    "nandan_sb.calculate_interest_rate() \n",
    "nandan_sb.displaybalance()\n",
    "  \n",
    "# Creating objects of the derived classes  \n",
    "nandan_cb = CurrentAccount(\"CB777\",30000,2000)\n",
    "\n",
    "# Accessing inherited attributes and methods\n",
    "nandan_cb.displaybalance()\n",
    "\n",
    "# Accessing subclass-specific attributes and methods\n",
    "nandan_cb.withdraw(200)\n",
    "\n",
    "\n",
    "nandan_cb.displaybalance()"
   ]
  },
  {
   "attachments": {},
   "cell_type": "markdown",
   "metadata": {},
   "source": [
    "### vehicle renatal system Realistic Example\n",
    "\n",
    "                +----------------+\n",
    "                |     Vehicle    |\n",
    "                +----------------+\n",
    "                | -make: str     |\n",
    "                | -model: str    |\n",
    "                | -year: int     |\n",
    "                +----------------+\n",
    "                | +start_engine(): void |\n",
    "                | +stop_engine(): void  |\n",
    "                +----------------+\n",
    "                        ^\n",
    "                        |\n",
    "                 +------+-------+\n",
    "                 |              |\n",
    "        +----------------+  +-------------------+\n",
    "        |      Car       |  |    Motorcycle     |\n",
    "        +----------------+  +-------------------+\n",
    "        | -num_doors: int              |\n",
    "        +----------------+  +-------------------+\n",
    "        | +drive(): void              |\n",
    "        |                      | +ride(): void               |\n",
    "        +----------------+  +-------------------+\n",
    "                        ^\n",
    "                        |\n",
    "                 +------+-------+\n",
    "                 |              |\n",
    "         +------------------+  |     +-------------------+\n",
    "         |    RentalCar    |  |     +-------------------+\n",
    "         +------------------+  |     |                   |\n",
    "         | -rental_price: float |     |                   |\n",
    "         +------------------+  |     +-------------------+\n",
    "         | +display_rental_details(): void |\n",
    "         +------------------+\n"
   ]
  },
  {
   "cell_type": "code",
   "execution_count": 22,
   "metadata": {},
   "outputs": [
    {
     "name": "stdout",
     "output_type": "stream",
     "text": [
      "Tata's Safari is manufactured in 2023 and has 7 doors is rented for one day trip\n",
      "Car Maker - Tata\n",
      "Car Model - Safari and Year - 2023 with 7\n",
      "Safari's renatal price - 15rs/km\n",
      "Tata car testing for rent...\n",
      "Engine started.\n",
      "Engine stopped.\n",
      "Bike Rental System\n",
      "Yamaha's MT15 is manufactured in 2023 is taken for solo bike ride\n"
     ]
    },
    {
     "data": {
      "text/plain": [
       "'\\n######[Summary Of The Code]######\\n\\n1. Vehicle Class\\n- vehicle class take 3 attributes(make, year, model)\\n- 2 methods (start_engine, stop_engine)\\n- These attributes and methods will be inheriting to child classes like (Car, Bike, RentalCar)\\n\\n2. Car Class\\n- car inherited by the vehicle class\\n- car class takes 3 inherited parametrs(make, year, model) and with subclass specific attributes (num_doors) and methods\\n- car class have child classes specific method like (drive)\\n\\n3. bike class\\n- bike inherited by the vehicle class\\n- bike class takes 3 inherited parametrs(make, year, model) and with subclass specific methods (ride)\\n\\n4. rentalCar Class\\n- rental car class takes 4 inherited parametrs(make, year, model, num_doors) and with subclass specific attributes (rentalPrice) and methods (display_rental_details)\\n\\nNote\\n1. object creation should be done for child class using that object we can access the parent class specific attributes and methods\\n2. while object creation if we are inheriting some attributes of parent class like this((super().__init__(parent class attributes))) then in child we should specify the value for those parent class and also child/sub class specific attributes \\n'"
      ]
     },
     "execution_count": 22,
     "metadata": {},
     "output_type": "execute_result"
    }
   ],
   "source": [
    "# vehicle renatal system\n",
    "# parent class\n",
    "class Vehicle:\n",
    "  def __init__(self,make, model,year):\n",
    "    self.make = make\n",
    "    self.model = model\n",
    "    self.year = year\n",
    "    \n",
    "  def start_engine(self):\n",
    "        print(\"Engine started.\")\n",
    "\n",
    "  def stop_engine(self):\n",
    "      print(\"Engine stopped.\")\n",
    "      \n",
    "# child class\n",
    "class Car(Vehicle):\n",
    "  def __init__(self, make,model,year, num_doors):\n",
    "    super().__init__(make,model,year)\n",
    "    self.num_doors = num_doors\n",
    "    \n",
    "  def drive(self):\n",
    "    print(f\"{self.make}'s {self.model} is manufactured in {self.year} and has {self.num_doors} doors is rented for one day trip\")\n",
    "    \n",
    "class bike(Vehicle):\n",
    "  def __init__(self,make,model,year):\n",
    "    super().__init__(make,model,year)\n",
    "  \n",
    "  def drive(self):\n",
    "    print(f\"{self.make}'s {self.model} is manufactured in {self.year} is taken for solo bike ride\")\n",
    "    \n",
    "class rentalCar(Car):\n",
    "  def __init__(self,make,model,year,num_doors ,rental_price):\n",
    "    super().__init__(make,model,year,num_doors)\n",
    "    self.rental_price = rental_price\n",
    "    \n",
    "  def display_rental_details(self):\n",
    "    print(f\"Car Maker - {self.make}\")\n",
    "    print(f\"Car Model - {self.model} and Year - {self.year} with {self.num_doors}\")\n",
    "    print(f\"{self.model}'s renatal price - {self.rental_price}\")\n",
    "    \n",
    "\n",
    "# object creation\n",
    "\n",
    "make = \"Tata\"\n",
    "model = \"Safari\"\n",
    "year = 2023\n",
    "numberDoors = 7\n",
    "rentalCarPrice = \"15rs/km\"\n",
    "\n",
    "# car class object creation\n",
    "carObj = Car(make,model,year,numberDoors)\n",
    "carObj.drive()\n",
    "\n",
    "# retal car class object creation\n",
    "rentalCarObj = rentalCar(make,model,year,numberDoors,rentalCarPrice)\n",
    "rentalCarObj.display_rental_details()\n",
    "print(f\"{make} car testing for rent...\")\n",
    "carObj.start_engine()\n",
    "carObj.stop_engine()\n",
    "\n",
    "# bikeobject\n",
    "print(\"Bike Rental System\")\n",
    "bikeMake = \"Yamaha\"\n",
    "bikeModel = \"MT15\"\n",
    "bikeYear = \"2023\"\n",
    "bikeObj = bike(bikeMake,bikeModel,bikeYear)\n",
    "bikeObj.drive()\n",
    "    \n",
    "\"\"\"\n",
    "######[Summary Of The Code]######\n",
    "\n",
    "1. Vehicle Class\n",
    "- vehicle class take 3 attributes(make, year, model)\n",
    "- 2 methods (start_engine, stop_engine)\n",
    "- These attributes and methods will be inheriting to child classes like (Car, Bike, RentalCar)\n",
    "\n",
    "2. Car Class\n",
    "- car inherited by the vehicle class\n",
    "- car class takes 3 inherited parametrs(make, year, model) and with subclass specific attributes (num_doors) and methods\n",
    "- car class have child classes specific method like (drive)\n",
    "\n",
    "3. bike class\n",
    "- bike inherited by the vehicle class\n",
    "- bike class takes 3 inherited parametrs(make, year, model) and with subclass specific methods (ride)\n",
    "\n",
    "4. rentalCar Class\n",
    "- rental car class takes 4 inherited parametrs(make, year, model, num_doors) and with subclass specific attributes (rentalPrice) and methods (display_rental_details)\n",
    "\n",
    "Note\n",
    "1. object creation should be done for child class using that object we can access the parent class specific attributes and methods\n",
    "2. while object creation if we are inheriting some attributes of parent class like this((super().__init__(parent class attributes))) then in child we should specify the value for those parent class and also child/sub class specific attributes \n",
    "\"\"\""
   ]
  }
 ],
 "metadata": {
  "kernelspec": {
   "display_name": "base",
   "language": "python",
   "name": "python3"
  },
  "language_info": {
   "codemirror_mode": {
    "name": "ipython",
    "version": 3
   },
   "file_extension": ".py",
   "mimetype": "text/x-python",
   "name": "python",
   "nbconvert_exporter": "python",
   "pygments_lexer": "ipython3",
   "version": "3.9.13"
  },
  "orig_nbformat": 4,
  "vscode": {
   "interpreter": {
    "hash": "e4cce46d6be9934fbd27f9ca0432556941ea5bdf741d4f4d64c6cd7f8dfa8fba"
   }
  }
 },
 "nbformat": 4,
 "nbformat_minor": 2
}
