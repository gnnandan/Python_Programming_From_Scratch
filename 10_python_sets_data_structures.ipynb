{
 "cells": [
  {
   "attachments": {},
   "cell_type": "markdown",
   "metadata": {},
   "source": [
    "## Sets\n",
    "1. Unordered\n",
    "2. Unchangable\n",
    "3. Duplicate Elements are not allowed\n",
    "\n",
    "**Important Message**\n",
    "\n",
    "- 🔰 Notes Link - [Python Learning From Zero to Hero](https://gnnandan.notion.site/Python-Learning-b3aa7ed958fd44659aa1be95f0f225a6)\n",
    "- 🔰 Open Source Developers Community Link (OSDC) - [Curious Developers Community](https://linktr.ee/curiousdevelopers.community) \n",
    "- 🔰 Official Website - [Curious Community Ecosystem](https://curiousdevelopers.in)"
   ]
  },
  {
   "cell_type": "code",
   "execution_count": 25,
   "metadata": {},
   "outputs": [
    {
     "name": "stdout",
     "output_type": "stream",
     "text": [
      "{1, 2, 3, 4, 5, 6, 7}\n",
      "<class 'set'>\n",
      "The unordered elements  - {'one', 1, 2, 'two', 1000}\n",
      "elements in a list: \n",
      "one\n",
      "1\n",
      "2\n",
      "two\n",
      "1000\n",
      "After adding the element to the set - {'one', 1, 2, 'two', 1000, 'Three'}\n",
      "After adding element from one set/iterable to another set - {'bbb', 1, 2, 1000, 'aaa', 'one', 'ccc', 'two', 'Three'}\n",
      "After removing the element - {'bbb', 1, 2, 1000, 'one', 'ccc', 'two', 'Three'}\n"
     ]
    },
    {
     "ename": "TypeError",
     "evalue": "'int' object is not callable",
     "output_type": "error",
     "traceback": [
      "\u001b[1;31m---------------------------------------------------------------------------\u001b[0m",
      "\u001b[1;31mTypeError\u001b[0m                                 Traceback (most recent call last)",
      "\u001b[1;32m~\\AppData\\Local\\Temp\\ipykernel_13952\\2771711925.py\u001b[0m in \u001b[0;36m<module>\u001b[1;34m\u001b[0m\n\u001b[0;32m     31\u001b[0m \u001b[1;33m\u001b[0m\u001b[0m\n\u001b[0;32m     32\u001b[0m \u001b[1;31m# checking the length of set\u001b[0m\u001b[1;33m\u001b[0m\u001b[1;33m\u001b[0m\u001b[0m\n\u001b[1;32m---> 33\u001b[1;33m \u001b[0mprint\u001b[0m\u001b[1;33m(\u001b[0m\u001b[1;34m\"Length of set - {}\"\u001b[0m\u001b[1;33m.\u001b[0m\u001b[0mformat\u001b[0m\u001b[1;33m(\u001b[0m\u001b[0mlen\u001b[0m\u001b[1;33m(\u001b[0m\u001b[0mmySet\u001b[0m\u001b[1;33m)\u001b[0m\u001b[1;33m)\u001b[0m\u001b[1;33m)\u001b[0m\u001b[1;33m\u001b[0m\u001b[1;33m\u001b[0m\u001b[0m\n\u001b[0m",
      "\u001b[1;31mTypeError\u001b[0m: 'int' object is not callable"
     ]
    }
   ],
   "source": [
    "mySet = {1,2,2,3,4,5,6,7}\n",
    "print(mySet) # here set ingnored the duplicate element\n",
    "\n",
    "# checking datatype\n",
    "print(type(mySet))\n",
    "\n",
    "# set with unorderd elements\n",
    "mySet = {1, \"one\", 2, \"two\", 1.0,2.0,1000}\n",
    "print(\"The unordered elements  - {}\".format(mySet))\n",
    "\n",
    "\n",
    "\n",
    "# accessing the element\n",
    "print(\"elements in a list: \")\n",
    "for ele in mySet:\n",
    "  print(ele)\n",
    "  \n",
    "  \n",
    "# adding element to the set\n",
    "mySet.add(\"Three\")\n",
    "print(\"After adding the element to the set - {}\".format(mySet))\n",
    "\n",
    "# adding elements from one set/iterable to another set\n",
    "myNewSet = {\"aaa\",\"bbb\",\"ccc\"}\n",
    "mySet.update(myNewSet)\n",
    "print(\"After adding element from one set/iterable to another set - {}\".format(mySet))\n",
    "\n",
    "# removing the element\n",
    "mySet.remove(\"aaa\")\n",
    "print(\"After removing the element - {}\".format(mySet))\n",
    "  \n",
    "# checking the length of set\n",
    "print(\"Length of set - {}\".format(len(mySet)))"
   ]
  },
  {
   "attachments": {},
   "cell_type": "markdown",
   "metadata": {},
   "source": [
    "## Important Set Methods\n",
    "\n",
    "1. add(elmnt) - Adds an element to the set\n",
    "2. clear() - Removes all the elements from the set\n",
    "3. copy() - Returns a copy of the set\n",
    "4. difference(set) - Returns a set containing the difference between two or more sets (Meaning: The returned set contains items that exist only in the first set, and not in both sets.)\n",
    "5. difference_update(set) - removes the items that exist in both sets, specified set\n",
    "6. discard(value) - Remove the specified item\n",
    "7. intersection(set1, set2 ... etc) - Returns a set, that is the intersection of two other sets\n",
    "8. intersection_update(set1, set2 ... etc) - removes the items that is not present in both sets (or in all sets if the comparison is done between more than two sets), specified set(s)\n",
    "9. isdisjoint(set) - Returns whether two sets have a intersection or not\n",
    "10. issubset(set) - Returns whether another set contains this set or not\n",
    "11. issuperset(set) - Returns whether this set contains another set or not\n",
    "12. pop() - Removes an element from the set\n",
    "13. remove(item) - Removes the specified element\n",
    "14. symmetric_difference(set) - Returns a set with the symmetric differences of two sets\n",
    "15. symmetric_difference_update(set) - method updates the original set by removing items that are present in both sets, and inserting the other items\n",
    "16. union(set1, set2... etc) - Return a set containing the union of sets\n",
    "17. update(set) - Update the set with the union of this set and others"
   ]
  },
  {
   "cell_type": "code",
   "execution_count": 68,
   "metadata": {},
   "outputs": [
    {
     "name": "stdout",
     "output_type": "stream",
     "text": [
      "After add() - {'Apple', 'Papaya', 'Organge', 'Banana', 'Tomato'}\n",
      "The non common elements between two sets difference() -  {'Papaya', 'Banana', 'Organge', 'Apple'}\n",
      "{'Apple', 'Papaya', 'Organge', 'Banana'}\n",
      "{'Apple', 'Organge', 'Banana'}\n",
      "{'Tomato'}\n",
      "{'Tomato'}\n",
      "False\n",
      "False\n",
      "False\n",
      "Preset set itesm -  {'Banana', 'Organge', 'Apple', 'Tomato'}\n",
      "Banana\n",
      "{'Apple', 'Tomato'}\n",
      "The symmetric difference -  {'Apple', 'Organge', 'Mango', 'Banana', 'Carrot'}\n",
      "The symmetric_difference_update -  {'Apple', 'Organge', 'Mango', 'Banana', 'Carrot'}\n",
      "Union of 2 sets -  {'Organge', 'Apple', 'Mango', 'Banana', 'Carrot', 'Tomato'}\n",
      "Update of 2 sets -  {'Apple', 'Tomato', 'Organge', 'Mango', 'Banana', 'Carrot'}\n"
     ]
    }
   ],
   "source": [
    "fruits = {\"Apple\",\"Organge\",\"Banana\",\"Tomato\"}\n",
    "vegetable = {\"Carrot\",\"Mango\",\"Tomato\"}\n",
    "\n",
    "# add(elmnt)\n",
    "fruits.add(\"Papaya\")\n",
    "print(\"After add() - {}\".format(fruits))\n",
    "\n",
    "# difference(set)\n",
    "print(\"The non common elements between two sets difference() - \",fruits.difference(vegetable))\n",
    "\n",
    "# difference_update(set)\n",
    "fruits.difference_update(vegetable)\n",
    "print(fruits)\n",
    "\n",
    "# discard(value)\n",
    "fruits.discard(\"Papaya\")\n",
    "print(fruits)\n",
    "\n",
    "# intersection(set1, set2 ... etc)\n",
    "fruits = {\"Apple\",\"Organge\",\"Banana\",\"Tomato\"}\n",
    "vegetable = {\"Carrot\",\"Mango\",\"Tomato\"}\n",
    "intersectionSet = fruits.intersection(vegetable)\n",
    "print(intersectionSet)\n",
    "\n",
    "# intersection_update(set1, set2 ... etc)\n",
    "fruits = {\"Apple\",\"Organge\",\"Banana\",\"Tomato\"}\n",
    "vegetable = {\"Carrot\",\"Mango\",\"Tomato\"}\n",
    "brand = {\"Apple\",\"Tomato\"}\n",
    "fruits.intersection_update(vegetable,brand)\n",
    "print(fruits)\n",
    "\n",
    "\n",
    "fruits = {\"Apple\",\"Organge\",\"Banana\",\"Tomato\"}\n",
    "vegetable = {\"Carrot\",\"Mango\",\"Tomato\"}\n",
    "\n",
    "# issubset(set)\n",
    "subset = fruits.issubset(vegetable)\n",
    "print(subset)\n",
    "\n",
    "# isdisjoint(set)\n",
    "disjoint = fruits.isdisjoint(vegetable)\n",
    "print(disjoint)\n",
    "\n",
    "# issuperset(set)\n",
    "issuperset = fruits.issuperset(vegetable)\n",
    "print(issuperset)\n",
    "\n",
    "# pop()\n",
    "print(\"Preset set itesm - \",fruits)\n",
    "print(fruits.pop())\n",
    "\n",
    "# remove(\"Element\")\n",
    "fruits.remove(\"Organge\")\n",
    "print(fruits)\n",
    "\n",
    "# symmetric_difference(set)\n",
    "# symmetric_difference_update(set)\n",
    "fruits = {\"Apple\",\"Organge\",\"Banana\",\"Tomato\"}\n",
    "vegetable = {\"Carrot\",\"Mango\",\"Tomato\"}\n",
    "\n",
    "# symmetric_difference(set)\n",
    "symmetric_difference = fruits.symmetric_difference(vegetable)\n",
    "print(\"The symmetric difference - \",symmetric_difference)\n",
    "\n",
    "# symmetric_difference_update(set)\n",
    "fruits.symmetric_difference_update(vegetable)\n",
    "print(\"The symmetric_difference_update - \",fruits)\n",
    "\n",
    "# union(set)\n",
    "print(\"Union of 2 sets - \",fruits.union(vegetable))\n",
    "\n",
    "# update(set)\n",
    "fruits.update(vegetable)\n",
    "print(\"Update of 2 sets - \",fruits)"
   ]
  },
  {
   "attachments": {},
   "cell_type": "markdown",
   "metadata": {},
   "source": [
    "## Looping in Sets"
   ]
  },
  {
   "cell_type": "code",
   "execution_count": 72,
   "metadata": {},
   "outputs": [
    {
     "name": "stdout",
     "output_type": "stream",
     "text": [
      "Looping set using foreach - \n",
      "Banana\n",
      "Organge\n",
      "Apple\n",
      "Tomato\n"
     ]
    }
   ],
   "source": [
    "fruits = {\"Apple\",\"Organge\",\"Banana\",\"Tomato\"}\n",
    "\n",
    "print(\"Looping set using foreach - \")\n",
    "for items in fruits:\n",
    "  print(items)"
   ]
  },
  {
   "cell_type": "code",
   "execution_count": null,
   "metadata": {},
   "outputs": [],
   "source": []
  }
 ],
 "metadata": {
  "kernelspec": {
   "display_name": "base",
   "language": "python",
   "name": "python3"
  },
  "language_info": {
   "codemirror_mode": {
    "name": "ipython",
    "version": 3
   },
   "file_extension": ".py",
   "mimetype": "text/x-python",
   "name": "python",
   "nbconvert_exporter": "python",
   "pygments_lexer": "ipython3",
   "version": "3.9.13"
  },
  "orig_nbformat": 4
 },
 "nbformat": 4,
 "nbformat_minor": 2
}
