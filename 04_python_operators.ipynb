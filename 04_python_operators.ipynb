{
 "cells": [
  {
   "attachments": {},
   "cell_type": "markdown",
   "metadata": {},
   "source": [
    "## Operators in Python\n",
    "- Arithmetic operators -> +, -,  *, /, %, **, //\n",
    "- Assignment operators -> =, +=,  -=,  *=,  /=,  %=,  //=,  **=,  &=,  |=,  ^=,  >>=,  <<=\n",
    "- Comparison operators -> ==,  !=,  >,  <,  >=,  <=\n",
    "- Logical operators -> and, or, not\n",
    "- Identity operators -> is, is not\n",
    "- Membership operators -> in, not in\n",
    "- Bitwise operators -> &, |, ^, ~, <<, >>\n",
    "\n",
    "**Important Message**\n",
    "\n",
    "- 🔰 Notes Link - [Python Learning From Zero to Hero](https://gnnandan.notion.site/Python-Learning-b3aa7ed958fd44659aa1be95f0f225a6)\n",
    "- 🔰 Open Source Developers Community Link (OSDC) - [Curious Developers Community](https://linktr.ee/curiousdevelopers.community) \n",
    "- 🔰 Official Website - [Curious Community Ecosystem](https://curiousdevelopers.in)"
   ]
  },
  {
   "cell_type": "code",
   "execution_count": 2,
   "metadata": {},
   "outputs": [
    {
     "name": "stdout",
     "output_type": "stream",
     "text": [
      "30\n",
      "10\n",
      "200\n",
      "0.5\n",
      "0\n",
      "100000000000000000000\n",
      "0\n"
     ]
    }
   ],
   "source": [
    "#Arithmetic Operator\n",
    "\n",
    "a = 10\n",
    "b = 20\n",
    "\n",
    "print(a+b)\n",
    "print(b-a)\n",
    "print(a*b) \n",
    "print(a/b) #Division\n",
    "print(b%a) #Modulus\n",
    "print(a**b) #Exponentiation\n",
    "print(a//b) #Floor division"
   ]
  },
  {
   "cell_type": "code",
   "execution_count": 3,
   "metadata": {},
   "outputs": [
    {
     "name": "stdout",
     "output_type": "stream",
     "text": [
      "False\n",
      "True\n",
      "False\n",
      "True\n",
      "True\n",
      "True\n"
     ]
    }
   ],
   "source": [
    "# Comparison operators\n",
    "a = 10\n",
    "b = 20\n",
    "\n",
    "print(a==b)\n",
    "print(b!=a)\n",
    "print(a>=b) \n",
    "print(a<=b) \n",
    "print(b>a) \n",
    "print(a<b)"
   ]
  },
  {
   "cell_type": "code",
   "execution_count": 9,
   "metadata": {},
   "outputs": [
    {
     "name": "stdout",
     "output_type": "stream",
     "text": [
      "20\n",
      "10\n",
      "False\n",
      "False\n"
     ]
    }
   ],
   "source": [
    "# Logical operators\n",
    "\n",
    "a = 10\n",
    "b = 20\n",
    "\n",
    "print(a and b) \n",
    "print(a or b)\n",
    "print(not a)\n",
    "print(not b)"
   ]
  },
  {
   "cell_type": "code",
   "execution_count": 13,
   "metadata": {},
   "outputs": [
    {
     "name": "stdout",
     "output_type": "stream",
     "text": [
      "False\n",
      "True\n"
     ]
    }
   ],
   "source": [
    "# Identity operators\n",
    "a = 10\n",
    "b = 20\n",
    "\n",
    "print(a is b)\n",
    "print(a is not b)\n"
   ]
  },
  {
   "cell_type": "code",
   "execution_count": 15,
   "metadata": {},
   "outputs": [
    {
     "name": "stdout",
     "output_type": "stream",
     "text": [
      "True\n",
      "True\n"
     ]
    }
   ],
   "source": [
    "# Membership operators\n",
    "\n",
    "my_list = [2, 3, 4, 5, 6, 7, 8, 9]\n",
    "\n",
    "print(5 in my_list)\n",
    "print(10 not in my_list)"
   ]
  },
  {
   "cell_type": "code",
   "execution_count": 22,
   "metadata": {},
   "outputs": [
    {
     "name": "stdout",
     "output_type": "stream",
     "text": [
      "2\n",
      "7\n",
      "5\n",
      "-4\n",
      "1\n",
      "24\n"
     ]
    },
    {
     "data": {
      "text/plain": [
       "'\\n6 = 0000000000000110\\n3 = 0000000000000011\\n--------------------\\n2 = 0000000000000010\\n====================\\n'"
      ]
     },
     "execution_count": 22,
     "metadata": {},
     "output_type": "execute_result"
    }
   ],
   "source": [
    "# Bitwise operators\n",
    "\n",
    "a = 6\n",
    "b = 3\n",
    "\n",
    "print(6 & 3) #bitwise and\n",
    "print(6 | 3) #bitwise or\n",
    "print(6 ^ 3) #bitwise xor\n",
    "print(~ 3) #bitwise not\n",
    "print(a >> 2) #Zero fill left shift\n",
    "print(a << 2) #Signed right shift\t\n",
    "\n",
    "\n",
    "\"\"\"\n",
    "6 = 0000000000000110\n",
    "3 = 0000000000000011\n",
    "--------------------\n",
    "2 = 0000000000000010\n",
    "====================\n",
    "\"\"\""
   ]
  },
  {
   "cell_type": "code",
   "execution_count": null,
   "metadata": {},
   "outputs": [],
   "source": []
  }
 ],
 "metadata": {
  "kernelspec": {
   "display_name": "base",
   "language": "python",
   "name": "python3"
  },
  "language_info": {
   "codemirror_mode": {
    "name": "ipython",
    "version": 3
   },
   "file_extension": ".py",
   "mimetype": "text/x-python",
   "name": "python",
   "nbconvert_exporter": "python",
   "pygments_lexer": "ipython3",
   "version": "3.9.13"
  },
  "orig_nbformat": 4
 },
 "nbformat": 4,
 "nbformat_minor": 2
}
