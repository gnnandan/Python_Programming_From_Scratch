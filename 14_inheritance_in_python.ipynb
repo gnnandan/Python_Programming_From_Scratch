{
 "cells": [
  {
   "attachments": {},
   "cell_type": "markdown",
   "metadata": {},
   "source": [
    "## Inheritance In Python\n",
    "\n",
    "- Inheritance is a process of a class acquiring the properties(variables) and behavior (methods) from the other class.\n",
    "    - **Parent class** is the class being inherited from, also called base class.\n",
    "    - **Child class** is the class that inherits from another class, also called derived class."
   ]
  },
  {
   "cell_type": "code",
   "execution_count": null,
   "metadata": {},
   "outputs": [],
   "source": [
    "# example\n",
    "\n",
    "class parentClass: #parent class\n",
    "  \n",
    "  # attributes and methoda of the parent class\n",
    "  personName = \"\"\n",
    "  familyName = \"\"\n",
    "  resident  =\"\"\n",
    "  \n",
    "  def foodStyle(self): #method of a parent class\n",
    "    print(\"Specifying in child/base class\")\n",
    "    \n",
    "class childClass(parentClass):  #child class\n",
    "  def foodStyle(self, personName, familyName): #method overriding\n",
    "    self.personName = personName\n",
    "    self.familyName = familyName\n",
    "    \n",
    "    # accessing parentclass variables\n",
    "    livingPlace = self.resident\n",
    "    print(f\"{self.personName} {self.familyName}'s family staying in {livingPlace} and they are pure vegetarian\")\n",
    "      \n",
    "\n",
    "# creating an object to child class\n",
    "\n",
    "nandan = childClass()\n",
    "nandan.resident = \"Bangalore\"\n",
    "nandan.foodStyle(\"Nandan\", \"G N\")\n",
    "\n",
    "\"\"\"\n",
    "Nandan G N's family staying in Bangalore and they are pure vegetarian\n",
    "\"\"\""
   ]
  },
  {
   "attachments": {},
   "cell_type": "markdown",
   "metadata": {},
   "source": [
    "### Super()\n",
    "- super() -> that makes child class inherits all the methods and attributes(prorperties/variables) from its parent class"
   ]
  },
  {
   "cell_type": "code",
   "execution_count": null,
   "metadata": {},
   "outputs": [],
   "source": [
    "class parent:\n",
    "  def __init__(self,name):\n",
    "    self.name = name\n",
    "    \n",
    "  def greet(self):\n",
    "    print(\"Hello My name is \", self.name)\n",
    "    \n",
    "class child(parent):\n",
    "  def __init__(self,name, age, place):\n",
    "    # lets inherit the properties and methods from parent class\n",
    "    super().__init__(name)\n",
    "    # The self parameter is a reference to the current instance of the class\n",
    "    self.age = age\n",
    "    self.place = place\n",
    "    \n",
    "  def greet(self):\n",
    "    super().greet() #calling parent class method\n",
    "    print(f\"Hello, My name is {self.name}, my age is {self.age} and I'm from {self.place}\")\n",
    "    \n",
    "person1 = child(\"Nandan\",23,\"Bangalore\")\n",
    "person1.greet()\n",
    "\n",
    "\"\"\"\n",
    "Hello My name is  Nandan\n",
    "Hello, My name is Nandan, my age is 23 and I'm from Bangalore\n",
    "\"\"\""
   ]
  },
  {
   "cell_type": "markdown",
   "metadata": {},
   "source": []
  }
 ],
 "metadata": {
  "language_info": {
   "name": "python"
  },
  "orig_nbformat": 4
 },
 "nbformat": 4,
 "nbformat_minor": 2
}
