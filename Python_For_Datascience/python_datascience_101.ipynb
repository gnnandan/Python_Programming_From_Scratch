{
 "cells": [
  {
   "attachments": {},
   "cell_type": "markdown",
   "metadata": {},
   "source": [
    "## Basics Refresing"
   ]
  },
  {
   "attachments": {},
   "cell_type": "markdown",
   "metadata": {},
   "source": [
    "### Getting started into python"
   ]
  },
  {
   "cell_type": "code",
   "execution_count": 17,
   "metadata": {},
   "outputs": [
    {
     "name": "stdout",
     "output_type": "stream",
     "text": [
      "Python\n",
      "0246\n",
      "Li\n",
      "0246\n",
      "12\n",
      "HELLO\n",
      "7\n"
     ]
    }
   ],
   "source": [
    "programmingLanguage = \"Python\"\n",
    "print(programmingLanguage)\n",
    "\n",
    "# slicing operation\n",
    "Numbers = \"0123456\"\n",
    "print(Numbers[::2])\n",
    "\n",
    "name = 'Lizz'\n",
    "print(name[0:2]) #(0:2-1) position\n",
    "\n",
    "var = '01234567'\n",
    "print(var[::2])\n",
    "\n",
    "# concatenation\n",
    "print('1'+'2')\n",
    "\n",
    "# finding operation\n",
    "\"0123456\".find('1')\n",
    "\n",
    "# string operatios\n",
    "myVar = 'hello'\n",
    "myVar = myVar.upper()\n",
    "print(myVar)\n",
    "\n",
    "# Mathematical operation\n",
    "print(3 + 2 * 2)\n"
   ]
  },
  {
   "attachments": {},
   "cell_type": "markdown",
   "metadata": {},
   "source": [
    "### LIST & TUPLES"
   ]
  },
  {
   "cell_type": "code",
   "execution_count": 20,
   "metadata": {},
   "outputs": [
    {
     "name": "stdout",
     "output_type": "stream",
     "text": [
      "3 and also like this 3\n",
      "['b', 'c']\n"
     ]
    }
   ],
   "source": [
    "\"\"\"\n",
    "List - \n",
    "1. Lists are the mutable(changable) data structures\n",
    "2. List is a collection of items that are ordered and can be changed. It's like a container that can hold multiple values, such as numbers, words, or other objects.\n",
    "\n",
    "Tuple - \n",
    "1. Tuple are the immutable(not changable) data structures\n",
    "2. Tuples are the collections of elements like list but we commonly used when you want to store a collection of values that should remain constant throughout the program.\n",
    "\"\"\"\n",
    "\n",
    "# tuple creation and operations\n",
    "# creation and accessing\n",
    "A=(0,1,2,3)\n",
    "print(A[-1],\"and also like this\",A[3])\n",
    "\n",
    "B=[\"a\",\"b\",\"c\"]\n",
    "print(B[1:])"
   ]
  },
  {
   "attachments": {},
   "cell_type": "markdown",
   "metadata": {},
   "source": [
    "#### Tuple with dataset analysis"
   ]
  },
  {
   "attachments": {},
   "cell_type": "markdown",
   "metadata": {},
   "source": [
    "Imagine you received album recommendations from your friends and compiled all of the recommendations into a table, with specific information about each album.\n",
    "\n",
    "The table has one row for each movie and several columns:\n",
    "\n",
    "- **artist** - Name of the artist\n",
    "- **album** - Name of the album\n",
    "- **released_year** - Year the album was released\n",
    "- **length_min_sec** - Length of the album (hours,minutes,seconds)\n",
    "- **genre** - Genre of the album\n",
    "- **music_recording_sales_millions** - Music recording sales (millions in USD) on [SONG://DATABASE](http://www.song-database.com/?utm_medium=Exinfluencer&utm_source=Exinfluencer&utm_content=000026UJ&utm_term=10006555&utm_id=NA-SkillsNetwork-Channel-SkillsNetworkCoursesIBMDeveloperSkillsNetworkPY0101ENSkillsNetwork1005-2022-01-01)\n",
    "- **claimed_sales_millions** - Album's claimed sales (millions in USD) on [SONG://DATABASE](http://www.song-database.com/?utm_medium=Exinfluencer&utm_source=Exinfluencer&utm_content=000026UJ&utm_term=10006555&utm_id=NA-SkillsNetwork-Channel-SkillsNetworkCoursesIBMDeveloperSkillsNetworkPY0101ENSkillsNetwork1005-2022-01-01)\n",
    "- **date_released** - Date on which the album was released\n",
    "- **soundtrack** - Indicates if the album is the movie soundtrack (Y) or (N)\n",
    "- **rating_of_friends** - Indicates the rating from your friends from 1 to 10\n",
    "<br>\n",
    "<br>\n",
    "\n",
    "The dataset can be seen below:\n",
    "\n",
    "<font size=\"1\">\n",
    "<table font-size:xx-small>\n",
    "  <tr>\n",
    "    <th>Artist</th>\n",
    "    <th>Album</th> \n",
    "    <th>Released</th>\n",
    "    <th>Length</th>\n",
    "    <th>Genre</th> \n",
    "    <th>Music recording sales (millions)</th>\n",
    "    <th>Claimed sales (millions)</th>\n",
    "    <th>Released</th>\n",
    "    <th>Soundtrack</th>\n",
    "    <th>Rating (friends)</th>\n",
    "  </tr>\n",
    "  <tr>\n",
    "    <td>Michael Jackson</td>\n",
    "    <td>Thriller</td> \n",
    "    <td>1982</td>\n",
    "    <td>00:42:19</td>\n",
    "    <td>Pop, rock, R&B</td>\n",
    "    <td>46</td>\n",
    "    <td>65</td>\n",
    "    <td>30-Nov-82</td>\n",
    "    <td></td>\n",
    "    <td>10.0</td>\n",
    "  </tr>\n",
    "  <tr>\n",
    "    <td>AC/DC</td>\n",
    "    <td>Back in Black</td> \n",
    "    <td>1980</td>\n",
    "    <td>00:42:11</td>\n",
    "    <td>Hard rock</td>\n",
    "    <td>26.1</td>\n",
    "    <td>50</td>\n",
    "    <td>25-Jul-80</td>\n",
    "    <td></td>\n",
    "    <td>8.5</td>\n",
    "  </tr>\n",
    "    <tr>\n",
    "    <td>Pink Floyd</td>\n",
    "    <td>The Dark Side of the Moon</td> \n",
    "    <td>1973</td>\n",
    "    <td>00:42:49</td>\n",
    "    <td>Progressive rock</td>\n",
    "    <td>24.2</td>\n",
    "    <td>45</td>\n",
    "    <td>01-Mar-73</td>\n",
    "    <td></td>\n",
    "    <td>9.5</td>\n",
    "  </tr>\n",
    "    <tr>\n",
    "    <td>Whitney Houston</td>\n",
    "    <td>The Bodyguard</td> \n",
    "    <td>1992</td>\n",
    "    <td>00:57:44</td>\n",
    "    <td>Soundtrack/R&B, soul, pop</td>\n",
    "    <td>26.1</td>\n",
    "    <td>50</td>\n",
    "    <td>25-Jul-80</td>\n",
    "    <td>Y</td>\n",
    "    <td>7.0</td>\n",
    "  </tr>\n",
    "    <tr>\n",
    "    <td>Meat Loaf</td>\n",
    "    <td>Bat Out of Hell</td> \n",
    "    <td>1977</td>\n",
    "    <td>00:46:33</td>\n",
    "    <td>Hard rock, progressive rock</td>\n",
    "    <td>20.6</td>\n",
    "    <td>43</td>\n",
    "    <td>21-Oct-77</td>\n",
    "    <td></td>\n",
    "    <td>7.0</td>\n",
    "  </tr>\n",
    "    <tr>\n",
    "    <td>Eagles</td>\n",
    "    <td>Their Greatest Hits (1971-1975)</td> \n",
    "    <td>1976</td>\n",
    "    <td>00:43:08</td>\n",
    "    <td>Rock, soft rock, folk rock</td>\n",
    "    <td>32.2</td>\n",
    "    <td>42</td>\n",
    "    <td>17-Feb-76</td>\n",
    "    <td></td>\n",
    "    <td>9.5</td>\n",
    "  </tr>\n",
    "    <tr>\n",
    "    <td>Bee Gees</td>\n",
    "    <td>Saturday Night Fever</td> \n",
    "    <td>1977</td>\n",
    "    <td>1:15:54</td>\n",
    "    <td>Disco</td>\n",
    "    <td>20.6</td>\n",
    "    <td>40</td>\n",
    "    <td>15-Nov-77</td>\n",
    "    <td>Y</td>\n",
    "    <td>9.0</td>\n",
    "  </tr>\n",
    "    <tr>\n",
    "    <td>Fleetwood Mac</td>\n",
    "    <td>Rumours</td> \n",
    "    <td>1977</td>\n",
    "    <td>00:40:01</td>\n",
    "    <td>Soft rock</td>\n",
    "    <td>27.9</td>\n",
    "    <td>40</td>\n",
    "    <td>04-Feb-77</td>\n",
    "    <td></td>\n",
    "    <td>9.5</td>\n",
    "  </tr>\n",
    "</table></font>\n"
   ]
  },
  {
   "cell_type": "code",
   "execution_count": 15,
   "metadata": {},
   "outputs": [
    {
     "name": "stdout",
     "output_type": "stream",
     "text": [
      "<class 'tuple'>\n",
      "<class 'float'>\n",
      "POP\n"
     ]
    }
   ],
   "source": [
    "# creation of tuples\n",
    "tuple1 = (\"disco\",10,1.2,(\"Rock\",\"POP\",\"Classical\"))\n",
    "# accessing tuple\n",
    "tuple1[0:2]\n",
    "\n",
    "# checking type values\n",
    "print(type(tuple1))\n",
    "print(type(tuple1[2]))\n",
    "      \n",
    "# concatenating a tuples with some new values\n",
    "tuple1 = tuple1+(100,2000,20)\n",
    "tuple1\n",
    "\n",
    "# nested tuples\n",
    "tuple1 = (\"disco\",10,1.2,(\"Rock\",\"POP\",\"Classical\"))\n",
    "\n",
    "# accessing nested tuples\n",
    "print(tuple1[3][1])\n"
   ]
  },
  {
   "attachments": {},
   "cell_type": "markdown",
   "metadata": {},
   "source": [
    "#### List with real dataset"
   ]
  },
  {
   "cell_type": "code",
   "execution_count": 7,
   "metadata": {},
   "outputs": [
    {
     "name": "stdout",
     "output_type": "stream",
     "text": [
      "the same element using negative and positive indexing:\n",
      " Postive: Michael Jackson \n",
      " Negative: Michael Jackson\n",
      "the same element using negative and positive indexing:\n",
      " Postive: 10.1 \n",
      " Negative: 10.1\n",
      "the same element using negative and positive indexing:\n",
      " Postive: 1982 \n",
      " Negative: 1982\n",
      "['Michael Jackson', 10.1, 1982, [1, 2], ('A', 1)]\n",
      "Final Data:  ['Michael Jackson', 10.1, 1982, [1, 2], ('A', 1), 'New Data']\n",
      "['Michael', 'Jackson']\n",
      "['Michael Jackson', 10.1, 1982, [1, 2], ('A', 1), 'New Data']\n"
     ]
    }
   ],
   "source": [
    "# creating a list\n",
    "l = [\"Michael Jackson\", 10.1, 1982]\n",
    "l\n",
    "\n",
    "# accessign list\n",
    "print('the same element using negative and positive indexing:\\n Postive:',l[0],\n",
    "'\\n Negative:' , l[-3]  )\n",
    "print('the same element using negative and positive indexing:\\n Postive:',l[1],\n",
    "'\\n Negative:' , l[-2]  )\n",
    "print('the same element using negative and positive indexing:\\n Postive:',l[2],\n",
    "'\\n Negative:' , l[-1]  )\n",
    "\n",
    "# a list with different types of element\n",
    "data = [\"Michael Jackson\", 10.1, 1982, [1, 2], (\"A\", 1)]\n",
    "print(data)\n",
    "\n",
    "# we can added element\n",
    "data.append(\"New Data\")\n",
    "print(\"Final Data: \",data)\n",
    "\n",
    "# spliting list\n",
    "print(data[0].split())\n",
    "\n",
    "# complete list accessing\n",
    "print(data[:])"
   ]
  },
  {
   "attachments": {},
   "cell_type": "markdown",
   "metadata": {},
   "source": [
    "### Sets\n",
    "A set is an unordered collection of unique elements where the elements can be unordered, and it is unchangeable"
   ]
  },
  {
   "cell_type": "code",
   "execution_count": 16,
   "metadata": {},
   "outputs": [
    {
     "name": "stdout",
     "output_type": "stream",
     "text": [
      "{1, 2, 3, 4, 5}\n",
      "{1, 2, 3, 4, 5, 6, 7, 8}\n",
      "{2, 4}\n",
      "{65, 'Pop, Rock, R&B', 10.0, None, 46.0, 'Thriller', '30-Nov-82', '00:42:19', 'Michael Jackson', 1982}\n",
      "Final set:  {65, 'Pop, Rock, R&B', 10.0, None, 46.0, 'Thriller', '30-Nov-82', '00:42:19', 'Michael Jackson', 'Classical Music', 1982}\n",
      "True\n"
     ]
    }
   ],
   "source": [
    "# creating set\n",
    "data = {1, 2, 3, 4, 5}\n",
    "print(data)\n",
    "\n",
    "# union of set\n",
    "\n",
    "data2 = {2, 4, 6, 7, 8}\n",
    "\n",
    "# union\n",
    "finaldata = data.union(data2)\n",
    "print(finaldata)\n",
    "\n",
    "# intersection\n",
    "print(data.intersection(data2))\n",
    "\n",
    "# converting a list into a set\n",
    "album_list = [ \"Michael Jackson\", \"Thriller\", 1982, \"00:42:19\", \\\n",
    "  \"Pop, Rock, R&B\", 46.0, 65, \"30-Nov-82\", None, 10.0]\n",
    "\n",
    "albumSet = set(album_list)\n",
    "print(albumSet)\n",
    "\n",
    "# we can add elemenr to the set\n",
    "albumSet.add(\"Classical Music\")\n",
    "print(\"Final set: \",albumSet)\n",
    "\n",
    "# checking element in set\n",
    "print(\"Classical Music\" in albumSet)"
   ]
  },
  {
   "attachments": {},
   "cell_type": "markdown",
   "metadata": {},
   "source": [
    "### Dictionaries\n",
    "A dictionary is a collection of key-value pairs that is used to store and retrieve data in an unordered manner"
   ]
  },
  {
   "cell_type": "code",
   "execution_count": 7,
   "metadata": {},
   "outputs": [
    {
     "name": "stdout",
     "output_type": "stream",
     "text": [
      "{'a': 0, 'b': 1, 'c': 2}\n",
      "dict_keys(['a', 'b', 'c'])\n",
      "dict_values([0, 1, 2])\n",
      "dict_items([('a', 0), ('b', 1), ('c', 2)])\n",
      "1\n",
      "After updating the values of dictionary:  {'a': 0, 'b': 25, 'c': 2}\n"
     ]
    }
   ],
   "source": [
    "# creating dictionary\n",
    "d = {'a':0,'b':1,'c':2}\n",
    "print(d)\n",
    "\n",
    "# printing the keys, values and items\n",
    "print(d.keys())\n",
    "print(d.values())\n",
    "print(d.items())\n",
    "\n",
    "# accessing the values\n",
    "print(d['b'])\n",
    "\n",
    "# updating\n",
    "d['b'] = 25\n",
    "print(\"After updating the values of dictionary: \",d)\n"
   ]
  },
  {
   "attachments": {},
   "cell_type": "markdown",
   "metadata": {},
   "source": [
    "### Conditions and looping\n",
    "\n",
    "1. Conditional statements\n",
    "   1. if\n",
    "   2. if else\n",
    "   3. elif\n",
    "   4. if else if\n",
    "   5. nested if else\n",
    "2. looping statements\n",
    "   1. for loop\n",
    "   2. for each loop\n",
    "   3. while loop\n",
    "\n",
    "### Logical Operator\n",
    "\n",
    "<ul>\n",
    "    <li><code>and</code></li>\n",
    "    <li><code>or</code></li>\n",
    "    <li><code>not</code></li>\n",
    "</ul>\n",
    "\n",
    "<img src=\"https://cf-courses-data.s3.us.cloud-object-storage.appdomain.cloud/IBMDeveloperSkillsNetwork-PY0101EN-SkillsNetwork/labs/Module%203/images/CondsTable.png\" width=\"650\">"
   ]
  },
  {
   "cell_type": "code",
   "execution_count": 15,
   "metadata": {},
   "outputs": [
    {
     "name": "stdout",
     "output_type": "stream",
     "text": [
      "index -> 0 has the value -> 0\n",
      "index -> 1 has the value -> 2\n",
      "index -> 2 has the value -> 4\n",
      "index -> 3 has the value -> 6\n",
      "index -> 4 has the value -> 8\n",
      "index -> 5 has the value -> 10\n",
      "\n",
      "red\n",
      "yellow\n",
      "blue\n",
      "\n",
      "index -> 0 has the color -> red\n",
      "index -> 1 has the color -> yellow\n",
      "index -> 2 has the color -> blue\n"
     ]
    }
   ],
   "source": [
    "# for loop with range\n",
    "pos = 0\n",
    "for i in range(0,10+1,2):\n",
    "  print(\"index ->\",pos,\"has the value ->\",i)\n",
    "  pos = pos + 1\n",
    "\n",
    "colorList = [\"red\",\"yellow\",\"blue\"]\n",
    "\n",
    "print()\n",
    "\n",
    "for color in range(len(colorList)):\n",
    "  print(colorList[color])\n",
    "  \n",
    "print()\n",
    "\n",
    "# enumerate -> use to iterate through data with a track\n",
    "for i, color in enumerate(colorList):\n",
    "  print(\"index ->\",i,\"has the color ->\",color)"
   ]
  },
  {
   "attachments": {},
   "cell_type": "markdown",
   "metadata": {},
   "source": [
    "## Functions\n",
    "1. userdefined function\n",
    "2. built-in functions"
   ]
  },
  {
   "cell_type": "code",
   "execution_count": 21,
   "metadata": {},
   "outputs": [
    {
     "name": "stdout",
     "output_type": "stream",
     "text": [
      "The result is 13247.119999999999\n",
      "sorted list ->  [0, 1.234, 2, 3.454, 12, 21, 43, 213, 335, 345, 4356]\n"
     ]
    }
   ],
   "source": [
    "# userdefined function\n",
    "def sum(a, b):\n",
    "  sum = a + b\n",
    "  return sum\n",
    "\n",
    "# callign function\n",
    "\n",
    "value = sum(10002,3245.12)\n",
    "\n",
    "print(\"The result is\",value)\n",
    "\n",
    "# built in function\n",
    "numList = [12,335,43,213,1.234,345,2,3.454,0,4356,21]\n",
    "numList.sort()\n",
    "print(\"sorted list -> \",numList) "
   ]
  },
  {
   "attachments": {},
   "cell_type": "markdown",
   "metadata": {},
   "source": [
    "## Class & Objects"
   ]
  },
  {
   "cell_type": "code",
   "execution_count": 27,
   "metadata": {},
   "outputs": [
    {
     "name": "stdout",
     "output_type": "stream",
     "text": [
      "Name ->  Nandan\n",
      "Age ->  24\n",
      "Email ->  gnnadan7@gmail.com\n"
     ]
    }
   ],
   "source": [
    "class data:\n",
    "  def __init__(self,name, age, email):\n",
    "    self.name = name\n",
    "    self.age = age\n",
    "    self.email = email\n",
    "  \n",
    "  def display(self):\n",
    "    print(\"Name -> \",self.name)\n",
    "    print(\"Age -> \",self.age)\n",
    "    print(\"Email -> \",self.email)\n",
    "\n",
    "# object\n",
    "obj = data(\"Nandan\",\"24\",\"gnnadan7@gmail.com\")\n",
    "\n",
    "# accessing data memebers and member function\n",
    "obj.display()"
   ]
  },
  {
   "cell_type": "code",
   "execution_count": null,
   "metadata": {},
   "outputs": [],
   "source": []
  }
 ],
 "metadata": {
  "kernelspec": {
   "display_name": "base",
   "language": "python",
   "name": "python3"
  },
  "language_info": {
   "codemirror_mode": {
    "name": "ipython",
    "version": 3
   },
   "file_extension": ".py",
   "mimetype": "text/x-python",
   "name": "python",
   "nbconvert_exporter": "python",
   "pygments_lexer": "ipython3",
   "version": "3.9.13"
  },
  "orig_nbformat": 4
 },
 "nbformat": 4,
 "nbformat_minor": 2
}
