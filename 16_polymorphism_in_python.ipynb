{
 "cells": [
  {
   "attachments": {},
   "cell_type": "markdown",
   "metadata": {},
   "source": [
    "## Polymorphism\n",
    "\n",
    "POLYMORPHISM - **PARENT Reference CHILD Object**\n",
    "\n",
    "- Polymorphism is a fundamental concept in object-oriented programming that allows objects of different classes to be treated as instances of a common base class.\n",
    "- POLY means many MORPHS means forms. An object with  many forms is called as POLYMORPHISM.\n",
    "- The word polymorphism means having many forms. In simple words, we can define polymorphism as the ability of a message to be displayed in more than one form.\n",
    "- Polymorphism is achieved through method overriding and method overloading.\n",
    "  1. **Method Overloading** - Methods are with same name but in variable numbers of parameters\n",
    "  2. **Method Overriding** - Methods that are with same names as parent class but difference in signature(Means the child class gives its own signature/implementation)\n",
    "\n",
    "**Important Message**\n",
    "\n",
    "- 🔰 Notes Link - [Python Learning From Zero to Hero](https://gnnandan.notion.site/Python-Learning-b3aa7ed958fd44659aa1be95f0f225a6)\n",
    "- 🔰 Open Source Developers Community Link (OSDC) - [Curious Developers Community](https://linktr.ee/curiousdevelopers.community) \n",
    "- 🔰 Official Website - [Curious Community Ecosystem](https://curiousdevelopers.in)"
   ]
  },
  {
   "cell_type": "code",
   "execution_count": 4,
   "metadata": {},
   "outputs": [
    {
     "name": "stdout",
     "output_type": "stream",
     "text": [
      "Inside abc_a class data function\n"
     ]
    }
   ],
   "source": [
    "# example for polymorphism\n",
    "class abc:\n",
    "  def func(self):\n",
    "    print(\"Inside abc class function\")\n",
    "    \n",
    "class abc_a(abc):\n",
    "  def data(self):\n",
    "    print(\"Inside abc_a class data function\")\n",
    "    \n",
    "# Parent reference to child object\n",
    "\n",
    "parentRef = abc_a()\n",
    "parentRef.data()\n",
    "\n",
    "\"\"\"\n",
    "parentRef -> it is a parent class Reference\n",
    "abc_a() -> it is a child class object\n",
    "\n",
    "\"\"\""
   ]
  },
  {
   "cell_type": "code",
   "execution_count": 17,
   "metadata": {},
   "outputs": [
    {
     "name": "stdout",
     "output_type": "stream",
     "text": [
      "Self , gnnandan7@gmail.com\n",
      "Curious Technologies , admin@curioustechnologies.org\n",
      "Curious Developers , admin@curiousdevelopers.org\n"
     ]
    }
   ],
   "source": [
    "# Method Overloading\n",
    "\n",
    "class nandan:\n",
    "  def data(self,email): \n",
    "    self.email = email\n",
    "    print(email)\n",
    "  \n",
    "  def data(self, domain ,email):\n",
    "    self.email = domain\n",
    "    self.domain = domain\n",
    "    print(domain,\",\",email)\n",
    "    \n",
    "  def data(self, email, domain):\n",
    "    self.email = domain\n",
    "    self.domain = domain\n",
    "    print(domain,\",\",email)\n",
    "    \n",
    "\n",
    "me = nandan()\n",
    "me.data(email = \"gnnandan7@gmail.com\",domain = \"Self\")\n",
    "me.data(domain = \"Curious Technologies\",email = \"admin@curioustechnologies.org\")\n",
    "me.data(email = \"admin@curiousdevelopers.org\",domain = \"Curious Developers\")\n",
    "    \n",
    "    "
   ]
  },
  {
   "cell_type": "code",
   "execution_count": 22,
   "metadata": {},
   "outputs": [
    {
     "name": "stdout",
     "output_type": "stream",
     "text": [
      "WING 1 - Curious Develoeprs is a opensource developers community website\n",
      "About Community, Mentorship, and Guidance\n",
      "Service & Opensource Community Oriented\n",
      "WING 2 - Curious Technologies is corporate website\n",
      "Application Development, Website Development, and many more\n",
      "Corporate with Corporate etiquettes\n"
     ]
    }
   ],
   "source": [
    "# Method Overriding\n",
    "class CuriousDevelopers():  \n",
    "    def websites(self):  \n",
    "        print(\"WING 1 - Curious Develoeprs is a opensource developers community website\")  \n",
    "  \n",
    "    def topic(self):  \n",
    "        print(\"About Community, Mentorship, and Guidance\")  \n",
    "  \n",
    "    def type(self):  \n",
    "        print(\"Service & Opensource Community Oriented\")  \n",
    "  \n",
    "class CuriousTechnologies(CuriousDevelopers):  \n",
    "    def websites(self):  \n",
    "        print(\"WING 2 - Curious Technologies is corporate website\")  \n",
    "  \n",
    "    def topic(self):  \n",
    "        print(\"Application Development, Website Development, and many more\")  \n",
    "  \n",
    "    def type(self):  \n",
    "        print(\"Corporate with Corporate etiquettes\")\n",
    "\n",
    "wing1 = CuriousDevelopers()\n",
    "wing2 = CuriousTechnologies()\n",
    "\n",
    "# overriding happening on functions websites, topic and type\n",
    "\n",
    "for domains in (wing1, wing2):\n",
    "  domains.websites()\n",
    "  domains.topic()\n",
    "  domains.type()\n",
    "  "
   ]
  },
  {
   "cell_type": "code",
   "execution_count": null,
   "metadata": {},
   "outputs": [],
   "source": []
  }
 ],
 "metadata": {
  "kernelspec": {
   "display_name": "base",
   "language": "python",
   "name": "python3"
  },
  "language_info": {
   "codemirror_mode": {
    "name": "ipython",
    "version": 3
   },
   "file_extension": ".py",
   "mimetype": "text/x-python",
   "name": "python",
   "nbconvert_exporter": "python",
   "pygments_lexer": "ipython3",
   "version": "3.9.13"
  },
  "orig_nbformat": 4
 },
 "nbformat": 4,
 "nbformat_minor": 2
}
