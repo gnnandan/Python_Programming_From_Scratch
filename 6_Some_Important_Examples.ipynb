{
 "cells": [
  {
   "attachments": {},
   "cell_type": "markdown",
   "metadata": {},
   "source": [
    "### Sum of 10 natural numbers"
   ]
  },
  {
   "cell_type": "code",
   "execution_count": 3,
   "metadata": {},
   "outputs": [
    {
     "name": "stdout",
     "output_type": "stream",
     "text": [
      "The sum of 10 natural number is 55\n"
     ]
    }
   ],
   "source": [
    "sum = 0\n",
    "\n",
    "for i in range(1, 11):\n",
    "  sum = sum + i\n",
    "\n",
    "print(\"The sum of 10 natural number is {}\".format(sum))"
   ]
  },
  {
   "attachments": {},
   "cell_type": "markdown",
   "metadata": {},
   "source": [
    "## Sum of n natural number"
   ]
  },
  {
   "cell_type": "code",
   "execution_count": 5,
   "metadata": {},
   "outputs": [
    {
     "name": "stdout",
     "output_type": "stream",
     "text": [
      "The sum of 10 natural number is 55\n"
     ]
    }
   ],
   "source": [
    "n = int(input(\"Enter the input number\"))\n",
    "\n",
    "total = 0\n",
    "for i in range(1,n+1):\n",
    "  total = total + i;\n",
    "  \n",
    "print(\"The sum of {} natural number is {}\".format(n, total))"
   ]
  },
  {
   "attachments": {},
   "cell_type": "markdown",
   "metadata": {},
   "source": [
    "## Largest of 3 numbers"
   ]
  },
  {
   "cell_type": "code",
   "execution_count": 8,
   "metadata": {},
   "outputs": [
    {
     "name": "stdout",
     "output_type": "stream",
     "text": [
      "15 is greater than 10 and 3\n"
     ]
    }
   ],
   "source": [
    "a = 10\n",
    "b = 3\n",
    "c = 15\n",
    "\n",
    "if(a>b and a>c):\n",
    "  print(\"{} is greater than {} and {}\".format(a,b,c))\n",
    "elif(b>a and b>c):\n",
    "  print(\"{} is greater than {} and {}\".format(b,a,c))\n",
    "else:\n",
    "  print(\"{} is greater than {} and {}\".format(c,a,b))"
   ]
  },
  {
   "attachments": {},
   "cell_type": "markdown",
   "metadata": {},
   "source": [
    "## Even or Odd Number Validator"
   ]
  },
  {
   "cell_type": "code",
   "execution_count": 9,
   "metadata": {},
   "outputs": [
    {
     "name": "stdout",
     "output_type": "stream",
     "text": [
      "The number 100 is a even number.\n"
     ]
    }
   ],
   "source": [
    "num = int(input(\"Enter the number: \"))\n",
    "\n",
    "if(num%2==0):\n",
    "    print(\"The number {} is a even number.\".format(num))\n",
    "else:\n",
    "    print(\"The number {} is a odd number.\".format(num))\n"
   ]
  },
  {
   "attachments": {},
   "cell_type": "markdown",
   "metadata": {},
   "source": [
    "## Leap Year or Not\n",
    "\n",
    "400 & 100    -> leap year\n",
    "4 or not(100) -> leap year"
   ]
  },
  {
   "cell_type": "code",
   "execution_count": 11,
   "metadata": {},
   "outputs": [
    {
     "name": "stdout",
     "output_type": "stream",
     "text": [
      "1999 is not a leap year\n"
     ]
    }
   ],
   "source": [
    "year = int(input(\"Enter the year: \"))\n",
    "\n",
    "if(year%400==0 and year%100==0): \n",
    "  print(\"{} is a leap year\".format(year))\n",
    "elif(year%4==0 and year%100!=0):\n",
    "  print(\"{} is a leap year\".format(year))\n",
    "else:\n",
    "  print(\"{} is not a leap year\".format(year))"
   ]
  },
  {
   "cell_type": "code",
   "execution_count": null,
   "metadata": {},
   "outputs": [],
   "source": []
  }
 ],
 "metadata": {
  "kernelspec": {
   "display_name": "base",
   "language": "python",
   "name": "python3"
  },
  "language_info": {
   "codemirror_mode": {
    "name": "ipython",
    "version": 3
   },
   "file_extension": ".py",
   "mimetype": "text/x-python",
   "name": "python",
   "nbconvert_exporter": "python",
   "pygments_lexer": "ipython3",
   "version": "3.9.13"
  },
  "orig_nbformat": 4
 },
 "nbformat": 4,
 "nbformat_minor": 2
}
