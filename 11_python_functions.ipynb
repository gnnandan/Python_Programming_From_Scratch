{
 "cells": [
  {
   "attachments": {},
   "cell_type": "markdown",
   "metadata": {},
   "source": [
    "## Functions\n",
    "- A function is a block of code that performs a specific task and can be reused multiple times throughout a program.\n",
    "- Functions are a key component of modular programming, which involves breaking down a program into smaller, more manageable pieces."
   ]
  },
  {
   "attachments": {},
   "cell_type": "markdown",
   "metadata": {},
   "source": [
    "### Creating a function and calling it"
   ]
  },
  {
   "cell_type": "code",
   "execution_count": 2,
   "metadata": {},
   "outputs": [
    {
     "name": "stdout",
     "output_type": "stream",
     "text": [
      "We are python developers, We create awesome Products\n"
     ]
    }
   ],
   "source": [
    "def myFunc(): #creating a function\n",
    "  print(\"We are python developers, We create awesome Products\") #body of the function\n",
    "  \n",
    "myFunc() #calling the function"
   ]
  },
  {
   "attachments": {},
   "cell_type": "markdown",
   "metadata": {},
   "source": [
    "### Types of functions based on parameters and return types\n",
    "\n",
    "1. function with no parameter and no return type\n",
    "2. function with parameter and no return type\n",
    "3. function with no parameter and with return type\n",
    "4. function with parameter and with return type"
   ]
  },
  {
   "cell_type": "code",
   "execution_count": 26,
   "metadata": {},
   "outputs": [
    {
     "name": "stdout",
     "output_type": "stream",
     "text": [
      "Hello...,\n",
      "I'm a Python Developer, Let's Learn and Grow Together\n"
     ]
    }
   ],
   "source": [
    "# function with no parameter and no return type\n",
    "def myFunc():\n",
    "  print(\"Hello...,\\nI'm a Python Developer, Let's Learn and Grow Together\")\n",
    "  \n",
    "myFunc()"
   ]
  },
  {
   "cell_type": "code",
   "execution_count": 23,
   "metadata": {},
   "outputs": [
    {
     "name": "stdout",
     "output_type": "stream",
     "text": [
      "Hello...,\n",
      "I'm a Python Developer, Let's Learn and Grow Together\n"
     ]
    }
   ],
   "source": [
    "# function with parameter and no return type\n",
    "def myFunc(message):\n",
    "  print(\"Hello...,\\n{}\".format(message))\n",
    "\n",
    "inputMessage = \"I'm a Python Developer, Let's Learn and Grow Together\"\n",
    "myFunc(inputMessage)"
   ]
  },
  {
   "cell_type": "code",
   "execution_count": 24,
   "metadata": {},
   "outputs": [
    {
     "name": "stdout",
     "output_type": "stream",
     "text": [
      "Hello...,\n",
      "I'm a Python Developer, Let's Learn and Grow Together\n"
     ]
    }
   ],
   "source": [
    "# function with no parameter and with return type\n",
    "\n",
    "def myFunc():\n",
    "  return \"Hello...,\\nI'm a Python Developer, Let's Learn and Grow Together\"\n",
    "\n",
    "inputMessage = myFunc()\n",
    "print(inputMessage)"
   ]
  },
  {
   "cell_type": "code",
   "execution_count": 25,
   "metadata": {},
   "outputs": [
    {
     "name": "stdout",
     "output_type": "stream",
     "text": [
      "Hello...,\n",
      "I'm a Python Developer, Let's Learn and Grow Together\n"
     ]
    }
   ],
   "source": [
    "# function with parameter and with return type\n",
    "def myFunc(message):\n",
    "  return \"Hello...,\\n{}\".format(message)\n",
    "\n",
    "inputMessage = \"I'm a Python Developer, Let's Learn and Grow Together\"\n",
    "finalOutput = myFunc(inputMessage)\n",
    "print(finalOutput)\n"
   ]
  },
  {
   "cell_type": "code",
   "execution_count": null,
   "metadata": {},
   "outputs": [],
   "source": []
  }
 ],
 "metadata": {
  "kernelspec": {
   "display_name": "base",
   "language": "python",
   "name": "python3"
  },
  "language_info": {
   "codemirror_mode": {
    "name": "ipython",
    "version": 3
   },
   "file_extension": ".py",
   "mimetype": "text/x-python",
   "name": "python",
   "nbconvert_exporter": "python",
   "pygments_lexer": "ipython3",
   "version": "3.9.13"
  },
  "orig_nbformat": 4
 },
 "nbformat": 4,
 "nbformat_minor": 2
}
