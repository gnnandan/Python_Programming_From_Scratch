{
 "cells": [
  {
   "attachments": {},
   "cell_type": "markdown",
   "metadata": {},
   "source": [
    "## Inheritance In Python\n",
    "\n",
    "- Inheritance is a process of a class acquiring the properties(variables) and behavior (methods) from the other class.\n",
    "    - **Parent class** is the class being inherited from, also called base class.\n",
    "    - **Child class** is the class that inherits from another class, also called derived class."
   ]
  },
  {
   "cell_type": "code",
   "execution_count": null,
   "metadata": {},
   "outputs": [],
   "source": [
    "# example\n",
    "\n",
    "class parentClass: #parent class\n",
    "  \n",
    "  # attributes and methoda of the parent class\n",
    "  personName = \"\"\n",
    "  familyName = \"\"\n",
    "  resident  =\"\"\n",
    "  \n",
    "  def foodStyle(self): #method of a parent class\n",
    "    print(\"Specifying in child/base class\")\n",
    "    \n",
    "class childClass(parentClass):  #child class\n",
    "  def foodStyle(self, personName, familyName): #method overriding\n",
    "    self.personName = personName\n",
    "    self.familyName = familyName\n",
    "    \n",
    "    # accessing parentclass variables\n",
    "    livingPlace = self.resident\n",
    "    print(f\"{self.personName} {self.familyName}'s family staying in {livingPlace} and they are pure vegetarian\")\n",
    "      \n",
    "\n",
    "# creating an object to child class\n",
    "\n",
    "nandan = childClass()\n",
    "nandan.resident = \"Bangalore\"\n",
    "nandan.foodStyle(\"Nandan\", \"G N\")\n",
    "\n",
    "\"\"\"\n",
    "Nandan G N's family staying in Bangalore and they are pure vegetarian\n",
    "\"\"\""
   ]
  },
  {
   "attachments": {},
   "cell_type": "markdown",
   "metadata": {},
   "source": [
    "### Super()\n",
    "- super() -> that makes child class inherits all the methods and attributes(prorperties/variables) from its parent class"
   ]
  },
  {
   "cell_type": "code",
   "execution_count": null,
   "metadata": {},
   "outputs": [],
   "source": [
    "class parent:\n",
    "  def __init__(self,name):\n",
    "    self.name = name\n",
    "    \n",
    "  def greet(self):\n",
    "    print(\"Hello My name is \", self.name)\n",
    "    \n",
    "class child(parent):\n",
    "  def __init__(self,name, age, place):\n",
    "    # lets inherit the properties and methods from parent class\n",
    "    super().__init__(name)\n",
    "    # The self parameter is a reference to the current instance of the class\n",
    "    self.age = age\n",
    "    self.place = place\n",
    "    \n",
    "  def greet(self):\n",
    "    super().greet() #calling parent class method\n",
    "    print(f\"Hello, My name is {self.name}, my age is {self.age} and I'm from {self.place}\")\n",
    "    \n",
    "person1 = child(\"Nandan\",23,\"Bangalore\")\n",
    "person1.greet()\n",
    "\n",
    "\"\"\"\n",
    "Hello My name is  Nandan\n",
    "Hello, My name is Nandan, my age is 23 and I'm from Bangalore\n",
    "\"\"\""
   ]
  },
  {
   "attachments": {},
   "cell_type": "markdown",
   "metadata": {},
   "source": [
    "## Types Of Inheriance\n",
    "1. Singlelevel Inheritance\n",
    "2. Multiple Inheritance\n",
    "3. Multilevel Inheritance \n",
    "4. Hierarchial Inheritance\n",
    "5. Hybrid Inheritance"
   ]
  },
  {
   "cell_type": "code",
   "execution_count": null,
   "metadata": {},
   "outputs": [],
   "source": [
    "# single level inheritance\n",
    "class vehicle:\n",
    "  def vehicleInfo(self):\n",
    "    print(\"Parent Class - Inside Vehicle Info Class\")\n",
    "    \n",
    "class car(vehicle):\n",
    "  def carInfo(self):\n",
    "    print(\"Child Class - Inside Car Info Class\")\n",
    "\n",
    "# object creation\n",
    "\n",
    "c = car()\n",
    "\n",
    "c.vehicleInfo()\n",
    "c.carInfo()"
   ]
  },
  {
   "cell_type": "code",
   "execution_count": 5,
   "metadata": {},
   "outputs": [
    {
     "name": "stdout",
     "output_type": "stream",
     "text": [
      "This is a purple class derived from <class '__main__.color'>\n",
      "This is a red class derived from <class '__main__.color'>\n",
      "This is a orange class derived from <class '__main__.color'>\n"
     ]
    }
   ],
   "source": []
  },
  {
   "cell_type": "code",
   "execution_count": null,
   "metadata": {},
   "outputs": [],
   "source": [
    "class car: #parent class\n",
    "  \n",
    "  # parenr class attributes and methods\n",
    "  def __init__(self,brand, subbrand, color):\n",
    "    self.brand = brand\n",
    "    self.subbrand = subbrand\n",
    "    self.color = color\n",
    "  \n",
    "  # parenr class methods\n",
    "  def checkCarType(self):\n",
    "    print(self.brand, self.subbrand, self.color)\n",
    "    \n",
    "class tata(car): #child class 1\n",
    "  \n",
    "  \"\"\"Child class is taking another attribute called isELectric\"\"\"\n",
    "  def __init__(self,brand, subbrand, color, isElectric):\n",
    "    \n",
    "    \"\"\"super() -> that makes child class inherits all the methods and attributes(prorperties/variables) from its parent class\"\"\"\n",
    "    super().__init__(brand,subbrand,color)\n",
    "    self.isElectric = isElectric\n",
    "    print(f\"Car = {self.brand}\\nSubbrand = {self.subbrand}\\nColor = {self.color}\\nisElectric = {self.isElectric}\")\n",
    "    \n",
    "class tesla(car):\n",
    "  def __init__(self,brand, subbrand, color, isElectric):\n",
    "    \"\"\"super() -> that makes child class inherits all the methods and attributes(prorperties/variables) from its parent class\"\"\"\n",
    "    super().__init__(brand,subbrand,color)\n",
    "    self.isElectric = isElectric\n",
    "    print(f\"Car = {self.brand}\\nSubbrand = {self.subbrand}\\nColor = {self.color}\\nisElectric = {self.isElectric}\")\n",
    "\n",
    "\n",
    "print(\"Object 1\")\n",
    "\n",
    "isElectric = True\n",
    "nexon = tata(\"TATA\", \"Nexon\",\"Black\",isElectric)\n",
    "\n",
    "print(\"Object 2\")\n",
    "model_s = tesla(\"TESLA\", \"Model S\",\"red\",\"isElectric\")\n",
    "\n",
    "\"\"\"\n",
    "Object 1\n",
    "Car = TATA\n",
    "Subbrand = Nexon\n",
    "Color = Black\n",
    "isElectric = True\n",
    "Object 2\n",
    "Car = TESLA\n",
    "Subbrand = Model S\n",
    "Color = red\n",
    "isElectric = isElectric\n",
    "\"\"\""
   ]
  }
 ],
 "metadata": {
  "kernelspec": {
   "display_name": "base",
   "language": "python",
   "name": "python3"
  },
  "language_info": {
   "codemirror_mode": {
    "name": "ipython",
    "version": 3
   },
   "file_extension": ".py",
   "mimetype": "text/x-python",
   "name": "python",
   "nbconvert_exporter": "python",
   "pygments_lexer": "ipython3",
   "version": "3.9.13"
  },
  "orig_nbformat": 4
 },
 "nbformat": 4,
 "nbformat_minor": 2
}
