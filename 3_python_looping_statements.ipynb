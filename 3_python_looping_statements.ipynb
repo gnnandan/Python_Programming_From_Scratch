{
 "cells": [
  {
   "attachments": {},
   "cell_type": "markdown",
   "metadata": {},
   "source": [
    "## Looping statements\n",
    "- for loop\n",
    "  - for var in range(start, end, step)\n",
    "- foreach loop\n",
    "- while loop\n",
    "\n",
    "**Important Message**\n",
    "\n",
    "- 🔰 Notes Link - [Python Learning From Zero to Hero](https://gnnandan.notion.site/Python-Learning-b3aa7ed958fd44659aa1be95f0f225a6)\n",
    "- 🔰 Open Source Developers Community Link (OSDC) - [Curious Developers Community](https://linktr.ee/curiousdevelopers.community) \n",
    "- 🔰 Official Website - [Curious Community Ecosystem](https://curiousdevelopers.in)"
   ]
  },
  {
   "cell_type": "code",
   "execution_count": 11,
   "metadata": {},
   "outputs": [
    {
     "name": "stdout",
     "output_type": "stream",
     "text": [
      "Usage of for loop 1\n",
      "0\n",
      "1\n",
      "2\n",
      "3\n",
      "4\n",
      "5\n",
      "6\n",
      "7\n",
      "8\n",
      "9\n",
      "Usage of for loop 2\n",
      "0\n",
      "2\n",
      "4\n",
      "6\n",
      "8\n",
      "Usage of for loop 3\n",
      "Usage of for loop 4\n",
      "2 is there in list\n",
      "3 is not in list\n",
      "4 is not in list\n",
      "5 is not in list\n",
      "6 is not in list\n",
      "7 is not in list\n",
      "8 is not in list\n",
      "9 is not in list\n",
      "Loop Finished\n"
     ]
    }
   ],
   "source": [
    "# for loop\n",
    "\n",
    "print(\"Usage of for loop 1\")\n",
    "for x in range(0,10):\n",
    "  print(x)\n",
    "  \n",
    "print(\"Usage of for loop 2\")\n",
    "\n",
    "for x in range(0,10,2):\n",
    "  print(x)\n",
    "  \n",
    "print(\"Usage of for loop 3\")\n",
    "\n",
    "for x in [2,3,4,5,6,7,8,9]:\n",
    "  print(x)\n",
    "  \n",
    "print(\"Usage of for loop 4\")\n",
    "\n",
    "# foreach loop\n",
    "my_list = [2,3,4,5,6,7,8,9]\n",
    "for x in my_list:\n",
    "  if(x==2):\n",
    "    print(x,\"is there in list\")\n",
    "  else:\n",
    "    print(x,\"is not in list\")\n",
    "else:\n",
    "  print(\"Loop Finished\")"
   ]
  },
  {
   "cell_type": "code",
   "execution_count": 4,
   "metadata": {},
   "outputs": [
    {
     "name": "stdout",
     "output_type": "stream",
     "text": [
      "1\n",
      "2\n",
      "3\n",
      "4\n",
      "5\n"
     ]
    }
   ],
   "source": [
    "# while loop\n",
    "i= 1 #initialization\n",
    "while(i<=5): #condition\n",
    "  print(i)\n",
    "  i=i+1 #incrementation"
   ]
  },
  {
   "attachments": {},
   "cell_type": "markdown",
   "metadata": {},
   "source": [
    "## Break & Continue Statements\n",
    "- Break - With the break statement we can stop the loop even if the while/for condition is true\n",
    "- Continue - With the continue statement we can stop the current iteration, and continue with the next"
   ]
  },
  {
   "cell_type": "code",
   "execution_count": 2,
   "metadata": {},
   "outputs": [
    {
     "name": "stdout",
     "output_type": "stream",
     "text": [
      "2\n",
      "4\n",
      "6\n",
      "8\n",
      "10\n",
      "12\n"
     ]
    }
   ],
   "source": [
    "#break with for loop\n",
    "my_list = [2, 4, 6, 8, 10, 12, 13, 14, 16]\n",
    "\n",
    "# this program stops execution if it finds the odd number\n",
    "for x in my_list:\n",
    "  if(x%2!=0):\n",
    "    break \n",
    "  else:\n",
    "    print(x)"
   ]
  },
  {
   "cell_type": "code",
   "execution_count": 17,
   "metadata": {},
   "outputs": [
    {
     "name": "stdout",
     "output_type": "stream",
     "text": [
      "0\n",
      "1\n",
      "2\n",
      "3\n",
      "4\n",
      "5\n"
     ]
    }
   ],
   "source": [
    "# break with while loop\n",
    "# this program stops execution if it finds the number 6\n",
    "i=0\n",
    "while(i < 17):\n",
    "  if(i==6):\n",
    "    break\n",
    "  else:\n",
    "    print(i)\n",
    "  i=i+1\n"
   ]
  },
  {
   "cell_type": "code",
   "execution_count": 18,
   "metadata": {},
   "outputs": [
    {
     "name": "stdout",
     "output_type": "stream",
     "text": [
      "2\n",
      "4\n",
      "6\n",
      "8\n",
      "10\n",
      "12\n",
      "14\n",
      "16\n"
     ]
    }
   ],
   "source": [
    "\n",
    "#continue with for loop\n",
    "my_list = [2, 4, 6, 8, 10, 12, 13, 14, 16]\n",
    "\n",
    "# this program skipps execution if it finds the odd number\n",
    "for x in my_list:\n",
    "  if(x%2!=0):\n",
    "    continue\n",
    "  else:\n",
    "    print(x)"
   ]
  },
  {
   "cell_type": "code",
   "execution_count": 26,
   "metadata": {},
   "outputs": [
    {
     "name": "stdout",
     "output_type": "stream",
     "text": [
      "1\n",
      "2\n",
      "3\n",
      "4\n",
      "5\n",
      "7\n",
      "8\n",
      "9\n",
      "10\n",
      "11\n",
      "12\n"
     ]
    }
   ],
   "source": [
    "# continue with while loop\n",
    "# this program skipps the execution if it finds the number 6\n",
    "i=0\n",
    "while(i < 12):\n",
    "  i=i+1\n",
    "  if(i == 6):\n",
    "    continue\n",
    "  print(i)"
   ]
  },
  {
   "cell_type": "markdown",
   "metadata": {},
   "source": []
  }
 ],
 "metadata": {
  "kernelspec": {
   "display_name": "base",
   "language": "python",
   "name": "python3"
  },
  "language_info": {
   "codemirror_mode": {
    "name": "ipython",
    "version": 3
   },
   "file_extension": ".py",
   "mimetype": "text/x-python",
   "name": "python",
   "nbconvert_exporter": "python",
   "pygments_lexer": "ipython3",
   "version": "3.9.13"
  },
  "orig_nbformat": 4
 },
 "nbformat": 4,
 "nbformat_minor": 2
}
