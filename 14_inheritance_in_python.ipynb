{
 "cells": [
  {
   "attachments": {},
   "cell_type": "markdown",
   "metadata": {},
   "source": [
    "## Inheritance In Python\n",
    "\n",
    "- Inheritance is a process of a class acquiring the properties(variables) and behavior (methods) from the other class.\n",
    "    - **Parent class** is the class being inherited from, also called base class.\n",
    "    - **Child class** is the class that inherits from another class, also called derived class."
   ]
  },
  {
   "cell_type": "code",
   "execution_count": null,
   "metadata": {},
   "outputs": [],
   "source": [
    "# example\n",
    "\n",
    "class parentClass: #parent class\n",
    "  \n",
    "  # attributes and methoda of the parent class\n",
    "  personName = \"\"\n",
    "  familyName = \"\"\n",
    "  resident  =\"\"\n",
    "  \n",
    "  def foodStyle(self): #method of a parent class\n",
    "    print(\"Specifying in child/base class\")\n",
    "    \n",
    "class childClass(parentClass):  #child class\n",
    "  def foodStyle(self, personName, familyName): #method overriding\n",
    "    self.personName = personName\n",
    "    self.familyName = familyName\n",
    "    \n",
    "    # accessing parentclass variables\n",
    "    livingPlace = self.resident\n",
    "    print(f\"{self.personName} {self.familyName}'s family staying in {livingPlace} and they are pure vegetarian\")\n",
    "      \n",
    "\n",
    "# creating an object to child class\n",
    "\n",
    "nandan = childClass()\n",
    "nandan.resident = \"Bangalore\"\n",
    "nandan.foodStyle(\"Nandan\", \"G N\")\n",
    "\n",
    "\"\"\"\n",
    "Nandan G N's family staying in Bangalore and they are pure vegetarian\n",
    "\"\"\""
   ]
  },
  {
   "attachments": {},
   "cell_type": "markdown",
   "metadata": {},
   "source": [
    "### Super()\n",
    "- super() -> that makes child class inherits all the methods and attributes(prorperties/variables) from its parent class"
   ]
  },
  {
   "cell_type": "code",
   "execution_count": null,
   "metadata": {},
   "outputs": [],
   "source": [
    "class parent:\n",
    "  def __init__(self,name):\n",
    "    self.name = name\n",
    "    \n",
    "  def greet(self):\n",
    "    print(\"Hello My name is \", self.name)\n",
    "    \n",
    "class child(parent):\n",
    "  def __init__(self,name, age, place):\n",
    "    # lets inherit the properties and methods from parent class\n",
    "    super().__init__(name)\n",
    "    # The self parameter is a reference to the current instance of the class\n",
    "    self.age = age\n",
    "    self.place = place\n",
    "    \n",
    "  def greet(self):\n",
    "    super().greet() #calling parent class method\n",
    "    print(f\"Hello, My name is {self.name}, my age is {self.age} and I'm from {self.place}\")\n",
    "    \n",
    "person1 = child(\"Nandan\",23,\"Bangalore\")\n",
    "person1.greet()\n",
    "\n",
    "\"\"\"\n",
    "Hello My name is  Nandan\n",
    "Hello, My name is Nandan, my age is 23 and I'm from Bangalore\n",
    "\"\"\""
   ]
  },
  {
   "attachments": {},
   "cell_type": "markdown",
   "metadata": {},
   "source": [
    "## Types Of Inheriance\n",
    "1. Singlelevel Inheritance - When child class is derived from only one parent class. This is called single inheritance\n",
    "2. Multiple Inheritance - When child class is derived or inherited from more than one parent class.\n",
    "3. Multilevel Inheritance - a child class acts as a parent class for another child class, which in turn can act as a parent class for another child class, forming a chain or hierarchy of classes.\n",
    "4. Hierarchial Inheritance - When we derive or inherit more than one child class from one(same) parent class\n",
    "5. Hybrid Inheritance - Hybrid Inheritance is the combinations of simple, multiple, multilevel and hierarchical inheritance"
   ]
  },
  {
   "cell_type": "code",
   "execution_count": null,
   "metadata": {},
   "outputs": [],
   "source": [
    "# single level inheritance\n",
    "class vehicle:\n",
    "  def vehicleInfo(self):\n",
    "    print(\"Parent Class - Inside Vehicle Info Class\")\n",
    "    \n",
    "class car(vehicle):\n",
    "  def carInfo(self):\n",
    "    print(\"Child Class - Inside Car Info Class\")\n",
    "\n",
    "# object creation\n",
    "\n",
    "c = car()\n",
    "\n",
    "c.vehicleInfo()\n",
    "c.carInfo()"
   ]
  },
  {
   "cell_type": "code",
   "execution_count": 7,
   "metadata": {},
   "outputs": [
    {
     "name": "stdout",
     "output_type": "stream",
     "text": [
      "Amazon is an Online E-Commerce Application and its popularity is 70\n",
      "Google is an Internet Company and its popularity is 50\n",
      "Tata is an Multinational Company and its popularity is 100\n",
      "Tata an Indian Origin Company\n",
      "('Amazon', 'Google') are not an Indian Origin Company\n"
     ]
    }
   ],
   "source": [
    "# multiple inheritance\n",
    "class Brands:\n",
    "  brand1 = \"Amazon\"\n",
    "  brand2 = \"Google\"\n",
    "  brand3 = \"Tata\"\n",
    "  \n",
    "  def origin(self):\n",
    "    print(f\"{self.brand3} an Indian Origin Company\")\n",
    "    print(f\"{self.brand1, self.brand2} are not an Indian Origin Company\")\n",
    "    \n",
    "class Products:\n",
    "  prod1 = \"Online E-Commerce Application\"\n",
    "  prod2 = \"Internet Company\"\n",
    "  prod3 = \"Multinational Company\"\n",
    "  \n",
    "    \n",
    "class CustomersOption(Brands, Products):\n",
    "  popularity_prod1 = 70\n",
    "  popularity_prod2 = 50\n",
    "  popularity_prod3 = 100\n",
    "  \n",
    "\n",
    "# object creation\n",
    "customerResponse = CustomersOption()\n",
    "\n",
    "print(customerResponse.brand1,\"is an\",customerResponse.prod1, \"and its popularity is\",customerResponse.popularity_prod1)\n",
    "print(customerResponse.brand2,\"is an\",customerResponse.prod2, \"and its popularity is\",customerResponse.popularity_prod2)\n",
    "print(customerResponse.brand3,\"is an\",customerResponse.prod3, \"and its popularity is\",customerResponse.popularity_prod3)\n",
    "\n",
    "customerResponse.origin()\n",
    "\n"
   ]
  },
  {
   "cell_type": "code",
   "execution_count": 8,
   "metadata": {},
   "outputs": [
    {
     "name": "stdout",
     "output_type": "stream",
     "text": [
      "Variable from Class C\n",
      "Method from class C\n"
     ]
    }
   ],
   "source": [
    "# Multilevel Inheritance\n",
    "\n",
    "class A: #parent class\n",
    "  \n",
    "  var = \"Variable from Class A\"\n",
    "  \n",
    "  def methodA(self):\n",
    "    print(\"Method from class A\")\n",
    "    \n",
    "class B(A): #child class\n",
    "  var = \"Variable from Class B\"\n",
    "  \n",
    "  def methodB(self):\n",
    "    print(\"Method from class B\")\n",
    "    \n",
    "class C(B): #grand child class\n",
    "  var = \"Variable from Class C\"\n",
    "  \n",
    "  def methodC(self):\n",
    "    print(\"Method from class C\")\n",
    "    \n",
    "\n",
    "obj = C()\n",
    "\n",
    "print(obj.var)\n",
    "obj.methodC()"
   ]
  },
  {
   "cell_type": "code",
   "execution_count": 11,
   "metadata": {},
   "outputs": [
    {
     "name": "stdout",
     "output_type": "stream",
     "text": [
      "This is 1 - child class Varibale\n",
      "This is 1 - child class method\n",
      "This is 2 - child class Varibale\n",
      "This is 2 - child class method\n",
      "This is 3 - child class Varibale\n",
      "This is 3 - child class method\n"
     ]
    }
   ],
   "source": [
    "# Hierarchial Inheritance\n",
    "class A:\n",
    "  var =  \"This parent class variable\"\n",
    "  \n",
    "  def method(self):\n",
    "    print(\"This is parent class method\")\n",
    "    \n",
    "class B(A):\n",
    "  var = \"This is 1 - child class Varibale\"\n",
    "  \n",
    "  def method(self):\n",
    "    print(\"This is 1 - child class method\")\n",
    "\n",
    "class C(A):\n",
    "  var = \"This is 2 - child class Varibale\"\n",
    "  \n",
    "  def method(self):\n",
    "    print(\"This is 2 - child class method\")\n",
    "    \n",
    "class D(A):\n",
    "  var = \"This is 3 - child class Varibale\"\n",
    "  \n",
    "  def method(self):\n",
    "    print(\"This is 3 - child class method\")\n",
    "    \n",
    "# object creation for child 1\n",
    "objChild1 = B()\n",
    "print(objChild1.var)\n",
    "objChild1.method()\n",
    "\n",
    "# object creation for child 2\n",
    "objChild2 = C()\n",
    "print(objChild2.var)\n",
    "objChild2.method()\n",
    "\n",
    "# object creation for child 3\n",
    "objChild3 = D()\n",
    "print(objChild3.var)\n",
    "objChild3.method()"
   ]
  },
  {
   "cell_type": "code",
   "execution_count": 20,
   "metadata": {},
   "outputs": [
    {
     "name": "stdout",
     "output_type": "stream",
     "text": [
      "Mouse use to track or open files\n",
      "Laptop is used for programming and office purpose\n",
      "Enginers use laptop & mouse for their work\n"
     ]
    }
   ],
   "source": [
    "# Hybrid Inheritance\n",
    "class pc:\n",
    "  def standaloneDevice(self):\n",
    "    print(\"Standalone powerful device used to do multiple tasks\")\n",
    "    \n",
    "class laptop(pc):\n",
    "  def programming(self):\n",
    "    print(\"Laptop is used for programming and office purpose\")\n",
    "\n",
    "class mouse:\n",
    "  def trackpad(self):\n",
    "    print(\"Mouse use to track or open files\")\n",
    "    \n",
    "class engineers(mouse, laptop):\n",
    "\n",
    "  def usage(self):\n",
    "    \n",
    "    # we can also create an object for parent classes or another child class inside child classes like below\n",
    "    redDragonMouse = mouse()\n",
    "    dellLaptop = laptop()\n",
    "    redDragonMouse.trackpad()\n",
    "    dellLaptop.programming()\n",
    "    \n",
    "    print(f\"Enginers use laptop & mouse for their work\")\n",
    "    \n",
    "softwareEnginner = engineers()\n",
    "softwareEnginner.usage()"
   ]
  },
  {
   "attachments": {},
   "cell_type": "markdown",
   "metadata": {},
   "source": [
    "### Simple Example"
   ]
  },
  {
   "cell_type": "code",
   "execution_count": null,
   "metadata": {},
   "outputs": [],
   "source": [
    "class car: #parent class\n",
    "  \n",
    "  # parenr class attributes and methods\n",
    "  def __init__(self,brand, subbrand, color):\n",
    "    self.brand = brand\n",
    "    self.subbrand = subbrand\n",
    "    self.color = color\n",
    "  \n",
    "  # parenr class methods\n",
    "  def checkCarType(self):\n",
    "    print(self.brand, self.subbrand, self.color)\n",
    "    \n",
    "class tata(car): #child class 1\n",
    "  \n",
    "  \"\"\"Child class is taking another attribute called isELectric\"\"\"\n",
    "  def __init__(self,brand, subbrand, color, isElectric):\n",
    "    \n",
    "    \"\"\"super() -> that makes child class inherits all the methods and attributes(prorperties/variables) from its parent class\"\"\"\n",
    "    super().__init__(brand,subbrand,color)\n",
    "    self.isElectric = isElectric\n",
    "    print(f\"Car = {self.brand}\\nSubbrand = {self.subbrand}\\nColor = {self.color}\\nisElectric = {self.isElectric}\")\n",
    "    \n",
    "class tesla(car):\n",
    "  def __init__(self,brand, subbrand, color, isElectric):\n",
    "    \"\"\"super() -> that makes child class inherits all the methods and attributes(prorperties/variables) from its parent class\"\"\"\n",
    "    super().__init__(brand,subbrand,color)\n",
    "    self.isElectric = isElectric\n",
    "    print(f\"Car = {self.brand}\\nSubbrand = {self.subbrand}\\nColor = {self.color}\\nisElectric = {self.isElectric}\")\n",
    "\n",
    "\n",
    "print(\"Object 1\")\n",
    "\n",
    "isElectric = True\n",
    "nexon = tata(\"TATA\", \"Nexon\",\"Black\",isElectric)\n",
    "\n",
    "print(\"Object 2\")\n",
    "model_s = tesla(\"TESLA\", \"Model S\",\"red\",\"isElectric\")\n",
    "\n",
    "\"\"\"\n",
    "Object 1\n",
    "Car = TATA\n",
    "Subbrand = Nexon\n",
    "Color = Black\n",
    "isElectric = True\n",
    "Object 2\n",
    "Car = TESLA\n",
    "Subbrand = Model S\n",
    "Color = red\n",
    "isElectric = isElectric\n",
    "\"\"\""
   ]
  }
 ],
 "metadata": {
  "kernelspec": {
   "display_name": "base",
   "language": "python",
   "name": "python3"
  },
  "language_info": {
   "codemirror_mode": {
    "name": "ipython",
    "version": 3
   },
   "file_extension": ".py",
   "mimetype": "text/x-python",
   "name": "python",
   "nbconvert_exporter": "python",
   "pygments_lexer": "ipython3",
   "version": "3.9.13"
  },
  "orig_nbformat": 4
 },
 "nbformat": 4,
 "nbformat_minor": 2
}
