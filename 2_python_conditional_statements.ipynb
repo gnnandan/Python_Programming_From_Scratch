{
 "cells": [
  {
   "attachments": {},
   "cell_type": "markdown",
   "metadata": {},
   "source": [
    "## Conditional Statements\n",
    "1. if statement\n",
    "2. if else statement\n",
    "3. elif statement (else if)\n",
    "4. nested is else statement\n",
    "5. shorthand if and if else statement\n",
    "    1. shorthand if statement\n",
    "    2. shorthand if else statement\n",
    "\n",
    "**Important Message**\n",
    "\n",
    "- 🔰 Notes Link - [Python Learning From Zero to Hero](https://gnnandan.notion.site/Python-Learning-b3aa7ed958fd44659aa1be95f0f225a6)\n",
    "- 🔰 Open Source Developers Community Link (OSDC) - [Curious Developers Community](https://linktr.ee/curiousdevelopers.community) \n",
    "- 🔰 Official Website - [Curious Community Ecosystem](https://curiousdevelopers.in)"
   ]
  },
  {
   "cell_type": "code",
   "execution_count": 1,
   "metadata": {},
   "outputs": [
    {
     "name": "stdout",
     "output_type": "stream",
     "text": [
      "True -> The value is  10\n"
     ]
    }
   ],
   "source": [
    "#if statement\n",
    "\n",
    "x = 10\n",
    "if(x==10):  #condition is true\n",
    "  print(\"True -> The value is \",x)"
   ]
  },
  {
   "cell_type": "code",
   "execution_count": 4,
   "metadata": {},
   "outputs": [
    {
     "name": "stdout",
     "output_type": "stream",
     "text": [
      "True -> The value is  10\n"
     ]
    }
   ],
   "source": [
    "# if else\n",
    "\n",
    "\"\"\"\n",
    "- if the condition is true then if block is executed\n",
    "- if the condition is false then the else block is executed\n",
    "\"\"\"\n",
    "\n",
    "x = 10\n",
    "if(x==0): \n",
    "  print(\"False -> The value is \",x, \"not 10\")\n",
    "else:\n",
    "  print(\"True -> The value is \",x)"
   ]
  },
  {
   "cell_type": "code",
   "execution_count": 5,
   "metadata": {},
   "outputs": [
    {
     "name": "stdout",
     "output_type": "stream",
     "text": [
      "True -> The value is  10\n"
     ]
    }
   ],
   "source": [
    "#elif Statement (else if)\n",
    "\n",
    "\"\"\"\n",
    "- if the condition is true then if block is executed\n",
    "- if the condition is false then control enters to elif block to check\n",
    "  - if the elif block condition is true then elif block is executed\n",
    "  - if the elif block condition is false then control enters to next elif or else block to execute the final statement\n",
    "- if none of the statements are true then else block will be executed\n",
    "\"\"\"\n",
    "\n",
    "x = 10\n",
    "if(x==0):\n",
    "  print(\"False -> The value is \",x, \"not 10\")\n",
    "elif(x==10):\n",
    "  print(\"True -> The value is \",x)\n",
    "elif(x==100):\n",
    "  print(\"False -> The value is \",x, \"not 10\")\n",
    "else:\n",
    "  print(\"Invalid value\")"
   ]
  },
  {
   "cell_type": "code",
   "execution_count": 8,
   "metadata": {},
   "outputs": [
    {
     "name": "stdout",
     "output_type": "stream",
     "text": [
      "The number  5  is positive number\n",
      "5  is a odd number\n"
     ]
    }
   ],
   "source": [
    "#nested if else statement\n",
    "\n",
    "\"\"\"\n",
    "- if the condition is true then if block is executed\n",
    "  - (control again checks the condition), if the condition is true then if block is executed\n",
    "  - if the condition is false then else block will be executed\n",
    "- if the condition is false then the else block is executed\n",
    "  - (control again checks the condition), if the condition is true then if block is executed\n",
    "  - if the condition is false then else block will be executed\n",
    "\"\"\"\n",
    "\n",
    "x = 5\n",
    "\n",
    "if(x>0):\n",
    "  print(\"The number \",x,\" is positive number\")\n",
    "  if(x%2==0):\n",
    "    print(x,\" is a even number\")\n",
    "  else:\n",
    "    print(x,\" is a odd number\")\n",
    "else:\n",
    "  print(\"The number \",x,\" is negative number\")\n",
    "  if(x%2==0):\n",
    "    print(x,\" is a even number\")\n",
    "  else:\n",
    "    print(x,\" is a odd number\")"
   ]
  },
  {
   "cell_type": "code",
   "execution_count": 9,
   "metadata": {},
   "outputs": [
    {
     "name": "stdout",
     "output_type": "stream",
     "text": [
      "True -> The value is  10\n"
     ]
    }
   ],
   "source": [
    "# shorthand if statement\n",
    "\n",
    "x=10\n",
    "\n",
    "if(x==10): print(\"True -> The value is \",x)"
   ]
  },
  {
   "cell_type": "code",
   "execution_count": 13,
   "metadata": {},
   "outputs": [
    {
     "name": "stdout",
     "output_type": "stream",
     "text": [
      "False -> The value is  2\n"
     ]
    }
   ],
   "source": [
    "# shorthand if else statement\n",
    "\n",
    "x=2\n",
    "print(\"True -> The value is \",x) if(x==3) else print(\"False -> The value is \",x)"
   ]
  },
  {
   "attachments": {},
   "cell_type": "markdown",
   "metadata": {},
   "source": [
    "## Conditional Keywords\n",
    "- and\n",
    "- or\n",
    "- not"
   ]
  },
  {
   "cell_type": "code",
   "execution_count": 20,
   "metadata": {},
   "outputs": [
    {
     "name": "stdout",
     "output_type": "stream",
     "text": [
      "10 is a positive even number\n"
     ]
    }
   ],
   "source": [
    "#and\n",
    "x = 10\n",
    "\n",
    "if(x>=0 and x%2==0):\n",
    "  print(\"Both Conditions are true\")\n",
    "  print(x,\"is a positive even number\")\n",
    "else:\n",
    "  print(\"one of the conditions is false\")\n",
    "  print(x,\" is a positive odd number\")"
   ]
  },
  {
   "cell_type": "code",
   "execution_count": 28,
   "metadata": {},
   "outputs": [
    {
     "name": "stdout",
     "output_type": "stream",
     "text": [
      "At least one of the conditions is True\n",
      "3 is gretaer than 2\n"
     ]
    }
   ],
   "source": [
    "# or\n",
    "x = 3\n",
    "y = 2\n",
    "z = 6\n",
    "\n",
    "if(x > y or x > z):\n",
    "  print(\"At least one of the conditions is True\")\n",
    "  print(x,\"is gretaer than\",y)\n",
    "  "
   ]
  },
  {
   "cell_type": "code",
   "execution_count": 32,
   "metadata": {},
   "outputs": [
    {
     "name": "stdout",
     "output_type": "stream",
     "text": [
      "10 is not equal to 3\n"
     ]
    }
   ],
   "source": [
    "# not\n",
    "x = 10\n",
    "\n",
    "if not(x==3):\n",
    "  print(x,\"is not equal to 3\")"
   ]
  },
  {
   "cell_type": "code",
   "execution_count": null,
   "metadata": {},
   "outputs": [],
   "source": []
  }
 ],
 "metadata": {
  "kernelspec": {
   "display_name": "base",
   "language": "python",
   "name": "python3"
  },
  "language_info": {
   "codemirror_mode": {
    "name": "ipython",
    "version": 3
   },
   "file_extension": ".py",
   "mimetype": "text/x-python",
   "name": "python",
   "nbconvert_exporter": "python",
   "pygments_lexer": "ipython3",
   "version": "3.9.13"
  },
  "orig_nbformat": 4
 },
 "nbformat": 4,
 "nbformat_minor": 2
}
