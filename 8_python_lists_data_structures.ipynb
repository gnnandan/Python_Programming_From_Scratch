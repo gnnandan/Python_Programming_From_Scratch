{
 "cells": [
  {
   "attachments": {},
   "cell_type": "markdown",
   "metadata": {},
   "source": [
    "## Tuples\n",
    "\n",
    "**Important Message**\n",
    "\n",
    "- 🔰 Notes Link - [Python Learning From Zero to Hero](https://gnnandan.notion.site/Python-Learning-b3aa7ed958fd44659aa1be95f0f225a6)\n",
    "- 🔰 Open Source Developers Community Link (OSDC) - [Curious Developers Community](https://linktr.ee/curiousdevelopers.community) \n",
    "- 🔰 Official Website - [Curious Community Ecosystem](https://curiousdevelopers.in)"
   ]
  },
  {
   "cell_type": "code",
   "execution_count": 9,
   "metadata": {},
   "outputs": [
    {
     "name": "stdout",
     "output_type": "stream",
     "text": [
      "(1, 2, 3, 4, 'aaa', 'bbb', 'ccc')\n",
      "<class 'tuple'>\n",
      "3\n",
      "Accessing elements from beginning (1, 2)\n",
      "Accessing elements from ending (3, 4, 'aaa', 'bbb', 'ccc')\n",
      "Negative Indexing elements (1, 2, 3, 4, 'aaa', 'bbb')\n",
      "Negative Indexing elements ('bbb',)\n",
      "1\n",
      "2\n",
      "3\n",
      "4\n",
      "aaa\n",
      "bbb\n",
      "ccc\n",
      "After Updating the tuple (1, 2, 'Test', 4, 'aaa', 'bbb', 'ccc')\n",
      "After Removing the tuple (1, 2, 3, 4, 'bbb', 'ccc')\n"
     ]
    }
   ],
   "source": [
    "# creating tuple\n",
    "myTuple = (1,2,3,4,\"aaa\",\"bbb\",\"ccc\")\n",
    "print(myTuple)\n",
    "\n",
    "# checking datatype\n",
    "print(type(myTuple))\n",
    "\n",
    "# accessing the elements\n",
    "print(myTuple[2])\n",
    "\n",
    "# accessing range of elements\n",
    "print(\"Accessing elements from beginning {}\".format(myTuple[:2]))\n",
    "print(\"Accessing elements from ending {}\".format(myTuple[2:]))\n",
    "print(\"Negative Indexing elements {}\".format(myTuple[:-1]))\n",
    "print(\"Negative Indexing elements {}\".format(myTuple[-2:-1]))\n",
    "\n",
    "# iterating over all elements from tuple\n",
    "i =0\n",
    "while(i<len(myTuple)):\n",
    "  print(myTuple[i])\n",
    "  i+=1\n",
    "  \n",
    "\"\"\"For Updating and Removing elements from the tuple we need to use tuple() and list() constructors\"\"\"\n",
    "\n",
    "# updating the element\n",
    "lst = list(myTuple) #convert to list\n",
    "lst[2] = \"Test\" #perform update\n",
    "tup = tuple(lst) #convert to tuple\n",
    "print(\"After Updating the tuple {}\".format(tup)) #verfiy the logic\n",
    "\n",
    "# removing the element in tuple\n",
    "lst = list(myTuple) #convert to list\n",
    "lst.remove(\"aaa\") #perform remove\n",
    "tup = tuple(lst) #convert to tuple\n",
    "print(\"After Removing the tuple {}\".format(tup)) #verfiy the logic"
   ]
  },
  {
   "cell_type": "code",
   "execution_count": 10,
   "metadata": {},
   "outputs": [
    {
     "data": {
      "text/plain": [
       "['__add__',\n",
       " '__class__',\n",
       " '__class_getitem__',\n",
       " '__contains__',\n",
       " '__delattr__',\n",
       " '__dir__',\n",
       " '__doc__',\n",
       " '__eq__',\n",
       " '__format__',\n",
       " '__ge__',\n",
       " '__getattribute__',\n",
       " '__getitem__',\n",
       " '__getnewargs__',\n",
       " '__gt__',\n",
       " '__hash__',\n",
       " '__init__',\n",
       " '__init_subclass__',\n",
       " '__iter__',\n",
       " '__le__',\n",
       " '__len__',\n",
       " '__lt__',\n",
       " '__mul__',\n",
       " '__ne__',\n",
       " '__new__',\n",
       " '__reduce__',\n",
       " '__reduce_ex__',\n",
       " '__repr__',\n",
       " '__rmul__',\n",
       " '__setattr__',\n",
       " '__sizeof__',\n",
       " '__str__',\n",
       " '__subclasshook__',\n",
       " 'count',\n",
       " 'index']"
      ]
     },
     "execution_count": 10,
     "metadata": {},
     "output_type": "execute_result"
    }
   ],
   "source": [
    "dir(tuple)"
   ]
  },
  {
   "attachments": {},
   "cell_type": "markdown",
   "metadata": {},
   "source": [
    "## Imporant Tuple Methods\n",
    "1. count(value) - Returns the number of times a specified value occurs in a tuple\n",
    "2. index(value) - Searches the tuple for a specified value and returns the position of where it was found"
   ]
  },
  {
   "cell_type": "code",
   "execution_count": 15,
   "metadata": {},
   "outputs": [
    {
     "name": "stdout",
     "output_type": "stream",
     "text": [
      "2\n",
      "4\n"
     ]
    }
   ],
   "source": [
    "myTuple = (1,2,3,4,\"aaa\",\"bbb\",\"ccc\",\"aaa\")\n",
    "print(myTuple.count(\"aaa\"))\n",
    "print(myTuple.index(\"aaa\"))"
   ]
  },
  {
   "attachments": {},
   "cell_type": "markdown",
   "metadata": {},
   "source": [
    "## Looping in Tuples\n",
    "1. for loop\n",
    "2. foreach loop\n",
    "3. while loop"
   ]
  },
  {
   "cell_type": "code",
   "execution_count": 19,
   "metadata": {},
   "outputs": [
    {
     "name": "stdout",
     "output_type": "stream",
     "text": [
      "Looping over the tuple using foreach loop\n",
      "Apple\n",
      "Banana\n",
      "Grapes\n",
      "Orange\n",
      "Peach\n",
      "Raddish\n",
      "Watermelon\n",
      "\n",
      "Looping over the tuple using for loop\n",
      "Apple\n",
      "Banana\n",
      "Grapes\n",
      "Orange\n",
      "Peach\n",
      "Raddish\n",
      "Watermelon\n",
      "\n",
      "Looping over the tuple using while loop\n",
      "Apple\n",
      "Banana\n",
      "Grapes\n",
      "Orange\n",
      "Peach\n",
      "Raddish\n",
      "Watermelon\n"
     ]
    }
   ],
   "source": [
    "myTuple = ('Apple', 'Banana', 'Grapes', 'Orange', 'Peach', 'Raddish', 'Watermelon')\n",
    "\n",
    "print(\"Looping over the tuple using foreach loop\")\n",
    "# Way 1 -> foreach loop for tuple\n",
    "for healthyFood in myTuple:\n",
    "  print(healthyFood)\n",
    "\n",
    "print(\"\\nLooping over the tuple using for loop\")\n",
    "# Way 2 -> for loop\n",
    "for healthyFood in range(len(myTuple)):\n",
    "  print(myTuple[healthyFood])\n",
    "  \n",
    "print(\"\\nLooping over the tuple using while loop\")\n",
    "i=0\n",
    "while(i<len(myTuple)):\n",
    "  print(myTuple[i])\n",
    "  i=i+1"
   ]
  },
  {
   "cell_type": "code",
   "execution_count": null,
   "metadata": {},
   "outputs": [],
   "source": []
  }
 ],
 "metadata": {
  "kernelspec": {
   "display_name": "base",
   "language": "python",
   "name": "python3"
  },
  "language_info": {
   "codemirror_mode": {
    "name": "ipython",
    "version": 3
   },
   "file_extension": ".py",
   "mimetype": "text/x-python",
   "name": "python",
   "nbconvert_exporter": "python",
   "pygments_lexer": "ipython3",
   "version": "3.9.13"
  },
  "orig_nbformat": 4
 },
 "nbformat": 4,
 "nbformat_minor": 2
}
