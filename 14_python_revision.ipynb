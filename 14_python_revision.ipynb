{
 "cells": [
  {
   "cell_type": "code",
   "execution_count": 8,
   "metadata": {},
   "outputs": [
    {
     "name": "stdout",
     "output_type": "stream",
     "text": [
      "2\n",
      "3\n",
      "4\n",
      "5\n",
      "6\n",
      "7\n",
      "8\n",
      "9\n",
      "Element 2 in index 0\n",
      "Element 3 in index 1\n",
      "Element 4 in index 2\n",
      "Element 5 in index 3\n",
      "Element 6 in index 4\n",
      "Element 7 in index 5\n",
      "Element 8 in index 6\n",
      "Element 9 in index 7\n",
      "a b c d e f g h i j Char a, at in count 0\n",
      "Char b, at in count 1\n",
      "Char c, at in count 2\n",
      "Char d, at in count 3\n",
      "Char e, at in count 4\n",
      "Char f, at in count 5\n",
      "Char g, at in count 6\n",
      "Char h, at in count 7\n",
      "Char i, at in count 8\n",
      "Char j, at in count 9\n",
      "20\n",
      "40\n",
      "60\n",
      "80\n",
      "100\n",
      "120\n",
      "140\n",
      "160\n",
      "180\n",
      "200\n",
      "220\n",
      "240\n",
      "260\n",
      "280\n",
      "300\n",
      "320\n",
      "340\n",
      "360\n",
      "380\n",
      "400\n"
     ]
    }
   ],
   "source": [
    "# example 1, looping over the list\n",
    "\n",
    "mylist= [2,3,4,5,6,7,8,9]\n",
    "\n",
    "for i in mylist:\n",
    "  print(i)\n",
    "  \n",
    "index =0\n",
    "for i in mylist:\n",
    "  print(f\"Element {i} in index {index}\")\n",
    "  index = index +1\n",
    "  \n",
    "mylist = ['a','b','c','d','e','f','g','h','i','j']\n",
    "\n",
    "# iterating over the list of char\n",
    "for ch in mylist:\n",
    "  print(ch,end=\" \")\n",
    "  \n",
    "  \n",
    "chCount = 0\n",
    "for ch in mylist:\n",
    "  print(f\"Char {ch}, at in count {chCount}\")\n",
    "  chCount += 1\n",
    "\n",
    "\n"
   ]
  },
  {
   "cell_type": "code",
   "execution_count": 15,
   "metadata": {},
   "outputs": [
    {
     "name": "stdout",
     "output_type": "stream",
     "text": [
      "136\n"
     ]
    }
   ],
   "source": [
    "# sum of natural numbers\n",
    "num = 16\n",
    "sum =0\n",
    "for i in range(0, num+1):\n",
    "  sum = sum + i\n",
    "print(sum)"
   ]
  },
  {
   "cell_type": "code",
   "execution_count": 17,
   "metadata": {},
   "outputs": [
    {
     "name": "stdout",
     "output_type": "stream",
     "text": [
      "1\n",
      "2\n",
      "4\n",
      "5\n",
      "8\n",
      "10\n",
      "16\n",
      "20\n",
      "32\n",
      "40\n",
      "64\n",
      "80\n",
      "160\n",
      "320\n"
     ]
    }
   ],
   "source": [
    "# prime factors\n",
    "num = 320\n",
    "for i in range(1,num+1):\n",
    "  if(num%i==0):\n",
    "    print(i)"
   ]
  },
  {
   "cell_type": "code",
   "execution_count": 28,
   "metadata": {},
   "outputs": [
    {
     "name": "stdout",
     "output_type": "stream",
     "text": [
      "101\n",
      "103\n",
      "107\n",
      "109\n",
      "113\n",
      "127\n",
      "131\n",
      "137\n",
      "139\n",
      "149\n",
      "151\n",
      "157\n",
      "163\n",
      "167\n",
      "173\n",
      "179\n",
      "181\n",
      "191\n",
      "193\n",
      "197\n",
      "199\n"
     ]
    }
   ],
   "source": [
    "# all prime numbers between intervals\n",
    "start = 100\n",
    "end = 200\n",
    "\n",
    "for num in range(start, end +1):\n",
    "  if(num > 1):\n",
    "    for i in range(2,num):\n",
    "      if(num % i == 0):\n",
    "        break\n",
    "    else:\n",
    "      print(num)"
   ]
  },
  {
   "cell_type": "code",
   "execution_count": 40,
   "metadata": {},
   "outputs": [
    {
     "name": "stdout",
     "output_type": "stream",
     "text": [
      "3 is Prime Number\n"
     ]
    }
   ],
   "source": [
    "# checking for prime\n",
    "\n",
    "num = 3\n",
    "flag = False\n",
    "if(num > 1):\n",
    "  for i in range(2,num):\n",
    "    if(num % i ==0):\n",
    "      flag = True\n",
    "      break\n",
    "\n",
    "\n",
    "if flag:\n",
    "  print(num, \"is Not Prime number\")\n",
    "else:\n",
    "  print(num, \"is Prime Number\")\n"
   ]
  },
  {
   "cell_type": "code",
   "execution_count": 95,
   "metadata": {},
   "outputs": [
    {
     "name": "stdout",
     "output_type": "stream",
     "text": [
      "aibohphobia is Palindrome\n",
      "aibohphobia is Palindrome\n"
     ]
    }
   ],
   "source": [
    "# palindrome in string\n",
    "\n",
    "message = \"aIbohPhoBiA\"\n",
    "revMessage = \"\"\n",
    "\n",
    "message = message.lower()\n",
    "\n",
    "# logic to reverse the string\n",
    "for ch in message[::-1]:\n",
    "  revMessage = revMessage+ch\n",
    "\n",
    "if message == revMessage:\n",
    "  print(revMessage, \"is Palindrome\")\n",
    "else:\n",
    "  print(revMessage, \"is not Palindrome\")\n",
    "  \n",
    "\n",
    "# using while loop (another method)\n",
    "char_index = len(message) - 1\n",
    "tempList = []\n",
    "revMes = \"\"\n",
    "while char_index >=0:\n",
    "  tempList.append(message[char_index])\n",
    "  char_index = char_index -1\n",
    "if message == revMes.join(tempList):\n",
    "  print(revMessage, \"is Palindrome\")\n",
    "else:\n",
    "  print(revMessage, \"is not Palindrome\")\n"
   ]
  },
  {
   "cell_type": "code",
   "execution_count": 122,
   "metadata": {},
   "outputs": [
    {
     "name": "stdout",
     "output_type": "stream",
     "text": [
      "123321 is Palindrome\n"
     ]
    }
   ],
   "source": [
    "# palindrome in number\n",
    "\n",
    "num = 123321\n",
    "\n",
    "strNum = str(num)\n",
    "\n",
    "revNum = \"\"\n",
    "for ch in strNum[::-1]:\n",
    "  revNum = revNum + ch\n",
    "\n",
    "\n",
    "if(strNum == revNum):\n",
    "  print(revNum, \"is Palindrome\")\n",
    "else:\n",
    "  print(revNum, \"is not Palindrome\")\n"
   ]
  },
  {
   "cell_type": "code",
   "execution_count": 131,
   "metadata": {},
   "outputs": [
    {
     "name": "stdout",
     "output_type": "stream",
     "text": [
      "1 \n",
      "\n",
      "1 2 \n",
      "\n",
      "1 2 3 \n",
      "\n",
      "1 2 3 4 \n",
      "\n",
      "1 2 3 4 5 \n",
      "\n"
     ]
    }
   ],
   "source": [
    "# pyramid patterns \n",
    "\n",
    "# pattern 1\n",
    "\n",
    "rows = 5\n",
    "\n",
    "for i in range(rows):\n",
    "  for j in range(i+1):\n",
    "    print(j+1,end=\" \")\n",
    "  print(\"\\n\")"
   ]
  },
  {
   "cell_type": "code",
   "execution_count": 149,
   "metadata": {},
   "outputs": [
    {
     "name": "stdout",
     "output_type": "stream",
     "text": [
      "* * * * * \n",
      "\n",
      "* * * * \n",
      "\n",
      "* * * \n",
      "\n",
      "* * \n",
      "\n",
      "* \n",
      "\n"
     ]
    }
   ],
   "source": [
    "# pyramid patterns \n",
    "\n",
    "# pattern 2\n",
    "\n",
    "rows = 5\n",
    "\n",
    "for i in range(rows,0,-1):\n",
    "  for j in range(0,i):\n",
    "    print(\"*\",end=\" \")  \n",
    "  print(\"\\n\")"
   ]
  },
  {
   "cell_type": "code",
   "execution_count": 155,
   "metadata": {},
   "outputs": [
    {
     "name": "stdout",
     "output_type": "stream",
     "text": [
      "* \n",
      "\n",
      "* * \n",
      "\n",
      "* * * \n",
      "\n",
      "* * * * \n",
      "\n",
      "* * * * * \n",
      "\n",
      "* * * * * \n",
      "\n",
      "* * * * \n",
      "\n",
      "* * * \n",
      "\n",
      "* * \n",
      "\n",
      "* \n",
      "\n"
     ]
    }
   ],
   "source": []
  },
  {
   "cell_type": "code",
   "execution_count": null,
   "metadata": {},
   "outputs": [],
   "source": []
  }
 ],
 "metadata": {
  "kernelspec": {
   "display_name": "base",
   "language": "python",
   "name": "python3"
  },
  "language_info": {
   "codemirror_mode": {
    "name": "ipython",
    "version": 3
   },
   "file_extension": ".py",
   "mimetype": "text/x-python",
   "name": "python",
   "nbconvert_exporter": "python",
   "pygments_lexer": "ipython3",
   "version": "3.9.13"
  },
  "orig_nbformat": 4
 },
 "nbformat": 4,
 "nbformat_minor": 2
}
