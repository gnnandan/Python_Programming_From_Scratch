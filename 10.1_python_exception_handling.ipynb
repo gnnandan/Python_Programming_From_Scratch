{
 "cells": [
  {
   "attachments": {},
   "cell_type": "markdown",
   "metadata": {},
   "source": [
    "### Exception Handdling\n",
    "- Exceptions are raised when the program is syntactically correct, but the code results in an error. This error does not stop the execution of the program, however, it changes the normal flow of the program.\n",
    "- The basic structure of exception handling in Python is done using the try, except, else, and finally blocks:\n",
    "  - **Try** : The try block contains the code that may raise an exception. It is the section where you expect an error to occurs\n",
    "  - **Except** : The except block is used to handle specific types of exceptions. If an exception of the specified type occurs within the try block, the code in the corresponding except block is executed.\n",
    "  - **Else** : The else block is optional and is executed if no exception occurs in the try block.\n",
    "  - **finally** : The finally block is also optional and is executed regardless of whether an exception occurred or not. It is typically used to perform cleanup operations."
   ]
  },
  {
   "cell_type": "code",
   "execution_count": 1,
   "metadata": {},
   "outputs": [
    {
     "name": "stdout",
     "output_type": "stream",
     "text": [
      "Success the division value: 0.05\n",
      "Execution finished\n"
     ]
    }
   ],
   "source": [
    "a = 1\n",
    "b = int(input(\"Enter the value: \"))\n",
    "\n",
    "try:\n",
    "  # logic where the exception causes\n",
    "  a = a/b\n",
    "\n",
    "except ZeroDivisionError:\n",
    "  print(f\"The number you provided can't divide {a} because it is {b}\")\n",
    "\n",
    "except ValueError:\n",
    "  print(f\"{b} provided input is invalid\")\n",
    "\n",
    "except:\n",
    "  print(\"Something went wrong\")\n",
    "  \n",
    "else:\n",
    "  print(f\"Success the division value: {a}\")\n",
    "\n",
    "finally:\n",
    "  print(\"Execution finished\")\n",
    "  "
   ]
  },
  {
   "cell_type": "code",
   "execution_count": null,
   "metadata": {},
   "outputs": [],
   "source": []
  }
 ],
 "metadata": {
  "kernelspec": {
   "display_name": "base",
   "language": "python",
   "name": "python3"
  },
  "language_info": {
   "codemirror_mode": {
    "name": "ipython",
    "version": 3
   },
   "file_extension": ".py",
   "mimetype": "text/x-python",
   "name": "python",
   "nbconvert_exporter": "python",
   "pygments_lexer": "ipython3",
   "version": "3.9.13"
  },
  "orig_nbformat": 4
 },
 "nbformat": 4,
 "nbformat_minor": 2
}
