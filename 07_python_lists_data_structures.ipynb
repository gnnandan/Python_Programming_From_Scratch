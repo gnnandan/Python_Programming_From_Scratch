{
 "cells": [
  {
   "attachments": {},
   "cell_type": "markdown",
   "metadata": {},
   "source": [
    "## Lists\n",
    "\n",
    "**Important Message**\n",
    "\n",
    "- 🔰 Notes Link - [Python Learning From Zero to Hero](https://gnnandan.notion.site/Python-Learning-b3aa7ed958fd44659aa1be95f0f225a6)\n",
    "- 🔰 Open Source Developers Community Link (OSDC) - [Curious Developers Community](https://linktr.ee/curiousdevelopers.community) \n",
    "- 🔰 Official Website - [Curious Community Ecosystem](https://curiousdevelopers.in)"
   ]
  },
  {
   "cell_type": "code",
   "execution_count": 26,
   "metadata": {},
   "outputs": [
    {
     "name": "stdout",
     "output_type": "stream",
     "text": [
      "['Apple', 'Mango', 'Orange', 'Banana', 'Grapes']\n",
      "Orange\n",
      "['Mango']\n",
      "Accessing elements from beginning ['Apple', 'Mango']\n",
      "Accessing elements from ending ['Orange', 'Banana', 'Grapes']\n",
      "Negative Indexing elements ['Apple', 'Mango', 'Orange', 'Banana']\n",
      "Negative Indexing elements ['Banana']\n",
      "<class 'list'>\n",
      "After modification ['Apple', 'Mango', 'Watermelon', 'Banana', 'Grapes']\n",
      "count 0 = Apple\n",
      "count 1 = Mango\n",
      "count 2 = Watermelon\n",
      "count 3 = Banana\n",
      "count 4 = Grapes\n",
      "After removal ['Apple', 'Watermelon', 'Banana', 'Grapes']\n",
      "List with different type of elements ['Curious Developers Community', 7, 7.3, True]\n"
     ]
    }
   ],
   "source": [
    "# Creating list\n",
    "\n",
    "myList = [\"Apple\", \"Mango\",\"Orange\",\"Banana\",\"Grapes\"]\n",
    "print(myList)\n",
    "\n",
    "# accessing the elements of list\n",
    "print(myList[2])\n",
    "\n",
    "# accessing range of elements\n",
    "print(myList[1:2])\n",
    "print(\"Accessing elements from beginning {}\".format(myList[:2]))\n",
    "print(\"Accessing elements from ending {}\".format(myList[2:]))\n",
    "print(\"Negative Indexing elements {}\".format(myList[:-1]))\n",
    "print(\"Negative Indexing elements {}\".format(myList[-2:-1]))\n",
    "\n",
    "# checking datatype\n",
    "print(type(myList))\n",
    "\n",
    "# modifying the list\n",
    "myList[2] = \"Watermelon\"\n",
    "print(\"After modification {}\".format(myList))\n",
    "\n",
    "# iterating over list items\n",
    "fruitsCount = 0\n",
    "for i in myList:\n",
    "  print(\"count {} = {}\".format(fruitsCount,i))\n",
    "  fruitsCount+=1\n",
    "\n",
    "# removing the list item\n",
    "myList.remove(\"Mango\")\n",
    "print(\"After removal {}\".format(myList))\n",
    "\n",
    "# list with different type of elements\n",
    "myList = [\"Curious Developers Community\",7,7.3,True]\n",
    "print(\"List with different type of elements {}\".format(myList))"
   ]
  },
  {
   "cell_type": "code",
   "execution_count": 27,
   "metadata": {},
   "outputs": [
    {
     "data": {
      "text/plain": [
       "['__add__',\n",
       " '__class__',\n",
       " '__class_getitem__',\n",
       " '__contains__',\n",
       " '__delattr__',\n",
       " '__delitem__',\n",
       " '__dir__',\n",
       " '__doc__',\n",
       " '__eq__',\n",
       " '__format__',\n",
       " '__ge__',\n",
       " '__getattribute__',\n",
       " '__getitem__',\n",
       " '__gt__',\n",
       " '__hash__',\n",
       " '__iadd__',\n",
       " '__imul__',\n",
       " '__init__',\n",
       " '__init_subclass__',\n",
       " '__iter__',\n",
       " '__le__',\n",
       " '__len__',\n",
       " '__lt__',\n",
       " '__mul__',\n",
       " '__ne__',\n",
       " '__new__',\n",
       " '__reduce__',\n",
       " '__reduce_ex__',\n",
       " '__repr__',\n",
       " '__reversed__',\n",
       " '__rmul__',\n",
       " '__setattr__',\n",
       " '__setitem__',\n",
       " '__sizeof__',\n",
       " '__str__',\n",
       " '__subclasshook__',\n",
       " 'append',\n",
       " 'clear',\n",
       " 'copy',\n",
       " 'count',\n",
       " 'extend',\n",
       " 'index',\n",
       " 'insert',\n",
       " 'pop',\n",
       " 'remove',\n",
       " 'reverse',\n",
       " 'sort']"
      ]
     },
     "execution_count": 27,
     "metadata": {},
     "output_type": "execute_result"
    }
   ],
   "source": [
    "dir(list)"
   ]
  },
  {
   "attachments": {},
   "cell_type": "markdown",
   "metadata": {},
   "source": [
    "## Important List Methods\n",
    "\n",
    "1. append(element) - Adds an element at the end of the list\n",
    "2. clear() - Removes all the elements from the list\n",
    "3. copy()\t- Returns a copy of the list\n",
    "4. count(value) - Returns the number of elements with the specified value\n",
    "5. extend(iterable -> any iterable like list, tuple etc...) - Add the elements of a list (or any iterable), to the end of the current list\n",
    "6. index(element) - Returns the index of the first element with the specified value\n",
    "7. insert(position, element) - Adds an element at the specified position\n",
    "8. pop(position -> optional) - Removes the element at the specified position\n",
    "9. remove(element) - Removes the item with the specified value\n",
    "10. reverse() - Reverses the order of the list\n",
    "11. sort(reverse=True|False -> optional, key=myFunc -> optional any function to satisfy the soring criteria) - Sorts the list"
   ]
  },
  {
   "cell_type": "code",
   "execution_count": 22,
   "metadata": {},
   "outputs": [
    {
     "name": "stdout",
     "output_type": "stream",
     "text": [
      "After Apppending the list is ['Apple', 'Orange', 'Watermelon', 'Grapes', 'Banana', 'Peach']\n",
      "The Copied list is ['Apple', 'Orange', 'Watermelon', 'Grapes', 'Banana', 'Peach']\n",
      "Number of Apples in a list 2\n",
      "The final list is ['Apple', 'Orange', 'Watermelon', 'Grapes', 'Banana', 'Peach', 'Apple', 'Carrot', 'Raddish']\n",
      "Index of the Carror: 7\n",
      "After inserting the final list is: ['Apple', 'Orange', 'Watermelon', 'Grapes', 'Banana', 'Peach', 'Apple', 'Carrot', 'Raddish', 'Beetroot']\n",
      "Popping the elements from the list, popped element is: Beetroot\n",
      "Popping the elements from the list, popped element is: Apple\n",
      "Removing the elements from the list, removed element is: ['Apple', 'Orange', 'Watermelon', 'Grapes', 'Banana', 'Peach', 'Raddish']\n",
      "The reversed list is ['Raddish', 'Peach', 'Banana', 'Grapes', 'Watermelon', 'Orange', 'Apple']\n",
      "The sorted list is ['Apple', 'Banana', 'Grapes', 'Orange', 'Peach', 'Raddish', 'Watermelon']\n"
     ]
    }
   ],
   "source": [
    "# list important methods\n",
    "\n",
    "myList = [\"Apple\",\"Orange\",\"Watermelon\",\"Grapes\",\"Banana\"]\n",
    "\n",
    "newData = \"Peach\"\n",
    "myList.append(newData)\n",
    "print(\"After Apppending the list is {}\".format(myList))\n",
    "\n",
    "duplicateList = myList.copy()\n",
    "print(\"The Copied list is {}\".format(duplicateList))\n",
    "\n",
    "newData = \"Apple\"\n",
    "myList.append(newData)\n",
    "print(\"Number of Apples in a list {}\".format(myList.count(\"Apple\")))\n",
    "\n",
    "myTuple = (\"Carrot\", \"Raddish\")\n",
    "newList = myList.extend(myTuple)\n",
    "print(\"The final list is {}\".format(myList))\n",
    "\n",
    "print(\"Index of the Carror: {}\".format(myList.index(\"Carrot\")))\n",
    "\n",
    "myList.insert(9,\"Beetroot\")\n",
    "print(\"After inserting the final list is: {}\".format(myList))\n",
    "\n",
    "print(\"Popping the elements from the list, popped element is: {}\".format(myList.pop()))\n",
    "print(\"Popping the elements from the list, popped element is: {}\".format(myList.pop(6)))\n",
    "\n",
    "myList.remove(\"Carrot\")\n",
    "print(\"Removing the elements from the list, removed element is: {}\".format(myList))\n",
    "\n",
    "myList.reverse()\n",
    "print(\"The reversed list is {}\".format(myList))\n",
    "\n",
    "myList.sort()\n",
    "print(\"The sorted list is {}\".format(myList))"
   ]
  },
  {
   "attachments": {},
   "cell_type": "markdown",
   "metadata": {},
   "source": [
    "## Looping in List\n",
    "1. for loop\n",
    "2. foreach loop\n",
    "3. while loop"
   ]
  },
  {
   "cell_type": "code",
   "execution_count": 35,
   "metadata": {},
   "outputs": [
    {
     "name": "stdout",
     "output_type": "stream",
     "text": [
      "Apple , Banana , Grapes , Orange , Peach , Raddish , Watermelon , Apple\n",
      "Banana\n",
      "Grapes\n",
      "Orange\n",
      "Peach\n",
      "Raddish\n",
      "Watermelon\n",
      "\n",
      "Looping over the list using while loop\n",
      "Apple\n",
      "Banana\n",
      "Grapes\n",
      "Orange\n",
      "Peach\n",
      "Raddish\n",
      "Watermelon\n",
      "\n",
      "Looping over the list using list comprehension\n",
      "apple\n",
      "banana\n",
      "cherry\n"
     ]
    },
    {
     "data": {
      "text/plain": [
       "[None, None, None]"
      ]
     },
     "execution_count": 35,
     "metadata": {},
     "output_type": "execute_result"
    }
   ],
   "source": [
    "# list looping\n",
    "\n",
    "myList = ['Apple', 'Banana', 'Grapes', 'Orange', 'Peach', 'Raddish', 'Watermelon']\n",
    "\n",
    "# Way 1 -> foreach loop for list\n",
    "for healthyFood in myList:\n",
    "  print(healthyFood, end=\" , \")\n",
    "  \n",
    "# Way 2 -> for loop\n",
    "for healthyFood in range(len(myList)):\n",
    "  print(myList[healthyFood])\n",
    "  \n",
    "# Way 3 -> while loop\n",
    "print(\"\\nLooping over the list using while loop\")\n",
    "i=0\n",
    "while(i<len(myList)):\n",
    "  print(myList[i])\n",
    "  i=i+1"
   ]
  },
  {
   "cell_type": "code",
   "execution_count": null,
   "metadata": {},
   "outputs": [],
   "source": []
  }
 ],
 "metadata": {
  "kernelspec": {
   "display_name": "base",
   "language": "python",
   "name": "python3"
  },
  "language_info": {
   "codemirror_mode": {
    "name": "ipython",
    "version": 3
   },
   "file_extension": ".py",
   "mimetype": "text/x-python",
   "name": "python",
   "nbconvert_exporter": "python",
   "pygments_lexer": "ipython3",
   "version": "3.9.13"
  },
  "orig_nbformat": 4
 },
 "nbformat": 4,
 "nbformat_minor": 2
}
