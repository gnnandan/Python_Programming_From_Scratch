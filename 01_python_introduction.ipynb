{
 "cells": [
  {
   "attachments": {},
   "cell_type": "markdown",
   "metadata": {},
   "source": [
    "## Python Introduction\n",
    "\n",
    "- 🔰 Notes Link - [Python Learning From Zero to Hero](https://gnnandan.notion.site/Python-Learning-b3aa7ed958fd44659aa1be95f0f225a6)\n",
    "- 🔰 Open Source Developers Community Link (OSDC) - [Curious Developers Community](https://linktr.ee/curiousdevelopers.community) \n",
    "- 🔰 Official Website - [Curious Community Ecosystem](https://curiousdevelopers.in)"
   ]
  },
  {
   "cell_type": "code",
   "execution_count": 4,
   "metadata": {},
   "outputs": [
    {
     "name": "stdout",
     "output_type": "stream",
     "text": [
      "Welcome to python, Python Made Easy By Curious Team\n",
      "Python Learning\n",
      "Python Made Easy\n"
     ]
    }
   ],
   "source": [
    "# The first program\n",
    "print(\"Welcome to python, Python Made Easy By Curious Team\")\n",
    "print(\"Python Learning\")\n",
    "print(\"Python Made Easy\")\n",
    "\n"
   ]
  },
  {
   "attachments": {},
   "cell_type": "markdown",
   "metadata": {},
   "source": [
    "## Python Indentation"
   ]
  },
  {
   "cell_type": "code",
   "execution_count": 8,
   "metadata": {},
   "outputs": [
    {
     "name": "stdout",
     "output_type": "stream",
     "text": [
      "You are Inside Indentation Of 'Condition Block'\n",
      "You are inside indentation of 'function block'\n"
     ]
    }
   ],
   "source": [
    "# function definition\n",
    "def myFunction():\n",
    "  #condition statement\n",
    "  if(True):\n",
    "    print(\"You are Inside Indentation Of 'Condition Block'\")\n",
    "  print(\"You are inside indentation of 'function block'\")\n",
    "    \n",
    "# calling function\n",
    "myFunction()"
   ]
  },
  {
   "attachments": {},
   "cell_type": "markdown",
   "metadata": {},
   "source": [
    "## Python Variables\n",
    "- It's used to store data that can be accessed and manipulated throughout the program. "
   ]
  },
  {
   "cell_type": "code",
   "execution_count": 1,
   "metadata": {},
   "outputs": [
    {
     "name": "stdout",
     "output_type": "stream",
     "text": [
      "10\n",
      "nandan\n",
      "['aaa', 'bbb', 'ccc', 'ddd', 'eee']\n",
      "('aaa', 'bbb', 'ccc', 'ddd', 'eee')\n",
      "{'name': 'nandan', 'domain': 'DevOps Engineer'}\n"
     ]
    }
   ],
   "source": [
    "#int type\n",
    "x = 10\n",
    "print(x)\n",
    "\n",
    "#string type\n",
    "name = \"nandan\"\n",
    "print(name)\n",
    "\n",
    "#list type\n",
    "my_list = [\"aaa\",\"bbb\",\"ccc\",\"ddd\",\"eee\"]\n",
    "print(my_list)\n",
    "\n",
    "# tuple type\n",
    "my_tuple = (\"aaa\",\"bbb\",\"ccc\",\"ddd\",\"eee\")\n",
    "print(my_tuple)\n",
    "\n",
    "#dictionary type\n",
    "my_dictionary = {\"name\":\"nandan\",\"domain\":\"DevOps Engineer\"}\n",
    "print(my_dictionary)"
   ]
  },
  {
   "cell_type": "code",
   "execution_count": 13,
   "metadata": {},
   "outputs": [
    {
     "name": "stdout",
     "output_type": "stream",
     "text": [
      "a\n",
      "b\n",
      "c\n"
     ]
    }
   ],
   "source": [
    "#Assigning multiple values \n",
    "\n",
    "x, y, z = \"a\", \"b\", \"c\"\n",
    "\n",
    "print(x)\n",
    "print(y)\n",
    "print(z)"
   ]
  },
  {
   "cell_type": "code",
   "execution_count": 14,
   "metadata": {},
   "outputs": [
    {
     "name": "stdout",
     "output_type": "stream",
     "text": [
      "Global Variable\n",
      "Local Variable\n"
     ]
    }
   ],
   "source": [
    "# Global Variables\n",
    "\n",
    "x = \"Global Variable\"\n",
    "\n",
    "def myFunction():\n",
    "  x= \"Local Variable\"\n",
    "  print(x) # printing local variable\n",
    "  \n",
    "print(x) # Printing Global Variable\n",
    "myFunction()"
   ]
  },
  {
   "attachments": {},
   "cell_type": "markdown",
   "metadata": {},
   "source": [
    "## Python Comments\n",
    "- Single line comment - \"# data here\"\n",
    "- Multi line comment - \"\"\" data here \"\"\""
   ]
  },
  {
   "cell_type": "code",
   "execution_count": 12,
   "metadata": {},
   "outputs": [
    {
     "name": "stdout",
     "output_type": "stream",
     "text": [
      "10\n",
      "10\n"
     ]
    }
   ],
   "source": [
    "# single line comment\n",
    "x = 10\n",
    "print(x)\n",
    "\n",
    "\"\"\"\n",
    "Multi\n",
    "Line\n",
    "Comment\n",
    "\"\"\"\n",
    "print(x)"
   ]
  },
  {
   "attachments": {},
   "cell_type": "markdown",
   "metadata": {},
   "source": [
    "## Python Numbers\n",
    "- int - 1,2....\n",
    "- float - 1.1, 2.2, ..... \n",
    "- complex - 1j, 1+2j,.... "
   ]
  },
  {
   "cell_type": "code",
   "execution_count": 18,
   "metadata": {},
   "outputs": [
    {
     "name": "stdout",
     "output_type": "stream",
     "text": [
      "a  10 <class 'int'>\n",
      "b  10.2 <class 'float'>\n",
      "c  10 <class 'complex'>\n"
     ]
    }
   ],
   "source": [
    "a = 10\n",
    "b = 10.2\n",
    "c = 10+1j\n",
    "\n",
    "print(\"a \",a,type(a))\n",
    "print(\"b \",b,type(b))\n",
    "print(\"c \",a,type(c))"
   ]
  },
  {
   "attachments": {},
   "cell_type": "markdown",
   "metadata": {},
   "source": [
    "## Random Number Generation"
   ]
  },
  {
   "cell_type": "code",
   "execution_count": 23,
   "metadata": {},
   "outputs": [
    {
     "name": "stdout",
     "output_type": "stream",
     "text": [
      "The random number is  134\n"
     ]
    }
   ],
   "source": [
    "import random as rd\n",
    "\n",
    "x = rd.randrange(0,200, 2)\n",
    "print(\"The random number is \",x)"
   ]
  },
  {
   "attachments": {},
   "cell_type": "markdown",
   "metadata": {},
   "source": [
    "## Python Type Casting\n",
    "- Type casting, also known as type conversion, is the process of converting a variable from one data type to another data type in Python. "
   ]
  },
  {
   "cell_type": "code",
   "execution_count": 24,
   "metadata": {},
   "outputs": [
    {
     "name": "stdout",
     "output_type": "stream",
     "text": [
      "10\n",
      "10.0\n",
      "True\n",
      "True\n"
     ]
    }
   ],
   "source": [
    "# convert a string to an integer\n",
    "x = \"10\"\n",
    "y = int(x)\n",
    "print(y)  # output: 10\n",
    "\n",
    "# convert an integer to a float\n",
    "x = 10\n",
    "y = float(x)\n",
    "print(y)  # output: 10.0\n",
    "\n",
    "# convert a boolean to a string\n",
    "x = True\n",
    "y = str(x)\n",
    "print(y)  # output: \"True\"\n",
    "\n",
    "# convert a string to a boolean\n",
    "x = \"True\"\n",
    "y = bool(x)\n",
    "print(y)  # output: True"
   ]
  },
  {
   "cell_type": "code",
   "execution_count": null,
   "metadata": {},
   "outputs": [],
   "source": []
  }
 ],
 "metadata": {
  "kernelspec": {
   "display_name": "base",
   "language": "python",
   "name": "python3"
  },
  "language_info": {
   "codemirror_mode": {
    "name": "ipython",
    "version": 3
   },
   "file_extension": ".py",
   "mimetype": "text/x-python",
   "name": "python",
   "nbconvert_exporter": "python",
   "pygments_lexer": "ipython3",
   "version": "3.9.13"
  },
  "orig_nbformat": 4
 },
 "nbformat": 4,
 "nbformat_minor": 2
}
