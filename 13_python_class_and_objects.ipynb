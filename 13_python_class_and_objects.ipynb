{
 "cells": [
  {
   "attachments": {},
   "cell_type": "markdown",
   "metadata": {},
   "source": [
    "## OOPS Concepts\n",
    "\n",
    "\n",
    "**Important Message**\n",
    "\n",
    "- 🔰 Notes Link - [Python Learning From Zero to Hero](https://gnnandan.notion.site/Python-Learning-b3aa7ed958fd44659aa1be95f0f225a6)\n",
    "- 🔰 Open Source Developers Community Link (OSDC) - [Curious Developers Community](https://linktr.ee/curiousdevelopers.community) \n",
    "- 🔰 Official Website - [Curious Community Ecosystem](https://curiousdevelopers.in)"
   ]
  },
  {
   "cell_type": "code",
   "execution_count": 3,
   "metadata": {},
   "outputs": [
    {
     "name": "stdout",
     "output_type": "stream",
     "text": [
      "Person 1's Information ABC, abc@gmail.com and 1234567890\n",
      "Person 2's Information XYZ, xyz@gmail.com and 1234567890\n"
     ]
    }
   ],
   "source": [
    "# creating a class\n",
    "class information:\n",
    "  name = \"\"\n",
    "  email = \"\"\n",
    "  phone = \"\"\n",
    "  domain = \"\"\n",
    "\n",
    "# object creation\n",
    "person1 = information()\n",
    "person1.name = \"ABC\"\n",
    "person1.email = \"abc@gmail.com\"\n",
    "person1.phone = \"1234567890\"\n",
    "\n",
    "# object creation\n",
    "person2 = information()\n",
    "person2.name = \"XYZ\"\n",
    "person2.email = \"xyz@gmail.com\"\n",
    "person2.phone = \"1234567890\"\n",
    "\n",
    "# printing the information\n",
    "print(\"Person 1's Information {}, {} and {}\".format(person1.name, person1.email, person1.phone))\n",
    "print(\"Person 2's Information {}, {} and {}\".format(person2.name, person2.email, person2.phone))\n",
    "  "
   ]
  },
  {
   "cell_type": "code",
   "execution_count": null,
   "metadata": {},
   "outputs": [],
   "source": [
    "class animals:\n",
    "  def __init__(self,isPetAnimal):\n",
    "    self.isPetAnimal = isPetAnimal\n",
    "    \n",
    "  def confirm(self):\n",
    "    print(f\"{self.isPetAnimal} is a pet animal and, we can keep in home\")\n",
    "\n",
    "animalType = \"dog\"\n",
    "dog = animals(animalType)\n",
    "dog.confirm()\n",
    "\n",
    "animalType = \"cat\"\n",
    "cat = animals(animalType)\n",
    "cat.confirm()"
   ]
  },
  {
   "attachments": {},
   "cell_type": "markdown",
   "metadata": {},
   "source": [
    "## Important Points\n",
    "1. __init__() - > All classes have a function called __init__(), which is always executed when the class is being initiated\n",
    "2. self - > The self parameter is a reference to the current instance of the class, and is used to access variables that belongs to the class and It does not have to be named self, you can call it whatever you like"
   ]
  },
  {
   "cell_type": "code",
   "execution_count": 11,
   "metadata": {},
   "outputs": [
    {
     "name": "stdout",
     "output_type": "stream",
     "text": [
      "Authenticator failed to authenticate, Please try again...\n",
      "Authenticator Succeed\n"
     ]
    },
    {
     "data": {
      "text/plain": [
       "'\\nAuthenticator failed to authenticate, Please try again...\\nAuthenticator Succeed\\n'"
      ]
     },
     "execution_count": 11,
     "metadata": {},
     "output_type": "execute_result"
    }
   ],
   "source": [
    "# example\n",
    "\n",
    "class authenticator:\n",
    "  def __init__(self, username, password):\n",
    "    self.username = username\n",
    "    self.password = password\n",
    "    if(username == \"Nandan\" and password == \"abc\"):\n",
    "      print(\"Authenticator Succeed\")\n",
    "    else:\n",
    "      print(\"Authenticator failed to authenticate, Please try again...\")\n",
    "\n",
    "\n",
    "loginAttempt1 = authenticator(username=\"nandan\",password=\"abcde\")\n",
    "loginAttempt2 = authenticator(username=\"Nandan\",password=\"abc\")\n",
    "\n",
    "\n",
    "\"\"\"\n",
    "Authenticator failed to authenticate, Please try again...\n",
    "Authenticator Succeed\n",
    "\"\"\""
   ]
  },
  {
   "cell_type": "code",
   "execution_count": 17,
   "metadata": {},
   "outputs": [
    {
     "name": "stdout",
     "output_type": "stream",
     "text": [
      "Authenticator failed to authenticate, Please try again...\n",
      "Authenticator Succeed\n"
     ]
    }
   ],
   "source": [
    "class authenticator:\n",
    "  def __init__(self, username, password):\n",
    "    self.username = username\n",
    "    self.password = password\n",
    "  \n",
    "  # dedicated method belongs to class \"Authenticator\"\n",
    "  def validationProcess(self):\n",
    "    if(self.username == \"Nandan\" and self.password == \"abc\"):\n",
    "      print(\"Authenticator Succeed\")\n",
    "    else:\n",
    "      print(\"Authenticator failed to authenticate, Please try again...\")\n",
    "\n",
    "\n",
    "loginAttempt1 = authenticator(username=\"nandan\",password=\"abcde\")\n",
    "# calling dedicated method with referenceVariable \"loginAttempt1\" that belongs to class \"Authenticator\"\n",
    "loginAttempt1.validationProcess()\n",
    "\n",
    "loginAttempt2 = authenticator(username=\"Nandan\",password=\"abc\")\n",
    "# calling dedicated method with referenceVariable \"loginAttempt2\" that belongs to class \"Authenticator\"\n",
    "loginAttempt2.validationProcess()\n",
    "\n",
    "\"\"\"\n",
    "Authenticator failed to authenticate, Please try again...\n",
    "Authenticator Succeed\n",
    "\"\"\""
   ]
  },
  {
   "attachments": {},
   "cell_type": "markdown",
   "metadata": {},
   "source": [
    "## A real world example"
   ]
  },
  {
   "cell_type": "code",
   "execution_count": 27,
   "metadata": {},
   "outputs": [
    {
     "name": "stdout",
     "output_type": "stream",
     "text": [
      "Password is invalid\n"
     ]
    },
    {
     "data": {
      "text/plain": [
       "'\\nAttempt 1\\n=========================\\nAuthenticator Succeed\\nTest True\\nEmail is valid\\nYour name Nandan and Your email nandangn.10@gmail.com is saved in database successfully\\nThank You\\n\\nAttempt 2\\n=========================\\nInvalid username and Invalid password\\n\\nPlease try other scenarious like invalid mail and valid mail\\n\\n'"
      ]
     },
     "execution_count": 27,
     "metadata": {},
     "output_type": "execute_result"
    }
   ],
   "source": [
    "# enhanced version of the password validator\n",
    "class password_validator:\n",
    "  def __init__(self, username, password):\n",
    "    self.username = username\n",
    "    self.password = password\n",
    "    \n",
    "  def validator(self):\n",
    "    if(self.username != \"Nandan\" and self.password != \"abc\"):\n",
    "      print(\"Invalid username and Invalid password\")\n",
    "    elif(self.username == \"Nandan\" and self.password != \"abc\"):\n",
    "      print(\"Password is invalid\")\n",
    "    else:\n",
    "      print(\"Authenticator Succeed\")\n",
    "      name = str(input(\"Enter your name: \"))\n",
    "      email = str(input(\"Enter your email: \"))\n",
    "      if('@' in email):\n",
    "        print(\"Test True\")\n",
    "        print(\"Email is valid\")\n",
    "        print(f\"Your name {name} and Your email {email} is saved in database successfully\")\n",
    "        print(\"Thank You\") \n",
    "      else:\n",
    "        print(\"Email is invalid\")\n",
    "\n",
    "# attempt 1 \n",
    "# loginAttempt1 = password_validator(username=\"Nandan\",password=\"abc\")\n",
    "# loginAttempt1.validator()\n",
    "\n",
    "# attempt 2\n",
    "loginAttempt2 = password_validator(username=\"Nandan\",password=\"abcd\")\n",
    "loginAttempt2.validator()\n",
    "\n",
    "\"\"\"\n",
    "Attempt 1\n",
    "=========================\n",
    "Authenticator Succeed\n",
    "Test True\n",
    "Email is valid\n",
    "Your name Nandan and Your email nandangn.10@gmail.com is saved in database successfully\n",
    "Thank You\n",
    "\n",
    "Attempt 2\n",
    "=========================\n",
    "Invalid username and Invalid password\n",
    "\n",
    "Please try other scenarious like invalid mail and valid mail\n",
    "\n",
    "\"\"\""
   ]
  },
  {
   "cell_type": "code",
   "execution_count": 59,
   "metadata": {},
   "outputs": [
    {
     "name": "stdout",
     "output_type": "stream",
     "text": [
      "Employee Id/Name: test is not existed\n"
     ]
    },
    {
     "data": {
      "text/plain": [
       "\"\\nAttempt 1\\n======================\\nEnter the search type, Search by name/id - id\\nEnter the employee id - CE-CDC&CT01\\nEmployee Id CE-CDC&CT01 is existed and the Employee Name is -  Nandan\\n\\n\\nAttempt 2\\n======================\\nEnter the search type, Search by name/id - name\\nEnter the employee id - Nandan\\nThe Nandan's id is - CE-CDC&CT01\\n\\n\\n\\n\\n\""
      ]
     },
     "execution_count": 59,
     "metadata": {},
     "output_type": "execute_result"
    }
   ],
   "source": [
    "class findEmployee:\n",
    "  def __init__(self, inputType):\n",
    "    self.inputType = inputType\n",
    "  \n",
    "  # common method that returns a list of employees\n",
    "  def empList():\n",
    "    return {\"CE-CDC&CT01\":\"Nandan\",\"CE-CT02\":\"Yashas\",\"CE-CT03\":\"Ganesh\",\"CE-CDC04\":\"Shanvi\",\"CE-CDC05\":\"Sangeeta\",\"CE-CDC06\":\"Abhishek\",\"CE-CDC07\":\"Ayush Agarwal\"}\n",
    "  \n",
    "  def findingLogic(self):\n",
    "    data = findEmployee.empList()\n",
    "    if(self.inputType in data.keys()):\n",
    "      print(f\"Employee Id {self.inputType} is existed and the Employee Name is - \",data[self.inputType]) \n",
    "    elif(self.inputType in data.values()):\n",
    "      inputEmployeeName = self.inputType\n",
    "      for employeeId, employeeName in data.items():\n",
    "        if(employeeName == inputEmployeeName):\n",
    "          print(f\"The {inputEmployeeName}'s id is - {employeeId}\")\n",
    "    else:\n",
    "      print(f\"Employee Id/Name: {self.inputType} is not existed\")\n",
    "\n",
    "selection =  str(input(\"Enter the search type, Search by name/id - \"))\n",
    "if(selection.lower() == \"id\"):\n",
    "  idInput = input(\"Enter the employee id -\")\n",
    "  test1 = findEmployee(idInput)  \n",
    "  test1.findingLogic()\n",
    "else:\n",
    "  idInput = input(\"Enter the employee name -\")\n",
    "  test1 = findEmployee(idInput)  \n",
    "  test1.findingLogic()\n",
    "  \n",
    "\"\"\"\n",
    "Attempt 1\n",
    "======================\n",
    "Enter the search type, Search by name/id - id\n",
    "Enter the employee id - CE-CDC&CT01\n",
    "Employee Id CE-CDC&CT01 is existed and the Employee Name is -  Nandan\n",
    "\n",
    "Attempt 2\n",
    "======================\n",
    "Enter the search type, Search by name/id - name\n",
    "Enter the employee id - Nandan\n",
    "The Nandan's id is - CE-CDC&CT01\n",
    "\n",
    "Attempt 3\n",
    "======================\n",
    "Enter the search type, Search by name/id - name\n",
    "Enter the employee id - Nandan\n",
    "Employee Id/Name: test is not existed\n",
    "\"\"\""
   ]
  },
  {
   "attachments": {},
   "cell_type": "markdown",
   "metadata": {},
   "source": [
    "## Inheritance In Python\n",
    "\n",
    "- Inheritance is a process of a class acquiring the properties(variables) and behavior (methods) from the other class.\n",
    "    - **Parent class** is the class being inherited from, also called base class.\n",
    "    - **Child class** is the class that inherits from another class, also called derived class."
   ]
  },
  {
   "cell_type": "code",
   "execution_count": 1,
   "metadata": {},
   "outputs": [
    {
     "name": "stdout",
     "output_type": "stream",
     "text": [
      "Nandan G N's family staying in Bangalore and they are pure vegetarian\n"
     ]
    },
    {
     "data": {
      "text/plain": [
       "\"\\nNandan G N's family staying in Bangalore and they are pure vegetarian\\n\""
      ]
     },
     "execution_count": 1,
     "metadata": {},
     "output_type": "execute_result"
    }
   ],
   "source": [
    "# example\n",
    "\n",
    "class parentClass: #parent class\n",
    "  \n",
    "  # attributes and methoda of the parent class\n",
    "  personName = \"\"\n",
    "  familyName = \"\"\n",
    "  resident  =\"\"\n",
    "  \n",
    "  def foodStyle(self): #method of a parent class\n",
    "    print(\"Specifying in child/base class\")\n",
    "    \n",
    "class childClass(parentClass):  #child class\n",
    "  def foodStyle(self, personName, familyName): #method overriding\n",
    "    self.personName = personName\n",
    "    self.familyName = familyName\n",
    "    \n",
    "    # accessing parentclass variables\n",
    "    livingPlace = self.resident\n",
    "    print(f\"{self.personName} {self.familyName}'s family staying in {livingPlace} and they are pure vegetarian\")\n",
    "      \n",
    "\n",
    "# creating an object to child class\n",
    "\n",
    "nandan = childClass()\n",
    "nandan.resident = \"Bangalore\"\n",
    "nandan.foodStyle(\"Nandan\", \"G N\")\n",
    "\n",
    "\"\"\"\n",
    "Nandan G N's family staying in Bangalore and they are pure vegetarian\n",
    "\"\"\""
   ]
  },
  {
   "attachments": {},
   "cell_type": "markdown",
   "metadata": {},
   "source": [
    "## Super()\n",
    "- super() -> that makes child class inherits all the methods and attributes(prorperties/variables) from its parent class"
   ]
  },
  {
   "cell_type": "code",
   "execution_count": 47,
   "metadata": {},
   "outputs": [
    {
     "name": "stdout",
     "output_type": "stream",
     "text": [
      "Hello My name is  Nandan\n",
      "Hello, My name is Nandan, my age is 23 and I'm from Bangalore\n"
     ]
    }
   ],
   "source": [
    "class parent:\n",
    "  def __init__(self,name):\n",
    "    self.name = name\n",
    "    \n",
    "  def greet(self):\n",
    "    print(\"Hello My name is \", self.name)\n",
    "    \n",
    "class child(parent):\n",
    "  def __init__(self,name, age, place):\n",
    "    # lets inherit the properties and methods from parent class\n",
    "    super().__init__(name)\n",
    "    # The self parameter is a reference to the current instance of the class\n",
    "    self.age = age\n",
    "    self.place = place\n",
    "    \n",
    "  def greet(self):\n",
    "    super().greet() #calling parent class method\n",
    "    print(f\"Hello, My name is {self.name}, my age is {self.age} and I'm from {self.place}\")\n",
    "    \n",
    "person1 = child(\"Nandan\",23,\"Bangalore\")\n",
    "person1.greet()\n",
    "\n",
    "\"\"\"\n",
    "Hello My name is  Nandan\n",
    "Hello, My name is Nandan, my age is 23 and I'm from Bangalore\n",
    "\"\"\""
   ]
  },
  {
   "cell_type": "code",
   "execution_count": 41,
   "metadata": {},
   "outputs": [
    {
     "name": "stdout",
     "output_type": "stream",
     "text": [
      "Object 1\n",
      "Car = TATA\n",
      "Subbrand = Nexon\n",
      "Color = Black\n",
      "isElectric = True\n",
      "Object 2\n",
      "Car = TESLA\n",
      "Subbrand = Model S\n",
      "Color = red\n",
      "isElectric = isElectric\n"
     ]
    }
   ],
   "source": [
    "class car: #parent class\n",
    "  \n",
    "  # parenr class attributes and methods\n",
    "  def __init__(self,brand, subbrand, color):\n",
    "    self.brand = brand\n",
    "    self.subbrand = subbrand\n",
    "    self.color = color\n",
    "  \n",
    "  # parenr class methods\n",
    "  def checkCarType(self):\n",
    "    print(self.brand, self.subbrand, self.color)\n",
    "    \n",
    "class tata(car): #child class 1\n",
    "  \n",
    "  \"\"\"Child class is taking another attribute called isELectric\"\"\"\n",
    "  def __init__(self,brand, subbrand, color, isElectric):\n",
    "    \n",
    "    \"\"\"super() -> that makes child class inherits all the methods and attributes(prorperties/variables) from its parent class\"\"\"\n",
    "    super().__init__(brand,subbrand,color)\n",
    "    self.isElectric = isElectric\n",
    "    print(f\"Car = {self.brand}\\nSubbrand = {self.subbrand}\\nColor = {self.color}\\nisElectric = {self.isElectric}\")\n",
    "    \n",
    "class tesla(car):\n",
    "  def __init__(self,brand, subbrand, color, isElectric):\n",
    "    \"\"\"super() -> that makes child class inherits all the methods and attributes(prorperties/variables) from its parent class\"\"\"\n",
    "    super().__init__(brand,subbrand,color)\n",
    "    self.isElectric = isElectric\n",
    "    print(f\"Car = {self.brand}\\nSubbrand = {self.subbrand}\\nColor = {self.color}\\nisElectric = {self.isElectric}\")\n",
    "\n",
    "\n",
    "print(\"Object 1\")\n",
    "\n",
    "isElectric = True\n",
    "nexon = tata(\"TATA\", \"Nexon\",\"Black\",isElectric)\n",
    "\n",
    "print(\"Object 2\")\n",
    "model_s = tesla(\"TESLA\", \"Model S\",\"red\",\"isElectric\")\n",
    "\n",
    "\"\"\"\n",
    "Object 1\n",
    "Car = TATA\n",
    "Subbrand = Nexon\n",
    "Color = Black\n",
    "isElectric = True\n",
    "Object 2\n",
    "Car = TESLA\n",
    "Subbrand = Model S\n",
    "Color = red\n",
    "isElectric = isElectric\n",
    "\"\"\""
   ]
  },
  {
   "attachments": {},
   "cell_type": "markdown",
   "metadata": {},
   "source": [
    "## Types Of Inheriance\n",
    "1. Singlelevel Inheritance\n",
    "2. Multiple Inheritance\n",
    "3. Multilevel Inheritance \n",
    "4. Hierarchial Inheritance\n",
    "5. Hybrid Inheritance"
   ]
  },
  {
   "cell_type": "code",
   "execution_count": null,
   "metadata": {},
   "outputs": [],
   "source": []
  },
  {
   "cell_type": "code",
   "execution_count": 48,
   "metadata": {},
   "outputs": [
    {
     "name": "stdout",
     "output_type": "stream",
     "text": [
      "Parent Class - Inside Vehicle Info Class\n",
      "Child Class - Inside Car Info Class\n"
     ]
    }
   ],
   "source": [
    "# single level inheritance\n",
    "class vehicle:\n",
    "  def vehicleInfo(self):\n",
    "    print(\"Parent Class - Inside Vehicle Info Class\")\n",
    "    \n",
    "class car(vehicle):\n",
    "  def carInfo(self):\n",
    "    print(\"Child Class - Inside Car Info Class\")\n",
    "\n",
    "# object creation\n",
    "\n",
    "c = car()\n",
    "\n",
    "c.vehicleInfo()\n",
    "c.carInfo()"
   ]
  },
  {
   "cell_type": "code",
   "execution_count": null,
   "metadata": {},
   "outputs": [],
   "source": []
  }
 ],
 "metadata": {
  "kernelspec": {
   "display_name": "base",
   "language": "python",
   "name": "python3"
  },
  "language_info": {
   "codemirror_mode": {
    "name": "ipython",
    "version": 3
   },
   "file_extension": ".py",
   "mimetype": "text/x-python",
   "name": "python",
   "nbconvert_exporter": "python",
   "pygments_lexer": "ipython3",
   "version": "3.9.13"
  },
  "orig_nbformat": 4,
  "vscode": {
   "interpreter": {
    "hash": "e4cce46d6be9934fbd27f9ca0432556941ea5bdf741d4f4d64c6cd7f8dfa8fba"
   }
  }
 },
 "nbformat": 4,
 "nbformat_minor": 2
}
